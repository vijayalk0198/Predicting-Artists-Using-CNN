{
  "nbformat": 4,
  "nbformat_minor": 0,
  "metadata": {
    "colab": {
      "provenance": [],
      "machine_shape": "hm"
    },
    "kernelspec": {
      "name": "python3",
      "display_name": "Python 3"
    },
    "language_info": {
      "name": "python"
    },
    "accelerator": "GPU",
    "gpuClass": "premium"
  },
  "cells": [
    {
      "cell_type": "code",
      "execution_count": null,
      "metadata": {
        "id": "lRx3c8gpqQko"
      },
      "outputs": [],
      "source": [
        "import numpy as np \n",
        "import pandas as pd \n",
        "import seaborn as sns\n",
        "import matplotlib.pyplot as plt\n",
        "import os\n",
        "from scipy.stats import pearsonr\n",
        "import random\n",
        "import torch\n",
        "import torchvision.transforms.functional as TF\n",
        "import torchvision.transforms as transforms\n",
        "from PIL import Image\n",
        "import pathlib\n",
        "import tensorflow as tf\n",
        "import numpy as np\n",
        "import pandas as pd\n",
        "import os\n",
        "import PIL\n",
        "from tensorflow import keras\n",
        "from tensorflow.keras import layers\n",
        "from tensorflow.keras.models import Sequential\n",
        "from tensorflow.keras.layers import Dense, Dropout, Flatten, Conv2D, MaxPooling2D\n",
        "import glob\n",
        "import torchvision\n",
        "from torchvision import transforms\n",
        "from torch.utils.data import random_split, DataLoader\n",
        "import torch.nn as nn\n",
        "import torch.optim as optim\n",
        "import time\n",
        "from tensorflow.keras.callbacks import EarlyStopping\n",
        "from sklearn.metrics import classification_report\n",
        "from sklearn.metrics import precision_score\n",
        "from sklearn.metrics import f1_score\n",
        "from sklearn.metrics import recall_score"
      ]
    },
    {
      "cell_type": "code",
      "source": [
        "from google.colab import drive\n",
        "drive.mount('/content/drive')\n",
        "%cd /content/drive/MyDrive/"
      ],
      "metadata": {
        "colab": {
          "base_uri": "https://localhost:8080/"
        },
        "id": "fSm8pJL7qVkX",
        "outputId": "4dabd795-ac6b-4b63-fcac-19e50e72ff5d"
      },
      "execution_count": null,
      "outputs": [
        {
          "output_type": "stream",
          "name": "stdout",
          "text": [
            "Mounted at /content/drive\n",
            "/content/drive/MyDrive\n"
          ]
        }
      ]
    },
    {
      "cell_type": "code",
      "source": [
        "data_dir = pathlib.Path('images/images')"
      ],
      "metadata": {
        "id": "nG-tndDlqXfd"
      },
      "execution_count": null,
      "outputs": []
    },
    {
      "cell_type": "code",
      "source": [
        "artist_df = pd.read_csv('artists.csv')"
      ],
      "metadata": {
        "id": "13ofdT-MqZQF"
      },
      "execution_count": null,
      "outputs": []
    },
    {
      "cell_type": "code",
      "source": [
        "batch_size = 32\n",
        "img_height, img_width = 224, 224\n",
        "artists_names= sorted(artist_df['name'].str.replace(' ', '_').tolist())\n",
        "\n",
        "train_ds = tf.keras.preprocessing.image_dataset_from_directory(\n",
        "    data_dir, \n",
        "    validation_split=0.1, \n",
        "    seed=123,\n",
        "    subset='training',\n",
        "    image_size=(img_height, img_width), \n",
        "    batch_size=batch_size\n",
        ")\n",
        "\n",
        "val_ds = tf.keras.preprocessing.image_dataset_from_directory(\n",
        "    data_dir, \n",
        "    validation_split=0.1, \n",
        "    seed=123,\n",
        "    subset='validation', \n",
        "    image_size=(img_height, img_width), \n",
        "    batch_size=batch_size\n",
        ")"
      ],
      "metadata": {
        "colab": {
          "base_uri": "https://localhost:8080/"
        },
        "id": "BVy98cNJqbNy",
        "outputId": "b8262402-7f96-489f-c723-8ced751564fd"
      },
      "execution_count": null,
      "outputs": [
        {
          "output_type": "stream",
          "name": "stdout",
          "text": [
            "Found 8461 files belonging to 50 classes.\n",
            "Using 7615 files for training.\n",
            "Found 8461 files belonging to 50 classes.\n",
            "Using 846 files for validation.\n"
          ]
        }
      ]
    },
    {
      "cell_type": "code",
      "source": [
        "num_classes = 50\n",
        "input_shape = (batch_size, img_height, img_width, 3)\n",
        "model = Sequential()\n",
        "model.add(tf.keras.layers.experimental.preprocessing.Rescaling(scale=1./255,input_shape=(img_height, img_width, 3)))\n",
        "model.add(Conv2D(32, kernel_size=(3, 3), activation='relu'))\n",
        "model.add(MaxPooling2D(pool_size=(2, 2)))\n",
        "model.add(Conv2D(64, kernel_size=(3, 3), activation='relu'))\n",
        "model.add(MaxPooling2D(pool_size=(2, 2)))\n",
        "model.add(Conv2D(128, kernel_size=(3, 3), activation='relu'))\n",
        "model.add(MaxPooling2D(pool_size=(2, 2)))\n",
        "model.add(Conv2D(256, kernel_size=(3, 3), activation='relu'))\n",
        "model.add(MaxPooling2D(pool_size=(2, 2)))\n",
        "model.add(Flatten())\n",
        "model.add(Dense(512, activation='relu')) \n",
        "model.add(Dropout(0.3))\n",
        "model.add(Dense(num_classes, activation='softmax'))\n",
        "model.build(input_shape)\n",
        "model.summary()"
      ],
      "metadata": {
        "colab": {
          "base_uri": "https://localhost:8080/"
        },
        "id": "J-Lknp6JqfO1",
        "outputId": "493b66f4-4728-444f-81c4-487b9bf90be1"
      },
      "execution_count": null,
      "outputs": [
        {
          "output_type": "stream",
          "name": "stdout",
          "text": [
            "Model: \"sequential\"\n",
            "_________________________________________________________________\n",
            " Layer (type)                Output Shape              Param #   \n",
            "=================================================================\n",
            " rescaling (Rescaling)       (None, 224, 224, 3)       0         \n",
            "                                                                 \n",
            " conv2d (Conv2D)             (None, 222, 222, 32)      896       \n",
            "                                                                 \n",
            " max_pooling2d (MaxPooling2D  (None, 111, 111, 32)     0         \n",
            " )                                                               \n",
            "                                                                 \n",
            " conv2d_1 (Conv2D)           (None, 109, 109, 64)      18496     \n",
            "                                                                 \n",
            " max_pooling2d_1 (MaxPooling  (None, 54, 54, 64)       0         \n",
            " 2D)                                                             \n",
            "                                                                 \n",
            " conv2d_2 (Conv2D)           (None, 52, 52, 128)       73856     \n",
            "                                                                 \n",
            " max_pooling2d_2 (MaxPooling  (None, 26, 26, 128)      0         \n",
            " 2D)                                                             \n",
            "                                                                 \n",
            " conv2d_3 (Conv2D)           (None, 24, 24, 256)       295168    \n",
            "                                                                 \n",
            " max_pooling2d_3 (MaxPooling  (None, 12, 12, 256)      0         \n",
            " 2D)                                                             \n",
            "                                                                 \n",
            " flatten (Flatten)           (None, 36864)             0         \n",
            "                                                                 \n",
            " dense (Dense)               (None, 512)               18874880  \n",
            "                                                                 \n",
            " dropout (Dropout)           (None, 512)               0         \n",
            "                                                                 \n",
            " dense_1 (Dense)             (None, 50)                25650     \n",
            "                                                                 \n",
            "=================================================================\n",
            "Total params: 19,288,946\n",
            "Trainable params: 19,288,946\n",
            "Non-trainable params: 0\n",
            "_________________________________________________________________\n"
          ]
        }
      ]
    },
    {
      "cell_type": "code",
      "source": [
        "model.compile(optimizer='adam', loss='sparse_categorical_crossentropy', metrics=['accuracy'])\n",
        "#early_stop = EarlyStopping(monitor='val_loss', patience=10)\n",
        "num_epochs = 50\n",
        "start_time = time.time()\n",
        "model_history = model.fit(\n",
        "    train_ds,\n",
        "    validation_data=val_ds,\n",
        "    epochs=num_epochs,\n",
        "    #callbacks=[early_stop]\n",
        ")\n",
        "end_time = time.time()\n",
        "training_time = end_time - start_time\n",
        "\n",
        "loss, accuracy = model.evaluate(val_ds)\n",
        "print(f'Validation accuracy: {accuracy}')\n",
        "print(f'Validation loss: {loss:.4f}')\n",
        "training_time_minutes = round(training_time / 60, 2)\n",
        "print(f\"Training time: {training_time_minutes} minutes\")"
      ],
      "metadata": {
        "colab": {
          "base_uri": "https://localhost:8080/"
        },
        "id": "uWF0wY9LqgCF",
        "outputId": "ea5087ce-b96d-4701-caee-615146d8770a"
      },
      "execution_count": null,
      "outputs": [
        {
          "output_type": "stream",
          "name": "stdout",
          "text": [
            "Epoch 1/50\n",
            "238/238 [==============================] - 342s 1s/step - loss: 3.4174 - accuracy: 0.1539 - val_loss: 3.0538 - val_accuracy: 0.2009\n",
            "Epoch 2/50\n",
            "238/238 [==============================] - 14s 55ms/step - loss: 2.9792 - accuracy: 0.2332 - val_loss: 2.8925 - val_accuracy: 0.2423\n",
            "Epoch 3/50\n",
            "238/238 [==============================] - 13s 55ms/step - loss: 2.7231 - accuracy: 0.2821 - val_loss: 2.6448 - val_accuracy: 0.3038\n",
            "Epoch 4/50\n",
            "238/238 [==============================] - 13s 54ms/step - loss: 2.4896 - accuracy: 0.3346 - val_loss: 2.5573 - val_accuracy: 0.3286\n",
            "Epoch 5/50\n",
            "238/238 [==============================] - 13s 55ms/step - loss: 2.1958 - accuracy: 0.3991 - val_loss: 2.4897 - val_accuracy: 0.3274\n",
            "Epoch 6/50\n",
            "238/238 [==============================] - 13s 55ms/step - loss: 1.8158 - accuracy: 0.4930 - val_loss: 2.6514 - val_accuracy: 0.3262\n",
            "Epoch 7/50\n",
            "238/238 [==============================] - 14s 56ms/step - loss: 1.4120 - accuracy: 0.5929 - val_loss: 2.6504 - val_accuracy: 0.3723\n",
            "Epoch 8/50\n",
            "238/238 [==============================] - 14s 55ms/step - loss: 1.0150 - accuracy: 0.6963 - val_loss: 3.1396 - val_accuracy: 0.3700\n",
            "Epoch 9/50\n",
            "238/238 [==============================] - 13s 54ms/step - loss: 0.7311 - accuracy: 0.7787 - val_loss: 3.5831 - val_accuracy: 0.3700\n",
            "Epoch 10/50\n",
            "238/238 [==============================] - 13s 55ms/step - loss: 0.5539 - accuracy: 0.8353 - val_loss: 3.7646 - val_accuracy: 0.3511\n",
            "Epoch 11/50\n",
            "238/238 [==============================] - 14s 55ms/step - loss: 0.4136 - accuracy: 0.8756 - val_loss: 4.1217 - val_accuracy: 0.3511\n",
            "Epoch 12/50\n",
            "238/238 [==============================] - 13s 55ms/step - loss: 0.3172 - accuracy: 0.9043 - val_loss: 4.0786 - val_accuracy: 0.3783\n",
            "Epoch 13/50\n",
            "238/238 [==============================] - 13s 55ms/step - loss: 0.2696 - accuracy: 0.9178 - val_loss: 4.2859 - val_accuracy: 0.3664\n",
            "Epoch 14/50\n",
            "238/238 [==============================] - 13s 55ms/step - loss: 0.2328 - accuracy: 0.9297 - val_loss: 4.6195 - val_accuracy: 0.3428\n",
            "Epoch 15/50\n",
            "238/238 [==============================] - 13s 54ms/step - loss: 0.1628 - accuracy: 0.9489 - val_loss: 5.2021 - val_accuracy: 0.3652\n",
            "Epoch 16/50\n",
            "238/238 [==============================] - 13s 55ms/step - loss: 0.1840 - accuracy: 0.9435 - val_loss: 4.5213 - val_accuracy: 0.3570\n",
            "Epoch 17/50\n",
            "238/238 [==============================] - 13s 55ms/step - loss: 0.1512 - accuracy: 0.9534 - val_loss: 4.8422 - val_accuracy: 0.3723\n",
            "Epoch 18/50\n",
            "238/238 [==============================] - 13s 55ms/step - loss: 0.1533 - accuracy: 0.9536 - val_loss: 5.2113 - val_accuracy: 0.3747\n",
            "Epoch 19/50\n",
            "238/238 [==============================] - 13s 55ms/step - loss: 0.1314 - accuracy: 0.9589 - val_loss: 5.1785 - val_accuracy: 0.3865\n",
            "Epoch 20/50\n",
            "238/238 [==============================] - 13s 55ms/step - loss: 0.1599 - accuracy: 0.9519 - val_loss: 5.2216 - val_accuracy: 0.3877\n",
            "Epoch 21/50\n",
            "238/238 [==============================] - 13s 54ms/step - loss: 0.1056 - accuracy: 0.9690 - val_loss: 5.2950 - val_accuracy: 0.3499\n",
            "Epoch 22/50\n",
            "238/238 [==============================] - 14s 55ms/step - loss: 0.1208 - accuracy: 0.9657 - val_loss: 5.8287 - val_accuracy: 0.3735\n",
            "Epoch 23/50\n",
            "238/238 [==============================] - 13s 55ms/step - loss: 0.1160 - accuracy: 0.9643 - val_loss: 5.5646 - val_accuracy: 0.3593\n",
            "Epoch 24/50\n",
            "238/238 [==============================] - 13s 55ms/step - loss: 0.1009 - accuracy: 0.9711 - val_loss: 5.4254 - val_accuracy: 0.3605\n",
            "Epoch 25/50\n",
            "238/238 [==============================] - 13s 55ms/step - loss: 0.1217 - accuracy: 0.9644 - val_loss: 5.6791 - val_accuracy: 0.3664\n",
            "Epoch 26/50\n",
            "238/238 [==============================] - 13s 55ms/step - loss: 0.0946 - accuracy: 0.9744 - val_loss: 5.5894 - val_accuracy: 0.3818\n",
            "Epoch 27/50\n",
            "238/238 [==============================] - 13s 54ms/step - loss: 0.1064 - accuracy: 0.9664 - val_loss: 5.5169 - val_accuracy: 0.3700\n",
            "Epoch 28/50\n",
            "238/238 [==============================] - 13s 55ms/step - loss: 0.0873 - accuracy: 0.9758 - val_loss: 5.6737 - val_accuracy: 0.3652\n",
            "Epoch 29/50\n",
            "238/238 [==============================] - 14s 55ms/step - loss: 0.0867 - accuracy: 0.9758 - val_loss: 5.8451 - val_accuracy: 0.3487\n",
            "Epoch 30/50\n",
            "238/238 [==============================] - 13s 55ms/step - loss: 0.0921 - accuracy: 0.9727 - val_loss: 5.6637 - val_accuracy: 0.3688\n",
            "Epoch 31/50\n",
            "238/238 [==============================] - 13s 54ms/step - loss: 0.0785 - accuracy: 0.9772 - val_loss: 5.9697 - val_accuracy: 0.3771\n",
            "Epoch 32/50\n",
            "238/238 [==============================] - 13s 54ms/step - loss: 0.0948 - accuracy: 0.9732 - val_loss: 5.7459 - val_accuracy: 0.3794\n",
            "Epoch 33/50\n",
            "238/238 [==============================] - 13s 54ms/step - loss: 0.0786 - accuracy: 0.9760 - val_loss: 5.7601 - val_accuracy: 0.3629\n",
            "Epoch 34/50\n",
            "238/238 [==============================] - 13s 54ms/step - loss: 0.0841 - accuracy: 0.9740 - val_loss: 6.0884 - val_accuracy: 0.3723\n",
            "Epoch 35/50\n",
            "238/238 [==============================] - 14s 55ms/step - loss: 0.0711 - accuracy: 0.9777 - val_loss: 5.7389 - val_accuracy: 0.3664\n",
            "Epoch 36/50\n",
            "238/238 [==============================] - 13s 55ms/step - loss: 0.0676 - accuracy: 0.9793 - val_loss: 5.9887 - val_accuracy: 0.3487\n",
            "Epoch 37/50\n",
            "238/238 [==============================] - 13s 55ms/step - loss: 0.0874 - accuracy: 0.9758 - val_loss: 6.0845 - val_accuracy: 0.3641\n",
            "Epoch 38/50\n",
            "238/238 [==============================] - 13s 55ms/step - loss: 0.0622 - accuracy: 0.9831 - val_loss: 6.5560 - val_accuracy: 0.3487\n",
            "Epoch 39/50\n",
            "238/238 [==============================] - 13s 55ms/step - loss: 0.0896 - accuracy: 0.9718 - val_loss: 6.0961 - val_accuracy: 0.3582\n",
            "Epoch 40/50\n",
            "238/238 [==============================] - 13s 55ms/step - loss: 0.0689 - accuracy: 0.9802 - val_loss: 6.6548 - val_accuracy: 0.3357\n",
            "Epoch 41/50\n",
            "238/238 [==============================] - 13s 55ms/step - loss: 0.0737 - accuracy: 0.9790 - val_loss: 6.2766 - val_accuracy: 0.3570\n",
            "Epoch 42/50\n",
            "238/238 [==============================] - 13s 55ms/step - loss: 0.0863 - accuracy: 0.9757 - val_loss: 6.3957 - val_accuracy: 0.3605\n",
            "Epoch 43/50\n",
            "238/238 [==============================] - 13s 54ms/step - loss: 0.0734 - accuracy: 0.9774 - val_loss: 6.6107 - val_accuracy: 0.3440\n",
            "Epoch 44/50\n",
            "238/238 [==============================] - 13s 55ms/step - loss: 0.0851 - accuracy: 0.9761 - val_loss: 6.2232 - val_accuracy: 0.3582\n",
            "Epoch 45/50\n",
            "238/238 [==============================] - 13s 55ms/step - loss: 0.0535 - accuracy: 0.9842 - val_loss: 6.3129 - val_accuracy: 0.3475\n",
            "Epoch 46/50\n",
            "238/238 [==============================] - 14s 55ms/step - loss: 0.0538 - accuracy: 0.9857 - val_loss: 6.0905 - val_accuracy: 0.3676\n",
            "Epoch 47/50\n",
            "238/238 [==============================] - 14s 55ms/step - loss: 0.0575 - accuracy: 0.9823 - val_loss: 6.1897 - val_accuracy: 0.3511\n",
            "Epoch 48/50\n",
            "238/238 [==============================] - 13s 55ms/step - loss: 0.0442 - accuracy: 0.9854 - val_loss: 6.4861 - val_accuracy: 0.3641\n",
            "Epoch 49/50\n",
            "238/238 [==============================] - 13s 55ms/step - loss: 0.0778 - accuracy: 0.9795 - val_loss: 6.3516 - val_accuracy: 0.3593\n",
            "Epoch 50/50\n",
            "238/238 [==============================] - 13s 55ms/step - loss: 0.0688 - accuracy: 0.9821 - val_loss: 6.7031 - val_accuracy: 0.3676\n",
            "27/27 [==============================] - 1s 37ms/step - loss: 6.7031 - accuracy: 0.3676\n",
            "Validation accuracy: 0.3676123023033142\n",
            "Validation loss: 6.7031\n",
            "Training time: 16.69 minutes\n"
          ]
        }
      ]
    },
    {
      "cell_type": "code",
      "source": [
        "fig, (ax1, ax2) = plt.subplots(1, 2, figsize=(10, 4))\n",
        "ax1.plot(model_history.history['accuracy'], linestyle='-', linewidth=2, label='Train Accuracy')\n",
        "ax1.plot(model_history.history['val_accuracy'], linestyle='--', linewidth=2, label='Validation Accuracy')\n",
        "ax1.set_title('Model Accuracy', fontweight='bold')\n",
        "ax1.set_ylabel('Accuracy', fontweight='bold')\n",
        "ax1.set_xlabel('Epoch', fontweight='bold')\n",
        "ax1.legend(loc='upper left')\n",
        "ax2.plot(model_history.history['loss'], linestyle='-', linewidth=2, label='Train Loss')\n",
        "ax2.plot(model_history.history['val_loss'], linestyle='--', linewidth=2, label='Validation Loss')\n",
        "ax2.set_title('Model Loss', fontweight='bold')\n",
        "ax2.set_ylabel('Loss', fontweight='bold')\n",
        "ax2.set_xlabel('Epoch', fontweight='bold')\n",
        "ax2.legend(loc='upper left')\n",
        "plt.show()"
      ],
      "metadata": {
        "colab": {
          "base_uri": "https://localhost:8080/",
          "height": 410
        },
        "id": "mn0Pkqb7qjIq",
        "outputId": "7059d007-fcb9-493a-fa93-768a1b962273"
      },
      "execution_count": null,
      "outputs": [
        {
          "output_type": "display_data",
          "data": {
            "text/plain": [
              "<Figure size 1000x400 with 2 Axes>"
            ],
            "image/png": "[encoded data removed]"
          },
          "metadata": {}
        }
      ]
    },
    {
      "cell_type": "code",
      "source": [
        "val_labels = np.concatenate([y for x, y in val_ds], axis=0)\n",
        "val_class_labels = [val_ds.class_names[label] for label in val_labels]\n",
        "y_pred = model.predict(val_ds) \n",
        "y_pred_classes = np.argmax(y_pred, axis=1) \n",
        "y_pred_classes = y_pred_classes.tolist()\n",
        "\n",
        "artists_names = sorted(artist_df['name'].str.replace(' ', '_').tolist())\n",
        "n_artists = len(artists_names)\n",
        "artist_dict = {}\n",
        "for i in range(n_artists):\n",
        "    artist_dict[i] = artists_names[i]\n",
        "\n",
        "artist_names_pred = [artist_dict[label] for label in y_pred_classes]\n",
        "artist_names_true = val_class_labels\n",
        "\n",
        "print(classification_report(artist_names_true, artist_names_pred, zero_division=0))"
      ],
      "metadata": {
        "colab": {
          "base_uri": "https://localhost:8080/"
        },
        "id": "8jRtLte5qlTS",
        "outputId": "2e2390eb-c215-4321-8eac-5fe16c846002"
      },
      "execution_count": null,
      "outputs": [
        {
          "output_type": "stream",
          "name": "stdout",
          "text": [
            "27/27 [==============================] - 1s 34ms/step\n",
            "                           precision    recall  f1-score   support\n",
            "\n",
            "          Albrecht_Dürer       0.00      0.00      0.00        30\n",
            "           Albrecht_Dürer       0.00      0.00      0.00         0\n",
            "            Alfred_Sisley       0.06      0.04      0.05        24\n",
            "        Amedeo_Modigliani       0.07      0.05      0.06        19\n",
            "            Andrei_Rublev       0.25      0.10      0.14        10\n",
            "              Andy_Warhol       0.00      0.00      0.00        12\n",
            "         Camille_Pissarro       0.00      0.00      0.00        10\n",
            "               Caravaggio       0.00      0.00      0.00         4\n",
            "             Claude_Monet       0.00      0.00      0.00         7\n",
            "             Diego_Rivera       0.00      0.00      0.00         5\n",
            "          Diego_Velazquez       0.00      0.00      0.00        16\n",
            "              Edgar_Degas       0.10      0.08      0.09        72\n",
            "            Edouard_Manet       0.00      0.00      0.00         9\n",
            "             Edvard_Munch       0.00      0.00      0.00         6\n",
            "                 El_Greco       0.00      0.00      0.00        13\n",
            "         Eugene_Delacroix       0.00      0.00      0.00         3\n",
            "           Francisco_Goya       0.00      0.00      0.00        32\n",
            "              Frida_Kahlo       0.00      0.00      0.00        13\n",
            "           Georges_Seurat       0.00      0.00      0.00         5\n",
            "        Giotto_di_Bondone       0.00      0.00      0.00         9\n",
            "             Gustav_Klimt       0.00      0.00      0.00        15\n",
            "          Gustave_Courbet       0.00      0.00      0.00         2\n",
            "            Henri_Matisse       0.00      0.00      0.00        23\n",
            "           Henri_Rousseau       0.00      0.00      0.00         4\n",
            "Henri_de_Toulouse-Lautrec       0.33      0.12      0.18         8\n",
            "         Hieronymus_Bosch       0.00      0.00      0.00        11\n",
            "          Jackson_Pollock       0.00      0.00      0.00         4\n",
            "             Jan_van_Eyck       0.00      0.00      0.00         8\n",
            "                Joan_Miro       0.00      0.00      0.00        13\n",
            "         Kazimir_Malevich       0.00      0.00      0.00        14\n",
            "        Leonardo_da_Vinci       0.00      0.00      0.00        15\n",
            "             Marc_Chagall       0.06      0.04      0.05        24\n",
            "             Michelangelo       0.00      0.00      0.00         8\n",
            "           Mikhail_Vrubel       0.00      0.00      0.00        15\n",
            "            Pablo_Picasso       0.00      0.00      0.00        45\n",
            "             Paul_Cezanne       0.00      0.00      0.00         2\n",
            "             Paul_Gauguin       0.02      0.03      0.02        37\n",
            "                Paul_Klee       0.00      0.00      0.00        15\n",
            "        Peter_Paul_Rubens       0.00      0.00      0.00        13\n",
            "    Pierre-Auguste_Renoir       0.04      0.03      0.03        33\n",
            "            Piet_Mondrian       0.00      0.00      0.00         6\n",
            "           Pieter_Bruegel       0.00      0.00      0.00        13\n",
            "                  Raphael       0.00      0.00      0.00        13\n",
            "                Rembrandt       0.00      0.00      0.00        24\n",
            "            Rene_Magritte       0.00      0.00      0.00        23\n",
            "            Salvador_Dali       0.00      0.00      0.00        11\n",
            "        Sandro_Botticelli       0.00      0.00      0.00         8\n",
            "                   Titian       0.00      0.00      0.00        36\n",
            "       Vasiliy_Kandinskiy       0.00      0.00      0.00         2\n",
            "         Vincent_van_Gogh       0.10      0.18      0.13        97\n",
            "           William_Turner       0.00      0.00      0.00         5\n",
            "\n",
            "                 accuracy                           0.04       846\n",
            "                macro avg       0.02      0.01      0.01       846\n",
            "             weighted avg       0.03      0.04      0.03       846\n",
            "\n"
          ]
        }
      ]
    },
    {
      "cell_type": "code",
      "source": [
        "precision = precision_score(artist_names_true, artist_names_pred, average='macro', zero_division=0)\n",
        "print(\"Precision of the model\", precision)\n",
        "recall = recall_score(artist_names_true, artist_names_pred, average='macro', zero_division=0)\n",
        "print(\"Recall of the model\", recall)\n",
        "f1 = f1_score(artist_names_true, artist_names_pred, average='macro', zero_division=0)\n",
        "print(\"F1-score of the model\", f1)"
      ],
      "metadata": {
        "colab": {
          "base_uri": "https://localhost:8080/"
        },
        "id": "3tKh9K2Vqnry",
        "outputId": "8195cd57-33f2-4488-d543-43164044c712"
      },
      "execution_count": null,
      "outputs": [
        {
          "output_type": "stream",
          "name": "stdout",
          "text": [
            "Precision of the model 0.02010390186619695\n",
            "Recall of the model 0.01327227519417363\n",
            "F1-score of the model 0.014823834658930777\n"
          ]
        }
      ]
    },
    {
      "cell_type": "code",
      "source": [
        "report = classification_report(artist_names_true, artist_names_pred, zero_division=0)\n",
        "\n",
        "f1_scores = {}\n",
        "for line in report.split('\\n')[2:-5]:\n",
        "    line = line.split()\n",
        "    if len(line) == 0:\n",
        "        continue\n",
        "    class_name = line[0]\n",
        "    f1_score = float(line[-1])\n",
        "    f1_scores[class_name] = f1_score\n",
        "\n",
        "top_classes = sorted(f1_scores.items(), key=lambda x: x[1], reverse=True)[:5]\n",
        "print(\"Top 5 classes by f1-score:\")\n",
        "for class_name, f1_score in top_classes:\n",
        "    print(class_name)"
      ],
      "metadata": {
        "colab": {
          "base_uri": "https://localhost:8080/"
        },
        "id": "FSqWrCCFqrY3",
        "outputId": "e3fb53d8-7577-4c80-9a7d-59ccb6ca3db0"
      },
      "execution_count": null,
      "outputs": [
        {
          "output_type": "stream",
          "name": "stdout",
          "text": [
            "Top 5 classes by f1-score:\n",
            "Vincent_van_Gogh\n",
            "Edgar_Degas\n",
            "Pablo_Picasso\n",
            "Paul_Gauguin\n",
            "Titian\n"
          ]
        }
      ]
    }
  ]
}