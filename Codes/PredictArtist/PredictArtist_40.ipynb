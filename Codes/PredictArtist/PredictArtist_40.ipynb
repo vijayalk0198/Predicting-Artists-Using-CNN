{
  "nbformat": 4,
  "nbformat_minor": 0,
  "metadata": {
    "colab": {
      "provenance": [],
      "machine_shape": "hm"
    },
    "kernelspec": {
      "name": "python3",
      "display_name": "Python 3"
    },
    "language_info": {
      "name": "python"
    },
    "accelerator": "GPU",
    "gpuClass": "premium"
  },
  "cells": [
    {
      "cell_type": "code",
      "execution_count": null,
      "metadata": {
        "id": "ZZ8NqlyhqUIX"
      },
      "outputs": [],
      "source": [
        "import numpy as np \n",
        "import pandas as pd \n",
        "import seaborn as sns\n",
        "import matplotlib.pyplot as plt\n",
        "import os\n",
        "from scipy.stats import pearsonr\n",
        "import random\n",
        "import torch\n",
        "import torchvision.transforms.functional as TF\n",
        "import torchvision.transforms as transforms\n",
        "from PIL import Image\n",
        "import pathlib\n",
        "import tensorflow as tf\n",
        "import numpy as np\n",
        "import pandas as pd\n",
        "import os\n",
        "import PIL\n",
        "from tensorflow import keras\n",
        "from tensorflow.keras import layers\n",
        "from tensorflow.keras.models import Sequential\n",
        "from tensorflow.keras.layers import Dense, Dropout, Flatten, Conv2D, MaxPooling2D\n",
        "import glob\n",
        "import torchvision\n",
        "from torchvision import transforms\n",
        "from torch.utils.data import random_split, DataLoader\n",
        "import torch.nn as nn\n",
        "import torch.optim as optim\n",
        "import time\n",
        "from tensorflow.keras.callbacks import EarlyStopping\n",
        "from sklearn.metrics import classification_report\n",
        "from sklearn.metrics import precision_score\n",
        "from sklearn.metrics import f1_score\n",
        "from sklearn.metrics import recall_score\n",
        "from tensorflow.keras import regularizers"
      ]
    },
    {
      "cell_type": "code",
      "source": [
        "from google.colab import drive\n",
        "drive.mount('/content/drive')\n",
        "%cd /content/drive/MyDrive/"
      ],
      "metadata": {
        "colab": {
          "base_uri": "https://localhost:8080/"
        },
        "id": "tP0Hey4_qZd0",
        "outputId": "bf050383-cb10-4ab0-ff0b-8896a30c5657"
      },
      "execution_count": null,
      "outputs": [
        {
          "output_type": "stream",
          "name": "stdout",
          "text": [
            "Mounted at /content/drive\n",
            "/content/drive/MyDrive\n"
          ]
        }
      ]
    },
    {
      "cell_type": "code",
      "source": [
        "data_dir = pathlib.Path('images/top_10_images')"
      ],
      "metadata": {
        "id": "iU4n0icYqcOC"
      },
      "execution_count": null,
      "outputs": []
    },
    {
      "cell_type": "code",
      "source": [
        "artist_df = pd.read_csv('artists.csv')"
      ],
      "metadata": {
        "id": "cYFBHSL0qfja"
      },
      "execution_count": null,
      "outputs": []
    },
    {
      "cell_type": "code",
      "source": [
        "# Sort artists by number of paintings\n",
        "artist_df = artist_df.sort_values(by=['paintings'], ascending=False)\n",
        "\n",
        "# Create a dataframe with artists having more than 200 paintings\n",
        "artists_top = artist_df[artist_df['paintings'] >= 200].reset_index()\n",
        "artists_top = artists_top[['name', 'paintings']]\n",
        "#artists_top['class_weight'] = max(artists_top.paintings)/artists_top.paintings\n",
        "artists_top['class_weight'] = artists_top.paintings.sum() / (artists_top.shape[0] * artists_top.paintings)\n",
        "artists_top"
      ],
      "metadata": {
        "colab": {
          "base_uri": "https://localhost:8080/",
          "height": 394
        },
        "id": "opWkg-7jqiIu",
        "outputId": "9e366b4d-fbb9-4c16-87e0-c9c4da2ef1f9"
      },
      "execution_count": null,
      "outputs": [
        {
          "output_type": "execute_result",
          "data": {
            "text/plain": [
              "                     name  paintings  class_weight\n",
              "0        Vincent van Gogh        877      0.445631\n",
              "1             Edgar Degas        702      0.556721\n",
              "2           Pablo Picasso        439      0.890246\n",
              "3   Pierre-Auguste Renoir        336      1.163149\n",
              "4          Albrecht Dürer        328      1.191519\n",
              "5            Paul Gauguin        311      1.256650\n",
              "6          Francisco Goya        291      1.343018\n",
              "7               Rembrandt        262      1.491672\n",
              "8           Alfred Sisley        259      1.508951\n",
              "9                  Titian        255      1.532620\n",
              "10           Marc Chagall        239      1.635223"
            ],
            "text/html": [
              "\n",
              "  <div id=\"df-d90d8b2a-33d9-4135-8f58-0cd5367e5699\">\n",
              "    <div class=\"colab-df-container\">\n",
              "      <div>\n",
              "<style scoped>\n",
              "    .dataframe tbody tr th:only-of-type {\n",
              "        vertical-align: middle;\n",
              "    }\n",
              "\n",
              "    .dataframe tbody tr th {\n",
              "        vertical-align: top;\n",
              "    }\n",
              "\n",
              "    .dataframe thead th {\n",
              "        text-align: right;\n",
              "    }\n",
              "</style>\n",
              "<table border=\"1\" class=\"dataframe\">\n",
              "  <thead>\n",
              "    <tr style=\"text-align: right;\">\n",
              "      <th></th>\n",
              "      <th>name</th>\n",
              "      <th>paintings</th>\n",
              "      <th>class_weight</th>\n",
              "    </tr>\n",
              "  </thead>\n",
              "  <tbody>\n",
              "    <tr>\n",
              "      <th>0</th>\n",
              "      <td>Vincent van Gogh</td>\n",
              "      <td>877</td>\n",
              "      <td>0.445631</td>\n",
              "    </tr>\n",
              "    <tr>\n",
              "      <th>1</th>\n",
              "      <td>Edgar Degas</td>\n",
              "      <td>702</td>\n",
              "      <td>0.556721</td>\n",
              "    </tr>\n",
              "    <tr>\n",
              "      <th>2</th>\n",
              "      <td>Pablo Picasso</td>\n",
              "      <td>439</td>\n",
              "      <td>0.890246</td>\n",
              "    </tr>\n",
              "    <tr>\n",
              "      <th>3</th>\n",
              "      <td>Pierre-Auguste Renoir</td>\n",
              "      <td>336</td>\n",
              "      <td>1.163149</td>\n",
              "    </tr>\n",
              "    <tr>\n",
              "      <th>4</th>\n",
              "      <td>Albrecht Dürer</td>\n",
              "      <td>328</td>\n",
              "      <td>1.191519</td>\n",
              "    </tr>\n",
              "    <tr>\n",
              "      <th>5</th>\n",
              "      <td>Paul Gauguin</td>\n",
              "      <td>311</td>\n",
              "      <td>1.256650</td>\n",
              "    </tr>\n",
              "    <tr>\n",
              "      <th>6</th>\n",
              "      <td>Francisco Goya</td>\n",
              "      <td>291</td>\n",
              "      <td>1.343018</td>\n",
              "    </tr>\n",
              "    <tr>\n",
              "      <th>7</th>\n",
              "      <td>Rembrandt</td>\n",
              "      <td>262</td>\n",
              "      <td>1.491672</td>\n",
              "    </tr>\n",
              "    <tr>\n",
              "      <th>8</th>\n",
              "      <td>Alfred Sisley</td>\n",
              "      <td>259</td>\n",
              "      <td>1.508951</td>\n",
              "    </tr>\n",
              "    <tr>\n",
              "      <th>9</th>\n",
              "      <td>Titian</td>\n",
              "      <td>255</td>\n",
              "      <td>1.532620</td>\n",
              "    </tr>\n",
              "    <tr>\n",
              "      <th>10</th>\n",
              "      <td>Marc Chagall</td>\n",
              "      <td>239</td>\n",
              "      <td>1.635223</td>\n",
              "    </tr>\n",
              "  </tbody>\n",
              "</table>\n",
              "</div>\n",
              "      <button class=\"colab-df-convert\" onclick=\"convertToInteractive('df-d90d8b2a-33d9-4135-8f58-0cd5367e5699')\"\n",
              "              title=\"Convert this dataframe to an interactive table.\"\n",
              "              style=\"display:none;\">\n",
              "        \n",
              "  <svg xmlns=\"http://www.w3.org/2000/svg\" height=\"24px\"viewBox=\"0 0 24 24\"\n",
              "       width=\"24px\">\n",
              "    <path d=\"M0 0h24v24H0V0z\" fill=\"none\"/>\n",
              "    <path d=\"M18.56 5.44l.94 2.06.94-2.06 2.06-.94-2.06-.94-.94-2.06-.94 2.06-2.06.94zm-11 1L8.5 8.5l.94-2.06 2.06-.94-2.06-.94L8.5 2.5l-.94 2.06-2.06.94zm10 10l.94 2.06.94-2.06 2.06-.94-2.06-.94-.94-2.06-.94 2.06-2.06.94z\"/><path d=\"M17.41 7.96l-1.37-1.37c-.4-.4-.92-.59-1.43-.59-.52 0-1.04.2-1.43.59L10.3 9.45l-7.72 7.72c-.78.78-.78 2.05 0 2.83L4 21.41c.39.39.9.59 1.41.59.51 0 1.02-.2 1.41-.59l7.78-7.78 2.81-2.81c.8-.78.8-2.07 0-2.86zM5.41 20L4 18.59l7.72-7.72 1.47 1.35L5.41 20z\"/>\n",
              "  </svg>\n",
              "      </button>\n",
              "      \n",
              "  <style>\n",
              "    .colab-df-container {\n",
              "      display:flex;\n",
              "      flex-wrap:wrap;\n",
              "      gap: 12px;\n",
              "    }\n",
              "\n",
              "    .colab-df-convert {\n",
              "      background-color: #E8F0FE;\n",
              "      border: none;\n",
              "      border-radius: 50%;\n",
              "      cursor: pointer;\n",
              "      display: none;\n",
              "      fill: #1967D2;\n",
              "      height: 32px;\n",
              "      padding: 0 0 0 0;\n",
              "      width: 32px;\n",
              "    }\n",
              "\n",
              "    .colab-df-convert:hover {\n",
              "      background-color: #E2EBFA;\n",
              "      box-shadow: 0px 1px 2px rgba(60, 64, 67, 0.3), 0px 1px 3px 1px rgba(60, 64, 67, 0.15);\n",
              "      fill: #174EA6;\n",
              "    }\n",
              "\n",
              "    [theme=dark] .colab-df-convert {\n",
              "      background-color: #3B4455;\n",
              "      fill: #D2E3FC;\n",
              "    }\n",
              "\n",
              "    [theme=dark] .colab-df-convert:hover {\n",
              "      background-color: #434B5C;\n",
              "      box-shadow: 0px 1px 3px 1px rgba(0, 0, 0, 0.15);\n",
              "      filter: drop-shadow(0px 1px 2px rgba(0, 0, 0, 0.3));\n",
              "      fill: #FFFFFF;\n",
              "    }\n",
              "  </style>\n",
              "\n",
              "      <script>\n",
              "        const buttonEl =\n",
              "          document.querySelector('#df-d90d8b2a-33d9-4135-8f58-0cd5367e5699 button.colab-df-convert');\n",
              "        buttonEl.style.display =\n",
              "          google.colab.kernel.accessAllowed ? 'block' : 'none';\n",
              "\n",
              "        async function convertToInteractive(key) {\n",
              "          const element = document.querySelector('#df-d90d8b2a-33d9-4135-8f58-0cd5367e5699');\n",
              "          const dataTable =\n",
              "            await google.colab.kernel.invokeFunction('convertToInteractive',\n",
              "                                                     [key], {});\n",
              "          if (!dataTable) return;\n",
              "\n",
              "          const docLinkHtml = 'Like what you see? Visit the ' +\n",
              "            '<a target=\"_blank\" href=https://colab.research.google.com/notebooks/data_table.ipynb>data table notebook</a>'\n",
              "            + ' to learn more about interactive tables.';\n",
              "          element.innerHTML = '';\n",
              "          dataTable['output_type'] = 'display_data';\n",
              "          await google.colab.output.renderOutput(dataTable, element);\n",
              "          const docLink = document.createElement('div');\n",
              "          docLink.innerHTML = docLinkHtml;\n",
              "          element.appendChild(docLink);\n",
              "        }\n",
              "      </script>\n",
              "    </div>\n",
              "  </div>\n",
              "  "
            ]
          },
          "metadata": {},
          "execution_count": 5
        }
      ]
    },
    {
      "cell_type": "code",
      "source": [
        "batch_size = 32\n",
        "img_height, img_width = 224, 224\n",
        "artists_names= sorted(artist_df['name'].str.replace(' ', '_').tolist())\n",
        "\n",
        "train_ds = tf.keras.preprocessing.image_dataset_from_directory(\n",
        "    data_dir, \n",
        "    validation_split=0.2, \n",
        "    seed=123,\n",
        "    subset='training',\n",
        "    image_size=(img_height, img_width), \n",
        "    batch_size=batch_size\n",
        ")\n",
        "\n",
        "val_ds = tf.keras.preprocessing.image_dataset_from_directory(\n",
        "    data_dir, \n",
        "    validation_split=0.2, \n",
        "    seed=123,\n",
        "    subset='validation', \n",
        "    image_size=(img_height, img_width), \n",
        "    batch_size=batch_size\n",
        ")"
      ],
      "metadata": {
        "colab": {
          "base_uri": "https://localhost:8080/"
        },
        "id": "_tU-_7Bmqj7t",
        "outputId": "684f8b9c-0f63-41a5-9f5c-563806d56d9d"
      },
      "execution_count": null,
      "outputs": [
        {
          "output_type": "stream",
          "name": "stdout",
          "text": [
            "Found 4299 files belonging to 11 classes.\n",
            "Using 3440 files for training.\n",
            "Found 4299 files belonging to 11 classes.\n",
            "Using 859 files for validation.\n"
          ]
        }
      ]
    },
    {
      "cell_type": "code",
      "source": [
        "num_classes = 11\n",
        "input_shape = (batch_size, img_height, img_width, 3)\n",
        "model = Sequential()\n",
        "model.add(tf.keras.layers.experimental.preprocessing.Rescaling(scale=1./255,input_shape=(img_height, img_width, 3)))\n",
        "model.add(tf.keras.layers.experimental.preprocessing.RandomFlip(\"horizontal\"))\n",
        "model.add(tf.keras.layers.experimental.preprocessing.RandomFlip(\"vertical\"))\n",
        "model.add(tf.keras.layers.experimental.preprocessing.RandomRotation(0.2))\n",
        "model.add(layers.experimental.preprocessing.RandomZoom(0.1))\n",
        "\n",
        "model.add(Conv2D(32, kernel_size=(3, 3), activation='relu'))\n",
        "model.add(MaxPooling2D(pool_size=(2, 2)))\n",
        "model.add(Conv2D(64, kernel_size=(3, 3), activation='relu'))\n",
        "model.add(MaxPooling2D(pool_size=(2, 2)))\n",
        "model.add(Conv2D(128, kernel_size=(3, 3), activation='relu'))\n",
        "model.add(MaxPooling2D(pool_size=(2, 2)))\n",
        "model.add(Conv2D(256, kernel_size=(3, 3), activation='relu'))\n",
        "model.add(MaxPooling2D(pool_size=(2, 2)))\n",
        "model.add(Flatten())\n",
        "#model.add(Dense(512, activation='relu')) \n",
        "model.add(Dense(512, activation='relu', kernel_regularizer=regularizers.l2(0.01)))\n",
        "model.add(Dropout(0.3))\n",
        "model.add(Dense(num_classes, activation='softmax'))\n",
        "model.build(input_shape)\n",
        "model.summary()"
      ],
      "metadata": {
        "colab": {
          "base_uri": "https://localhost:8080/"
        },
        "id": "LBAkA9OYqne2",
        "outputId": "72b0bc7b-bcb6-4fdf-9ee0-f5fcea742da4"
      },
      "execution_count": null,
      "outputs": [
        {
          "output_type": "stream",
          "name": "stdout",
          "text": [
            "Model: \"sequential\"\n",
            "_________________________________________________________________\n",
            " Layer (type)                Output Shape              Param #   \n",
            "=================================================================\n",
            " rescaling (Rescaling)       (None, 224, 224, 3)       0         \n",
            "                                                                 \n",
            " random_flip (RandomFlip)    (None, 224, 224, 3)       0         \n",
            "                                                                 \n",
            " random_flip_1 (RandomFlip)  (None, 224, 224, 3)       0         \n",
            "                                                                 \n",
            " random_rotation (RandomRota  (None, 224, 224, 3)      0         \n",
            " tion)                                                           \n",
            "                                                                 \n",
            " random_zoom (RandomZoom)    (None, 224, 224, 3)       0         \n",
            "                                                                 \n",
            " conv2d (Conv2D)             (None, 222, 222, 32)      896       \n",
            "                                                                 \n",
            " max_pooling2d (MaxPooling2D  (None, 111, 111, 32)     0         \n",
            " )                                                               \n",
            "                                                                 \n",
            " conv2d_1 (Conv2D)           (None, 109, 109, 64)      18496     \n",
            "                                                                 \n",
            " max_pooling2d_1 (MaxPooling  (None, 54, 54, 64)       0         \n",
            " 2D)                                                             \n",
            "                                                                 \n",
            " conv2d_2 (Conv2D)           (None, 52, 52, 128)       73856     \n",
            "                                                                 \n",
            " max_pooling2d_2 (MaxPooling  (None, 26, 26, 128)      0         \n",
            " 2D)                                                             \n",
            "                                                                 \n",
            " conv2d_3 (Conv2D)           (None, 24, 24, 256)       295168    \n",
            "                                                                 \n",
            " max_pooling2d_3 (MaxPooling  (None, 12, 12, 256)      0         \n",
            " 2D)                                                             \n",
            "                                                                 \n",
            " flatten (Flatten)           (None, 36864)             0         \n",
            "                                                                 \n",
            " dense (Dense)               (None, 512)               18874880  \n",
            "                                                                 \n",
            " dropout (Dropout)           (None, 512)               0         \n",
            "                                                                 \n",
            " dense_1 (Dense)             (None, 11)                5643      \n",
            "                                                                 \n",
            "=================================================================\n",
            "Total params: 19,268,939\n",
            "Trainable params: 19,268,939\n",
            "Non-trainable params: 0\n",
            "_________________________________________________________________\n"
          ]
        }
      ]
    },
    {
      "cell_type": "code",
      "source": [
        "model.compile(optimizer='adam', loss='sparse_categorical_crossentropy', metrics=['accuracy'])\n",
        "early_stop = EarlyStopping(monitor='val_loss', patience=10)\n",
        "num_epochs = 50\n",
        "start_time = time.time()\n",
        "model_history = model.fit(\n",
        "    train_ds,\n",
        "    validation_data=val_ds,\n",
        "    epochs=num_epochs,\n",
        "    callbacks=[early_stop]\n",
        ")\n",
        "end_time = time.time()\n",
        "training_time = end_time - start_time\n",
        "\n",
        "loss, accuracy = model.evaluate(val_ds)\n",
        "print(f'Validation accuracy: {accuracy}')\n",
        "print(f'Validation loss: {loss:.4f}')\n",
        "training_time_minutes = round(training_time / 60, 2)\n",
        "print(f\"Training time: {training_time_minutes} minutes\")"
      ],
      "metadata": {
        "colab": {
          "base_uri": "https://localhost:8080/"
        },
        "id": "hacctVLpqxbN",
        "outputId": "6999b22c-e924-4597-d35e-7a2a389ce529"
      },
      "execution_count": null,
      "outputs": [
        {
          "output_type": "stream",
          "name": "stdout",
          "text": [
            "Epoch 1/50\n",
            "108/108 [==============================] - 338s 3s/step - loss: 3.1617 - accuracy: 0.2413 - val_loss: 2.1625 - val_accuracy: 0.3248\n",
            "Epoch 2/50\n",
            "108/108 [==============================] - 7s 65ms/step - loss: 2.0520 - accuracy: 0.3259 - val_loss: 2.0162 - val_accuracy: 0.2340\n",
            "Epoch 3/50\n",
            "108/108 [==============================] - 8s 66ms/step - loss: 1.9520 - accuracy: 0.3427 - val_loss: 2.4533 - val_accuracy: 0.2596\n",
            "Epoch 4/50\n",
            "108/108 [==============================] - 8s 66ms/step - loss: 1.8633 - accuracy: 0.3916 - val_loss: 2.0684 - val_accuracy: 0.3318\n",
            "Epoch 5/50\n",
            "108/108 [==============================] - 7s 65ms/step - loss: 1.7886 - accuracy: 0.4235 - val_loss: 2.6525 - val_accuracy: 0.2875\n",
            "Epoch 6/50\n",
            "108/108 [==============================] - 8s 66ms/step - loss: 1.7781 - accuracy: 0.4404 - val_loss: 2.2071 - val_accuracy: 0.3166\n",
            "Epoch 7/50\n",
            "108/108 [==============================] - 7s 64ms/step - loss: 1.7151 - accuracy: 0.4439 - val_loss: 2.0921 - val_accuracy: 0.3562\n",
            "Epoch 8/50\n",
            "108/108 [==============================] - 8s 65ms/step - loss: 1.6823 - accuracy: 0.4500 - val_loss: 1.9701 - val_accuracy: 0.3807\n",
            "Epoch 9/50\n",
            "108/108 [==============================] - 7s 65ms/step - loss: 1.6579 - accuracy: 0.4770 - val_loss: 2.3944 - val_accuracy: 0.3551\n",
            "Epoch 10/50\n",
            "108/108 [==============================] - 7s 65ms/step - loss: 1.6705 - accuracy: 0.4666 - val_loss: 2.0767 - val_accuracy: 0.3702\n",
            "Epoch 11/50\n",
            "108/108 [==============================] - 8s 66ms/step - loss: 1.6204 - accuracy: 0.4791 - val_loss: 2.2787 - val_accuracy: 0.3562\n",
            "Epoch 12/50\n",
            "108/108 [==============================] - 7s 64ms/step - loss: 1.6374 - accuracy: 0.4820 - val_loss: 1.8383 - val_accuracy: 0.4214\n",
            "Epoch 13/50\n",
            "108/108 [==============================] - 8s 66ms/step - loss: 1.6240 - accuracy: 0.4727 - val_loss: 2.1285 - val_accuracy: 0.4016\n",
            "Epoch 14/50\n",
            "108/108 [==============================] - 7s 64ms/step - loss: 1.6030 - accuracy: 0.5006 - val_loss: 2.0409 - val_accuracy: 0.4121\n",
            "Epoch 15/50\n",
            "108/108 [==============================] - 8s 66ms/step - loss: 1.5984 - accuracy: 0.4965 - val_loss: 2.1597 - val_accuracy: 0.3807\n",
            "Epoch 16/50\n",
            "108/108 [==============================] - 7s 65ms/step - loss: 1.5776 - accuracy: 0.5026 - val_loss: 1.9966 - val_accuracy: 0.4121\n",
            "Epoch 17/50\n",
            "108/108 [==============================] - 8s 66ms/step - loss: 1.5837 - accuracy: 0.5070 - val_loss: 1.8934 - val_accuracy: 0.4389\n",
            "Epoch 18/50\n",
            "108/108 [==============================] - 8s 65ms/step - loss: 1.5581 - accuracy: 0.5215 - val_loss: 2.3647 - val_accuracy: 0.3597\n",
            "Epoch 19/50\n",
            "108/108 [==============================] - 7s 64ms/step - loss: 1.5361 - accuracy: 0.5355 - val_loss: 2.1050 - val_accuracy: 0.4366\n",
            "Epoch 20/50\n",
            "108/108 [==============================] - 8s 66ms/step - loss: 1.5756 - accuracy: 0.5221 - val_loss: 2.3331 - val_accuracy: 0.3667\n",
            "Epoch 21/50\n",
            "108/108 [==============================] - 7s 64ms/step - loss: 1.4911 - accuracy: 0.5407 - val_loss: 2.0155 - val_accuracy: 0.4331\n",
            "Epoch 22/50\n",
            "108/108 [==============================] - 8s 66ms/step - loss: 1.4951 - accuracy: 0.5410 - val_loss: 2.3596 - val_accuracy: 0.4040\n",
            "27/27 [==============================] - 2s 39ms/step - loss: 2.3596 - accuracy: 0.4040\n",
            "Validation accuracy: 0.4039580821990967\n",
            "Validation loss: 2.3596\n",
            "Training time: 8.26 minutes\n"
          ]
        }
      ]
    },
    {
      "cell_type": "code",
      "source": [
        "fig, (ax1, ax2) = plt.subplots(1, 2, figsize=(10, 4))\n",
        "ax1.plot(model_history.history['accuracy'], linestyle='-', linewidth=2, label='Train Accuracy')\n",
        "ax1.plot(model_history.history['val_accuracy'], linestyle='--', linewidth=2, label='Validation Accuracy')\n",
        "ax1.set_title('Model Accuracy', fontweight='bold')\n",
        "ax1.set_ylabel('Accuracy', fontweight='bold')\n",
        "ax1.set_xlabel('Epoch', fontweight='bold')\n",
        "ax1.legend(loc='upper left')\n",
        "ax2.plot(model_history.history['loss'], linestyle='-', linewidth=2, label='Train Loss')\n",
        "ax2.plot(model_history.history['val_loss'], linestyle='--', linewidth=2, label='Validation Loss')\n",
        "ax2.set_title('Model Loss', fontweight='bold')\n",
        "ax2.set_ylabel('Loss', fontweight='bold')\n",
        "ax2.set_xlabel('Epoch', fontweight='bold')\n",
        "ax2.legend(loc='upper left')\n",
        "plt.show()"
      ],
      "metadata": {
        "colab": {
          "base_uri": "https://localhost:8080/",
          "height": 410
        },
        "id": "gWGMBWPmq2jl",
        "outputId": "fd7bf84b-09ad-44c3-d0f6-80cc7acf9d20"
      },
      "execution_count": null,
      "outputs": [
        {
          "output_type": "display_data",
          "data": {
            "text/plain": [
              "<Figure size 1000x400 with 2 Axes>"
            ],
            "image/png": "[encoded data removed]"
          },
          "metadata": {}
        }
      ]
    }
  ]
}