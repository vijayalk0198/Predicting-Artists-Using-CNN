{
  "nbformat": 4,
  "nbformat_minor": 0,
  "metadata": {
    "colab": {
      "provenance": [],
      "machine_shape": "hm"
    },
    "kernelspec": {
      "name": "python3",
      "display_name": "Python 3"
    },
    "language_info": {
      "name": "python"
    },
    "accelerator": "GPU",
    "gpuClass": "premium"
  },
  "cells": [
    {
      "cell_type": "code",
      "execution_count": null,
      "metadata": {
        "id": "165Jh3teD7q0"
      },
      "outputs": [],
      "source": [
        "import numpy as np \n",
        "import pandas as pd \n",
        "import seaborn as sns\n",
        "import matplotlib.pyplot as plt\n",
        "import os\n",
        "from scipy.stats import pearsonr\n",
        "import random\n",
        "import torch\n",
        "import torchvision.transforms.functional as TF\n",
        "import torchvision.transforms as transforms\n",
        "from PIL import Image\n",
        "import pathlib\n",
        "import tensorflow as tf\n",
        "import numpy as np\n",
        "import pandas as pd\n",
        "import os\n",
        "import PIL\n",
        "from tensorflow import keras\n",
        "from tensorflow.keras import layers\n",
        "from tensorflow.keras.models import Sequential\n",
        "from tensorflow.keras.layers import Dense, Dropout, Flatten, Conv2D, MaxPooling2D\n",
        "import glob\n",
        "import torchvision\n",
        "from torchvision import transforms\n",
        "from torch.utils.data import random_split, DataLoader\n",
        "import torch.nn as nn\n",
        "import torch.optim as optim\n",
        "import time\n",
        "from tensorflow.keras.callbacks import EarlyStopping\n",
        "from sklearn.metrics import classification_report\n",
        "from sklearn.metrics import precision_score\n",
        "from sklearn.metrics import f1_score\n",
        "from sklearn.metrics import recall_score"
      ]
    },
    {
      "cell_type": "code",
      "source": [
        "from google.colab import drive\n",
        "drive.mount('/content/drive')\n",
        "%cd /content/drive/MyDrive/"
      ],
      "metadata": {
        "colab": {
          "base_uri": "https://localhost:8080/"
        },
        "id": "kW8fMEEjEAUj",
        "outputId": "b241c0d0-8748-415e-b003-ec24ff0e6de1"
      },
      "execution_count": null,
      "outputs": [
        {
          "output_type": "stream",
          "name": "stdout",
          "text": [
            "Mounted at /content/drive\n",
            "/content/drive/MyDrive\n"
          ]
        }
      ]
    },
    {
      "cell_type": "code",
      "source": [
        "artist_df = pd.read_csv('artists.csv')"
      ],
      "metadata": {
        "id": "w5VNnk25EDjb"
      },
      "execution_count": null,
      "outputs": []
    },
    {
      "cell_type": "code",
      "source": [
        "data_dir = pathlib.Path('images/images')"
      ],
      "metadata": {
        "id": "yBaO3nmHEFv3"
      },
      "execution_count": null,
      "outputs": []
    },
    {
      "cell_type": "code",
      "source": [
        "batch_size = 16\n",
        "img_height, img_width = 224, 224\n",
        "artists_names= sorted(artist_df['name'].str.replace(' ', '_').tolist())\n",
        "\n",
        "train_ds = tf.keras.preprocessing.image_dataset_from_directory(\n",
        "    data_dir, \n",
        "    validation_split=0.3, \n",
        "    seed=123,\n",
        "    subset='training',\n",
        "    image_size=(img_height, img_width), \n",
        "    batch_size=batch_size\n",
        ")\n",
        "\n",
        "val_ds = tf.keras.preprocessing.image_dataset_from_directory(\n",
        "    data_dir, \n",
        "    validation_split=0.3, \n",
        "    seed=123,\n",
        "    subset='validation', \n",
        "    image_size=(img_height, img_width), \n",
        "    batch_size=batch_size\n",
        ")"
      ],
      "metadata": {
        "colab": {
          "base_uri": "https://localhost:8080/"
        },
        "id": "xbQpQXBpEHp7",
        "outputId": "12adfdfa-6d13-49ea-bc69-15ee12302c9e"
      },
      "execution_count": null,
      "outputs": [
        {
          "output_type": "stream",
          "name": "stdout",
          "text": [
            "Found 8461 files belonging to 50 classes.\n",
            "Using 5923 files for training.\n",
            "Found 8461 files belonging to 50 classes.\n",
            "Using 2538 files for validation.\n"
          ]
        }
      ]
    },
    {
      "cell_type": "code",
      "source": [
        "num_classes = 50\n",
        "input_shape = (batch_size, img_height, img_width, 3)\n",
        "model = Sequential()\n",
        "model.add(tf.keras.layers.experimental.preprocessing.Rescaling(scale=1./255,input_shape=(img_height, img_width, 3)))\n",
        "model.add(Conv2D(32, kernel_size=(3, 3), activation='relu'))\n",
        "model.add(MaxPooling2D(pool_size=(2, 2)))\n",
        "model.add(Conv2D(64, kernel_size=(3, 3), activation='relu'))\n",
        "model.add(MaxPooling2D(pool_size=(2, 2)))\n",
        "model.add(Conv2D(128, kernel_size=(3, 3), activation='relu'))\n",
        "model.add(MaxPooling2D(pool_size=(2, 2)))\n",
        "model.add(Conv2D(256, kernel_size=(3, 3), activation='relu'))\n",
        "model.add(MaxPooling2D(pool_size=(2, 2)))\n",
        "model.add(Flatten())\n",
        "model.add(Dense(512, activation='relu')) \n",
        "model.add(Dropout(0.1))\n",
        "model.add(Dense(num_classes, activation='softmax'))\n",
        "model.build(input_shape)\n",
        "model.summary()"
      ],
      "metadata": {
        "colab": {
          "base_uri": "https://localhost:8080/"
        },
        "id": "FYuTUz-sEJwL",
        "outputId": "21ba87a2-1d7b-408d-fcb6-da5a6ac30d8f"
      },
      "execution_count": null,
      "outputs": [
        {
          "output_type": "stream",
          "name": "stdout",
          "text": [
            "Model: \"sequential\"\n",
            "_________________________________________________________________\n",
            " Layer (type)                Output Shape              Param #   \n",
            "=================================================================\n",
            " rescaling (Rescaling)       (None, 224, 224, 3)       0         \n",
            "                                                                 \n",
            " conv2d (Conv2D)             (None, 222, 222, 32)      896       \n",
            "                                                                 \n",
            " max_pooling2d (MaxPooling2D  (None, 111, 111, 32)     0         \n",
            " )                                                               \n",
            "                                                                 \n",
            " conv2d_1 (Conv2D)           (None, 109, 109, 64)      18496     \n",
            "                                                                 \n",
            " max_pooling2d_1 (MaxPooling  (None, 54, 54, 64)       0         \n",
            " 2D)                                                             \n",
            "                                                                 \n",
            " conv2d_2 (Conv2D)           (None, 52, 52, 128)       73856     \n",
            "                                                                 \n",
            " max_pooling2d_2 (MaxPooling  (None, 26, 26, 128)      0         \n",
            " 2D)                                                             \n",
            "                                                                 \n",
            " conv2d_3 (Conv2D)           (None, 24, 24, 256)       295168    \n",
            "                                                                 \n",
            " max_pooling2d_3 (MaxPooling  (None, 12, 12, 256)      0         \n",
            " 2D)                                                             \n",
            "                                                                 \n",
            " flatten (Flatten)           (None, 36864)             0         \n",
            "                                                                 \n",
            " dense (Dense)               (None, 512)               18874880  \n",
            "                                                                 \n",
            " dropout (Dropout)           (None, 512)               0         \n",
            "                                                                 \n",
            " dense_1 (Dense)             (None, 50)                25650     \n",
            "                                                                 \n",
            "=================================================================\n",
            "Total params: 19,288,946\n",
            "Trainable params: 19,288,946\n",
            "Non-trainable params: 0\n",
            "_________________________________________________________________\n"
          ]
        }
      ]
    },
    {
      "cell_type": "code",
      "source": [
        "model.compile(optimizer='adam', loss='sparse_categorical_crossentropy', metrics=['accuracy'])\n",
        "early_stop = EarlyStopping(monitor='val_loss', patience=10)\n",
        "num_epochs = 30\n",
        "start_time = time.time()\n",
        "model_history = model.fit(\n",
        "    train_ds,\n",
        "    validation_data=val_ds,\n",
        "    epochs=num_epochs,\n",
        "    callbacks=[early_stop]\n",
        ")\n",
        "end_time = time.time()\n",
        "training_time = end_time - start_time\n",
        "\n",
        "loss, accuracy = model.evaluate(val_ds)\n",
        "print(f'Validation accuracy: {accuracy}')\n",
        "print(f'Validation loss: {loss:.4f}')\n",
        "training_time_minutes = round(training_time / 60, 2)\n",
        "print(f\"Training time: {training_time_minutes} minutes\")"
      ],
      "metadata": {
        "colab": {
          "base_uri": "https://localhost:8080/"
        },
        "id": "cDidqyylEMv8",
        "outputId": "133fb963-26b8-447d-eb7c-6589ab85bea3"
      },
      "execution_count": null,
      "outputs": [
        {
          "output_type": "stream",
          "name": "stdout",
          "text": [
            "Epoch 1/30\n",
            "371/371 [==============================] - 317s 805ms/step - loss: 3.4613 - accuracy: 0.1312 - val_loss: 3.1268 - val_accuracy: 0.1856\n",
            "Epoch 2/30\n",
            "371/371 [==============================] - 14s 37ms/step - loss: 2.9955 - accuracy: 0.2230 - val_loss: 3.0254 - val_accuracy: 0.2065\n",
            "Epoch 3/30\n",
            "371/371 [==============================] - 14s 37ms/step - loss: 2.6845 - accuracy: 0.2909 - val_loss: 2.8688 - val_accuracy: 0.2719\n",
            "Epoch 4/30\n",
            "371/371 [==============================] - 14s 37ms/step - loss: 2.2470 - accuracy: 0.3919 - val_loss: 2.9386 - val_accuracy: 0.2778\n",
            "Epoch 5/30\n",
            "371/371 [==============================] - 14s 36ms/step - loss: 1.6442 - accuracy: 0.5426 - val_loss: 3.3346 - val_accuracy: 0.2794\n",
            "Epoch 6/30\n",
            "371/371 [==============================] - 14s 36ms/step - loss: 1.0791 - accuracy: 0.6922 - val_loss: 3.8510 - val_accuracy: 0.3172\n",
            "Epoch 7/30\n",
            "371/371 [==============================] - 14s 36ms/step - loss: 0.6893 - accuracy: 0.8031 - val_loss: 4.8133 - val_accuracy: 0.3026\n",
            "Epoch 8/30\n",
            "371/371 [==============================] - 14s 37ms/step - loss: 0.4590 - accuracy: 0.8717 - val_loss: 5.2844 - val_accuracy: 0.2971\n",
            "Epoch 9/30\n",
            "371/371 [==============================] - 14s 36ms/step - loss: 0.3262 - accuracy: 0.9114 - val_loss: 5.3739 - val_accuracy: 0.3050\n",
            "Epoch 10/30\n",
            "371/371 [==============================] - 14s 36ms/step - loss: 0.2457 - accuracy: 0.9286 - val_loss: 5.9573 - val_accuracy: 0.2994\n",
            "Epoch 11/30\n",
            "371/371 [==============================] - 14s 36ms/step - loss: 0.2156 - accuracy: 0.9397 - val_loss: 5.7024 - val_accuracy: 0.3034\n",
            "Epoch 12/30\n",
            "371/371 [==============================] - 14s 36ms/step - loss: 0.1730 - accuracy: 0.9539 - val_loss: 6.1025 - val_accuracy: 0.2896\n",
            "Epoch 13/30\n",
            "371/371 [==============================] - 14s 37ms/step - loss: 0.1477 - accuracy: 0.9591 - val_loss: 6.6164 - val_accuracy: 0.2987\n",
            "159/159 [==============================] - 4s 24ms/step - loss: 6.6164 - accuracy: 0.2987\n",
            "Validation accuracy: 0.29866036772727966\n",
            "Validation loss: 6.6164\n",
            "Training time: 8.04 minutes\n"
          ]
        }
      ]
    },
    {
      "cell_type": "code",
      "source": [
        "fig, (ax1, ax2) = plt.subplots(1, 2, figsize=(10, 4))\n",
        "ax1.plot(model_history.history['accuracy'], linestyle='-', linewidth=2, label='Train Accuracy')\n",
        "ax1.plot(model_history.history['val_accuracy'], linestyle='--', linewidth=2, label='Validation Accuracy')\n",
        "ax1.set_title('Model Accuracy', fontweight='bold')\n",
        "ax1.set_ylabel('Accuracy', fontweight='bold')\n",
        "ax1.set_xlabel('Epoch', fontweight='bold')\n",
        "ax1.legend(loc='upper left')\n",
        "ax2.plot(model_history.history['loss'], linestyle='-', linewidth=2, label='Train Loss')\n",
        "ax2.plot(model_history.history['val_loss'], linestyle='--', linewidth=2, label='Validation Loss')\n",
        "ax2.set_title('Model Loss', fontweight='bold')\n",
        "ax2.set_ylabel('Loss', fontweight='bold')\n",
        "ax2.set_xlabel('Epoch', fontweight='bold')\n",
        "ax2.legend(loc='upper left')\n",
        "plt.show()"
      ],
      "metadata": {
        "colab": {
          "base_uri": "https://localhost:8080/",
          "height": 410
        },
        "id": "XHIgRE7SEPbt",
        "outputId": "a04b2b34-d67c-425c-8db0-b5a77713e1f5"
      },
      "execution_count": null,
      "outputs": [
        {
          "output_type": "display_data",
          "data": {
            "text/plain": [
              "<Figure size 1000x400 with 2 Axes>"
            ],
            "image/png": "[encoded data removed]"
          },
          "metadata": {}
        }
      ]
    },
    {
      "cell_type": "code",
      "source": [
        "val_labels = np.concatenate([y for x, y in val_ds], axis=0)\n",
        "val_class_labels = [val_ds.class_names[label] for label in val_labels]\n",
        "y_pred = model.predict(val_ds) \n",
        "y_pred_classes = np.argmax(y_pred, axis=1) \n",
        "y_pred_classes = y_pred_classes.tolist()\n",
        "\n",
        "artists_names = sorted(artist_df['name'].str.replace(' ', '_').tolist())\n",
        "n_artists = len(artists_names)\n",
        "artist_dict = {}\n",
        "for i in range(n_artists):\n",
        "    artist_dict[i] = artists_names[i]\n",
        "\n",
        "artist_names_pred = [artist_dict[label] for label in y_pred_classes]\n",
        "artist_names_true = val_class_labels\n",
        "\n",
        "print(classification_report(artist_names_true, artist_names_pred, zero_division=0))"
      ],
      "metadata": {
        "colab": {
          "base_uri": "https://localhost:8080/"
        },
        "id": "dOxQNEWWER_l",
        "outputId": "8f31746a-50ce-4987-ee91-fb2bdce36792"
      },
      "execution_count": null,
      "outputs": [
        {
          "output_type": "stream",
          "name": "stdout",
          "text": [
            "159/159 [==============================] - 4s 23ms/step\n",
            "                           precision    recall  f1-score   support\n",
            "\n",
            "          Albrecht_Dürer       0.00      0.00      0.00        99\n",
            "           Albrecht_Dürer       0.00      0.00      0.00         0\n",
            "            Alfred_Sisley       0.05      0.07      0.06        73\n",
            "        Amedeo_Modigliani       0.03      0.03      0.03        58\n",
            "            Andrei_Rublev       0.00      0.00      0.00        26\n",
            "              Andy_Warhol       0.00      0.00      0.00        38\n",
            "         Camille_Pissarro       0.00      0.00      0.00        28\n",
            "               Caravaggio       0.00      0.00      0.00        20\n",
            "             Claude_Monet       0.06      0.04      0.05        24\n",
            "             Diego_Rivera       0.00      0.00      0.00        23\n",
            "          Diego_Velazquez       0.02      0.03      0.03        34\n",
            "              Edgar_Degas       0.08      0.13      0.10       226\n",
            "            Edouard_Manet       0.00      0.00      0.00        43\n",
            "             Edvard_Munch       0.00      0.00      0.00        18\n",
            "                 El_Greco       0.33      0.04      0.07        27\n",
            "         Eugene_Delacroix       0.00      0.00      0.00         9\n",
            "           Francisco_Goya       0.03      0.04      0.03        84\n",
            "              Frida_Kahlo       0.00      0.00      0.00        29\n",
            "           Georges_Seurat       0.00      0.00      0.00        14\n",
            "        Giotto_di_Bondone       0.03      0.03      0.03        36\n",
            "             Gustav_Klimt       0.00      0.00      0.00        35\n",
            "          Gustave_Courbet       0.00      0.00      0.00        18\n",
            "            Henri_Matisse       0.00      0.00      0.00        57\n",
            "           Henri_Rousseau       0.00      0.00      0.00        22\n",
            "Henri_de_Toulouse-Lautrec       0.00      0.00      0.00        25\n",
            "         Hieronymus_Bosch       0.00      0.00      0.00        44\n",
            "          Jackson_Pollock       0.00      0.00      0.00         9\n",
            "             Jan_van_Eyck       0.00      0.00      0.00        22\n",
            "                Joan_Miro       0.09      0.03      0.05        31\n",
            "         Kazimir_Malevich       0.10      0.03      0.04        37\n",
            "        Leonardo_da_Vinci       0.02      0.02      0.02        56\n",
            "             Marc_Chagall       0.01      0.01      0.01        67\n",
            "             Michelangelo       0.00      0.00      0.00        18\n",
            "           Mikhail_Vrubel       0.05      0.09      0.07        54\n",
            "            Pablo_Picasso       0.04      0.03      0.04       128\n",
            "             Paul_Cezanne       0.00      0.00      0.00        11\n",
            "             Paul_Gauguin       0.02      0.02      0.02        94\n",
            "                Paul_Klee       0.03      0.04      0.03        52\n",
            "        Peter_Paul_Rubens       0.00      0.00      0.00        40\n",
            "    Pierre-Auguste_Renoir       0.02      0.03      0.03        94\n",
            "            Piet_Mondrian       0.00      0.00      0.00        21\n",
            "           Pieter_Bruegel       0.00      0.00      0.00        35\n",
            "                  Raphael       0.00      0.00      0.00        28\n",
            "                Rembrandt       0.02      0.03      0.02        79\n",
            "            Rene_Magritte       0.03      0.03      0.03        68\n",
            "            Salvador_Dali       0.00      0.00      0.00        38\n",
            "        Sandro_Botticelli       0.00      0.00      0.00        41\n",
            "                   Titian       0.02      0.01      0.02        79\n",
            "       Vasiliy_Kandinskiy       0.00      0.00      0.00        24\n",
            "         Vincent_van_Gogh       0.11      0.07      0.09       285\n",
            "           William_Turner       0.04      0.06      0.05        17\n",
            "\n",
            "                 accuracy                           0.04      2538\n",
            "                macro avg       0.02      0.02      0.02      2538\n",
            "             weighted avg       0.04      0.04      0.03      2538\n",
            "\n"
          ]
        }
      ]
    },
    {
      "cell_type": "code",
      "source": [
        "precision = precision_score(artist_names_true, artist_names_pred, average='macro', zero_division=0)\n",
        "print(\"Precision of the model\", precision)\n",
        "recall = recall_score(artist_names_true, artist_names_pred, average='macro', zero_division=0)\n",
        "print(\"Recall of the model\", recall)\n",
        "f1 = f1_score(artist_names_true, artist_names_pred, average='macro', zero_division=0)\n",
        "print(\"F1-score of the model\", f1)"
      ],
      "metadata": {
        "colab": {
          "base_uri": "https://localhost:8080/"
        },
        "id": "DVG9G6S6EUsj",
        "outputId": "3860d6bf-e685-46f1-b108-83e19b7cb75b"
      },
      "execution_count": null,
      "outputs": [
        {
          "output_type": "stream",
          "name": "stdout",
          "text": [
            "Precision of the model 0.02425860638076988\n",
            "Recall of the model 0.017781385676215095\n",
            "F1-score of the model 0.01748122406891785\n"
          ]
        }
      ]
    },
    {
      "cell_type": "code",
      "source": [
        "report = classification_report(artist_names_true, artist_names_pred, zero_division=0)\n",
        "\n",
        "f1_scores = {}\n",
        "for line in report.split('\\n')[2:-5]:\n",
        "    line = line.split()\n",
        "    if len(line) == 0:\n",
        "        continue\n",
        "    class_name = line[0]\n",
        "    f1_score = float(line[-1])\n",
        "    f1_scores[class_name] = f1_score\n",
        "\n",
        "top_classes = sorted(f1_scores.items(), key=lambda x: x[1], reverse=True)[:5]\n",
        "print(\"Top 5 classes by f1-score:\")\n",
        "for class_name, f1_score in top_classes:\n",
        "    print(class_name)\n"
      ],
      "metadata": {
        "colab": {
          "base_uri": "https://localhost:8080/"
        },
        "id": "bFHgC7cqEXoQ",
        "outputId": "3948548c-6b5c-419a-b683-345387d6f775"
      },
      "execution_count": null,
      "outputs": [
        {
          "output_type": "stream",
          "name": "stdout",
          "text": [
            "Top 5 classes by f1-score:\n",
            "Vincent_van_Gogh\n",
            "Edgar_Degas\n",
            "Pablo_Picasso\n",
            "Albrecht_Dürer\n",
            "Paul_Gauguin\n"
          ]
        }
      ]
    }
  ]
}