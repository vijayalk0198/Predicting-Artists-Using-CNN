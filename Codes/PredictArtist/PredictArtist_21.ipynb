{
  "nbformat": 4,
  "nbformat_minor": 0,
  "metadata": {
    "colab": {
      "provenance": [],
      "machine_shape": "hm"
    },
    "kernelspec": {
      "name": "python3",
      "display_name": "Python 3"
    },
    "language_info": {
      "name": "python"
    },
    "accelerator": "GPU",
    "gpuClass": "premium"
  },
  "cells": [
    {
      "cell_type": "code",
      "execution_count": null,
      "metadata": {
        "id": "tEe35LVkMQIh"
      },
      "outputs": [],
      "source": [
        "import numpy as np \n",
        "import pandas as pd \n",
        "import seaborn as sns\n",
        "import matplotlib.pyplot as plt\n",
        "import os\n",
        "from scipy.stats import pearsonr\n",
        "import random\n",
        "import torch\n",
        "import torchvision.transforms.functional as TF\n",
        "import torchvision.transforms as transforms\n",
        "from PIL import Image\n",
        "import pathlib\n",
        "import tensorflow as tf\n",
        "import numpy as np\n",
        "import pandas as pd\n",
        "import os\n",
        "import PIL\n",
        "from tensorflow import keras\n",
        "from tensorflow.keras import layers\n",
        "from tensorflow.keras.models import Sequential\n",
        "from tensorflow.keras.layers import Dense, Dropout, Flatten, Conv2D, MaxPooling2D\n",
        "import glob\n",
        "import torchvision\n",
        "from torchvision import transforms\n",
        "from torch.utils.data import random_split, DataLoader\n",
        "import torch.nn as nn\n",
        "import torch.optim as optim\n",
        "import time\n",
        "from tensorflow.keras.callbacks import EarlyStopping\n",
        "from sklearn.metrics import classification_report\n",
        "from sklearn.metrics import precision_score\n",
        "from sklearn.metrics import f1_score\n",
        "from sklearn.metrics import recall_score\n",
        "from tensorflow.keras import regularizers"
      ]
    },
    {
      "cell_type": "code",
      "source": [
        "from google.colab import drive\n",
        "drive.mount('/content/drive')\n",
        "%cd /content/drive/MyDrive/"
      ],
      "metadata": {
        "colab": {
          "base_uri": "https://localhost:8080/"
        },
        "id": "Mq1NgWHcMchK",
        "outputId": "98a05909-ee30-4d0e-98fe-760ff187fb62"
      },
      "execution_count": null,
      "outputs": [
        {
          "output_type": "stream",
          "name": "stdout",
          "text": [
            "Mounted at /content/drive\n",
            "/content/drive/MyDrive\n"
          ]
        }
      ]
    },
    {
      "cell_type": "code",
      "source": [
        "data_dir = pathlib.Path('images/images')"
      ],
      "metadata": {
        "id": "2ci3P2tBMfY4"
      },
      "execution_count": null,
      "outputs": []
    },
    {
      "cell_type": "code",
      "source": [
        "artist_df = pd.read_csv('artists.csv')"
      ],
      "metadata": {
        "id": "pOYPZ_OwMhMX"
      },
      "execution_count": null,
      "outputs": []
    },
    {
      "cell_type": "code",
      "source": [
        "batch_size = 32\n",
        "img_height, img_width = 224, 224\n",
        "artists_names= sorted(artist_df['name'].str.replace(' ', '_').tolist())\n",
        "\n",
        "train_ds = tf.keras.preprocessing.image_dataset_from_directory(\n",
        "    data_dir, \n",
        "    validation_split=0.2, \n",
        "    seed=123,\n",
        "    subset='training',\n",
        "    image_size=(img_height, img_width), \n",
        "    batch_size=batch_size\n",
        ")\n",
        "\n",
        "val_ds = tf.keras.preprocessing.image_dataset_from_directory(\n",
        "    data_dir, \n",
        "    validation_split=0.2, \n",
        "    seed=123,\n",
        "    subset='validation', \n",
        "    image_size=(img_height, img_width), \n",
        "    batch_size=batch_size\n",
        ")"
      ],
      "metadata": {
        "colab": {
          "base_uri": "https://localhost:8080/"
        },
        "id": "5ubGUVKWMi8h",
        "outputId": "e806f91e-974a-4c58-fdf7-0a825a300db4"
      },
      "execution_count": null,
      "outputs": [
        {
          "output_type": "stream",
          "name": "stdout",
          "text": [
            "Found 8461 files belonging to 50 classes.\n",
            "Using 6769 files for training.\n",
            "Found 8461 files belonging to 50 classes.\n",
            "Using 1692 files for validation.\n"
          ]
        }
      ]
    },
    {
      "cell_type": "code",
      "source": [
        "num_classes = 50\n",
        "input_shape = (batch_size, img_height, img_width, 3)\n",
        "model = Sequential()\n",
        "model.add(tf.keras.layers.experimental.preprocessing.Rescaling(scale=1./255,input_shape=(img_height, img_width, 3)))\n",
        "model.add(Conv2D(32, kernel_size=(3, 3), activation='relu'))\n",
        "model.add(MaxPooling2D(pool_size=(2, 2)))\n",
        "model.add(Conv2D(64, kernel_size=(3, 3), activation='relu'))\n",
        "model.add(MaxPooling2D(pool_size=(2, 2)))\n",
        "model.add(Conv2D(128, kernel_size=(3, 3), activation='relu'))\n",
        "model.add(MaxPooling2D(pool_size=(2, 2)))\n",
        "model.add(Conv2D(256, kernel_size=(3, 3), activation='relu'))\n",
        "model.add(MaxPooling2D(pool_size=(2, 2)))\n",
        "model.add(Flatten())\n",
        "#model.add(Dense(512, activation='relu')) \n",
        "model.add(Dense(512, activation='relu', kernel_regularizer=regularizers.l2(0.01)))\n",
        "model.add(Dropout(0.3))\n",
        "model.add(Dense(512, activation='relu', kernel_regularizer=regularizers.l2(0.01)))\n",
        "model.add(Dropout(0.3))\n",
        "model.add(Dense(num_classes, activation='softmax'))\n",
        "model.build(input_shape)\n",
        "model.summary()"
      ],
      "metadata": {
        "colab": {
          "base_uri": "https://localhost:8080/"
        },
        "id": "Ld7LZq0WMnyx",
        "outputId": "242c9754-644f-4926-b780-e2a8416ca828"
      },
      "execution_count": null,
      "outputs": [
        {
          "output_type": "stream",
          "name": "stdout",
          "text": [
            "Model: \"sequential\"\n",
            "_________________________________________________________________\n",
            " Layer (type)                Output Shape              Param #   \n",
            "=================================================================\n",
            " rescaling (Rescaling)       (None, 224, 224, 3)       0         \n",
            "                                                                 \n",
            " conv2d (Conv2D)             (None, 222, 222, 32)      896       \n",
            "                                                                 \n",
            " max_pooling2d (MaxPooling2D  (None, 111, 111, 32)     0         \n",
            " )                                                               \n",
            "                                                                 \n",
            " conv2d_1 (Conv2D)           (None, 109, 109, 64)      18496     \n",
            "                                                                 \n",
            " max_pooling2d_1 (MaxPooling  (None, 54, 54, 64)       0         \n",
            " 2D)                                                             \n",
            "                                                                 \n",
            " conv2d_2 (Conv2D)           (None, 52, 52, 128)       73856     \n",
            "                                                                 \n",
            " max_pooling2d_2 (MaxPooling  (None, 26, 26, 128)      0         \n",
            " 2D)                                                             \n",
            "                                                                 \n",
            " conv2d_3 (Conv2D)           (None, 24, 24, 256)       295168    \n",
            "                                                                 \n",
            " max_pooling2d_3 (MaxPooling  (None, 12, 12, 256)      0         \n",
            " 2D)                                                             \n",
            "                                                                 \n",
            " flatten (Flatten)           (None, 36864)             0         \n",
            "                                                                 \n",
            " dense (Dense)               (None, 512)               18874880  \n",
            "                                                                 \n",
            " dropout (Dropout)           (None, 512)               0         \n",
            "                                                                 \n",
            " dense_1 (Dense)             (None, 512)               262656    \n",
            "                                                                 \n",
            " dropout_1 (Dropout)         (None, 512)               0         \n",
            "                                                                 \n",
            " dense_2 (Dense)             (None, 50)                25650     \n",
            "                                                                 \n",
            "=================================================================\n",
            "Total params: 19,551,602\n",
            "Trainable params: 19,551,602\n",
            "Non-trainable params: 0\n",
            "_________________________________________________________________\n"
          ]
        }
      ]
    },
    {
      "cell_type": "code",
      "source": [
        "model.compile(optimizer='adam', loss='sparse_categorical_crossentropy', metrics=['accuracy'])\n",
        "early_stop = EarlyStopping(monitor='val_loss', patience=10)\n",
        "num_epochs = 30\n",
        "start_time = time.time()\n",
        "model_history = model.fit(\n",
        "    train_ds,\n",
        "    validation_data=val_ds,\n",
        "    epochs=num_epochs,\n",
        "    callbacks=[early_stop]\n",
        ")\n",
        "end_time = time.time()\n",
        "training_time = end_time - start_time\n",
        "\n",
        "loss, accuracy = model.evaluate(val_ds)\n",
        "print(f'Validation accuracy: {accuracy}')\n",
        "print(f'Validation loss: {loss:.4f}')\n",
        "training_time_minutes = round(training_time / 60, 2)\n",
        "print(f\"Training time: {training_time_minutes} minutes\")"
      ],
      "metadata": {
        "colab": {
          "base_uri": "https://localhost:8080/"
        },
        "id": "e2hAmrq5MosA",
        "outputId": "dd6cbc43-8372-4de9-98fb-d803854bd6ec"
      },
      "execution_count": null,
      "outputs": [
        {
          "output_type": "stream",
          "name": "stdout",
          "text": [
            "Epoch 1/30\n",
            "212/212 [==============================] - 831s 4s/step - loss: 4.9183 - accuracy: 0.1034 - val_loss: 3.6114 - val_accuracy: 0.1543\n",
            "Epoch 2/30\n",
            "212/212 [==============================] - 31s 143ms/step - loss: 3.5575 - accuracy: 0.1386 - val_loss: 3.4471 - val_accuracy: 0.1678\n",
            "Epoch 3/30\n",
            "212/212 [==============================] - 31s 144ms/step - loss: 3.4555 - accuracy: 0.1451 - val_loss: 3.3539 - val_accuracy: 0.1625\n",
            "Epoch 4/30\n",
            "212/212 [==============================] - 31s 142ms/step - loss: 3.3804 - accuracy: 0.1563 - val_loss: 3.2679 - val_accuracy: 0.1891\n",
            "Epoch 5/30\n",
            "212/212 [==============================] - 31s 140ms/step - loss: 3.3078 - accuracy: 0.1666 - val_loss: 3.2783 - val_accuracy: 0.1708\n",
            "Epoch 6/30\n",
            "212/212 [==============================] - 31s 141ms/step - loss: 3.2398 - accuracy: 0.1807 - val_loss: 3.1272 - val_accuracy: 0.2305\n",
            "Epoch 7/30\n",
            "212/212 [==============================] - 32s 145ms/step - loss: 3.1756 - accuracy: 0.1909 - val_loss: 3.0794 - val_accuracy: 0.2346\n",
            "Epoch 8/30\n",
            "212/212 [==============================] - 31s 144ms/step - loss: 3.1353 - accuracy: 0.2037 - val_loss: 3.0627 - val_accuracy: 0.2524\n",
            "Epoch 9/30\n",
            "212/212 [==============================] - 31s 140ms/step - loss: 3.0925 - accuracy: 0.2210 - val_loss: 2.9725 - val_accuracy: 0.2671\n",
            "Epoch 10/30\n",
            "212/212 [==============================] - 31s 141ms/step - loss: 3.0362 - accuracy: 0.2321 - val_loss: 2.9343 - val_accuracy: 0.2701\n",
            "Epoch 11/30\n",
            "212/212 [==============================] - 31s 141ms/step - loss: 2.9988 - accuracy: 0.2469 - val_loss: 2.8961 - val_accuracy: 0.2843\n",
            "Epoch 12/30\n",
            "212/212 [==============================] - 31s 143ms/step - loss: 2.9714 - accuracy: 0.2571 - val_loss: 2.8819 - val_accuracy: 0.2973\n",
            "Epoch 13/30\n",
            "212/212 [==============================] - 31s 140ms/step - loss: 2.9384 - accuracy: 0.2625 - val_loss: 2.9567 - val_accuracy: 0.2861\n",
            "Epoch 14/30\n",
            "212/212 [==============================] - 30s 140ms/step - loss: 2.9072 - accuracy: 0.2758 - val_loss: 2.9281 - val_accuracy: 0.3026\n",
            "Epoch 15/30\n",
            "212/212 [==============================] - 31s 140ms/step - loss: 2.8754 - accuracy: 0.2831 - val_loss: 2.8448 - val_accuracy: 0.3203\n",
            "Epoch 16/30\n",
            "212/212 [==============================] - 31s 140ms/step - loss: 2.8450 - accuracy: 0.2940 - val_loss: 2.7741 - val_accuracy: 0.3292\n",
            "Epoch 17/30\n",
            "212/212 [==============================] - 31s 142ms/step - loss: 2.8059 - accuracy: 0.3036 - val_loss: 2.8682 - val_accuracy: 0.3262\n",
            "Epoch 18/30\n",
            "212/212 [==============================] - 31s 139ms/step - loss: 2.7618 - accuracy: 0.3215 - val_loss: 2.8389 - val_accuracy: 0.3457\n",
            "Epoch 19/30\n",
            "212/212 [==============================] - 31s 140ms/step - loss: 2.7332 - accuracy: 0.3203 - val_loss: 2.8007 - val_accuracy: 0.3339\n",
            "Epoch 20/30\n",
            "212/212 [==============================] - 31s 141ms/step - loss: 2.6842 - accuracy: 0.3389 - val_loss: 2.7503 - val_accuracy: 0.3623\n",
            "Epoch 21/30\n",
            "212/212 [==============================] - 30s 140ms/step - loss: 2.6464 - accuracy: 0.3526 - val_loss: 2.7651 - val_accuracy: 0.3511\n",
            "Epoch 22/30\n",
            "212/212 [==============================] - 32s 147ms/step - loss: 2.6110 - accuracy: 0.3658 - val_loss: 2.7407 - val_accuracy: 0.3617\n",
            "Epoch 23/30\n",
            "212/212 [==============================] - 31s 141ms/step - loss: 2.6032 - accuracy: 0.3749 - val_loss: 2.7613 - val_accuracy: 0.3611\n",
            "Epoch 24/30\n",
            "212/212 [==============================] - 31s 142ms/step - loss: 2.5679 - accuracy: 0.3840 - val_loss: 2.7883 - val_accuracy: 0.3688\n",
            "Epoch 25/30\n",
            "212/212 [==============================] - 30s 139ms/step - loss: 2.5579 - accuracy: 0.3983 - val_loss: 2.9129 - val_accuracy: 0.3434\n",
            "Epoch 26/30\n",
            "212/212 [==============================] - 31s 141ms/step - loss: 2.5173 - accuracy: 0.4128 - val_loss: 2.8616 - val_accuracy: 0.3658\n",
            "Epoch 27/30\n",
            "212/212 [==============================] - 31s 142ms/step - loss: 2.4936 - accuracy: 0.4134 - val_loss: 2.8127 - val_accuracy: 0.3717\n",
            "Epoch 28/30\n",
            "212/212 [==============================] - 31s 142ms/step - loss: 2.4444 - accuracy: 0.4259 - val_loss: 2.9191 - val_accuracy: 0.3735\n",
            "Epoch 29/30\n",
            "212/212 [==============================] - 31s 144ms/step - loss: 2.4332 - accuracy: 0.4399 - val_loss: 2.9687 - val_accuracy: 0.3505\n",
            "Epoch 30/30\n",
            "212/212 [==============================] - 31s 140ms/step - loss: 2.4111 - accuracy: 0.4592 - val_loss: 2.9648 - val_accuracy: 0.3540\n",
            "53/53 [==============================] - 6s 105ms/step - loss: 2.9648 - accuracy: 0.3540\n",
            "Validation accuracy: 0.3540189266204834\n",
            "Validation loss: 2.9648\n",
            "Training time: 30.33 minutes\n"
          ]
        }
      ]
    },
    {
      "cell_type": "code",
      "source": [
        "fig, (ax1, ax2) = plt.subplots(1, 2, figsize=(10, 4))\n",
        "ax1.plot(model_history.history['accuracy'], linestyle='-', linewidth=2, label='Train Accuracy')\n",
        "ax1.plot(model_history.history['val_accuracy'], linestyle='--', linewidth=2, label='Validation Accuracy')\n",
        "ax1.set_title('Model Accuracy', fontweight='bold')\n",
        "ax1.set_ylabel('Accuracy', fontweight='bold')\n",
        "ax1.set_xlabel('Epoch', fontweight='bold')\n",
        "ax1.legend(loc='upper left')\n",
        "ax2.plot(model_history.history['loss'], linestyle='-', linewidth=2, label='Train Loss')\n",
        "ax2.plot(model_history.history['val_loss'], linestyle='--', linewidth=2, label='Validation Loss')\n",
        "ax2.set_title('Model Loss', fontweight='bold')\n",
        "ax2.set_ylabel('Loss', fontweight='bold')\n",
        "ax2.set_xlabel('Epoch', fontweight='bold')\n",
        "ax2.legend(loc='upper left')\n",
        "plt.show()"
      ],
      "metadata": {
        "colab": {
          "base_uri": "https://localhost:8080/",
          "height": 410
        },
        "id": "Dg8HqXvLMraR",
        "outputId": "4142e695-ab32-49a7-c1d3-f380dbc8feb0"
      },
      "execution_count": null,
      "outputs": [
        {
          "output_type": "display_data",
          "data": {
            "text/plain": [
              "<Figure size 1000x400 with 2 Axes>"
            ],
            "image/png": "[encoded data removed]"
          },
          "metadata": {}
        }
      ]
    },
    {
      "cell_type": "code",
      "source": [
        "val_labels = np.concatenate([y for x, y in val_ds], axis=0)\n",
        "val_class_labels = [val_ds.class_names[label] for label in val_labels]\n",
        "y_pred = model.predict(val_ds) \n",
        "y_pred_classes = np.argmax(y_pred, axis=1) \n",
        "y_pred_classes = y_pred_classes.tolist()\n",
        "\n",
        "artists_names = sorted(artist_df['name'].str.replace(' ', '_').tolist())\n",
        "n_artists = len(artists_names)\n",
        "artist_dict = {}\n",
        "for i in range(n_artists):\n",
        "    artist_dict[i] = artists_names[i]\n",
        "\n",
        "artist_names_pred = [artist_dict[label] for label in y_pred_classes]\n",
        "artist_names_true = val_class_labels\n",
        "\n",
        "print(classification_report(artist_names_true, artist_names_pred, zero_division=0))"
      ],
      "metadata": {
        "colab": {
          "base_uri": "https://localhost:8080/"
        },
        "id": "cMytoOQfVDkH",
        "outputId": "6be58ce6-6ecb-4b9f-9934-2cb0119e2abf"
      },
      "execution_count": null,
      "outputs": [
        {
          "output_type": "stream",
          "name": "stdout",
          "text": [
            "53/53 [==============================] - 6s 92ms/step\n",
            "                           precision    recall  f1-score   support\n",
            "\n",
            "          Albrecht_Dürer       0.00      0.00      0.00        66\n",
            "           Albrecht_Dürer       0.00      0.00      0.00         0\n",
            "            Alfred_Sisley       0.02      0.04      0.03        54\n",
            "        Amedeo_Modigliani       0.00      0.00      0.00        39\n",
            "            Andrei_Rublev       0.00      0.00      0.00        19\n",
            "              Andy_Warhol       0.00      0.00      0.00        24\n",
            "         Camille_Pissarro       0.00      0.00      0.00        16\n",
            "               Caravaggio       0.00      0.00      0.00        15\n",
            "             Claude_Monet       0.00      0.00      0.00        13\n",
            "             Diego_Rivera       0.00      0.00      0.00        15\n",
            "          Diego_Velazquez       0.00      0.00      0.00        22\n",
            "              Edgar_Degas       0.10      0.13      0.12       157\n",
            "            Edouard_Manet       0.00      0.00      0.00        26\n",
            "             Edvard_Munch       0.00      0.00      0.00        10\n",
            "                 El_Greco       0.00      0.00      0.00        21\n",
            "         Eugene_Delacroix       0.00      0.00      0.00         7\n",
            "           Francisco_Goya       0.00      0.00      0.00        53\n",
            "              Frida_Kahlo       0.00      0.00      0.00        24\n",
            "           Georges_Seurat       0.00      0.00      0.00         9\n",
            "        Giotto_di_Bondone       0.00      0.00      0.00        25\n",
            "             Gustav_Klimt       0.00      0.00      0.00        28\n",
            "          Gustave_Courbet       0.00      0.00      0.00        10\n",
            "            Henri_Matisse       0.00      0.00      0.00        39\n",
            "           Henri_Rousseau       0.00      0.00      0.00        16\n",
            "Henri_de_Toulouse-Lautrec       0.00      0.00      0.00        17\n",
            "         Hieronymus_Bosch       0.00      0.00      0.00        28\n",
            "          Jackson_Pollock       0.00      0.00      0.00         6\n",
            "             Jan_van_Eyck       0.00      0.00      0.00        13\n",
            "                Joan_Miro       0.00      0.00      0.00        22\n",
            "         Kazimir_Malevich       0.12      0.04      0.06        27\n",
            "        Leonardo_da_Vinci       0.14      0.03      0.05        36\n",
            "             Marc_Chagall       0.03      0.02      0.03        45\n",
            "             Michelangelo       0.00      0.00      0.00        11\n",
            "           Mikhail_Vrubel       0.00      0.00      0.00        31\n",
            "            Pablo_Picasso       0.07      0.08      0.07        90\n",
            "             Paul_Cezanne       0.00      0.00      0.00         6\n",
            "             Paul_Gauguin       0.05      0.06      0.05        68\n",
            "                Paul_Klee       0.00      0.00      0.00        31\n",
            "        Peter_Paul_Rubens       0.00      0.00      0.00        27\n",
            "    Pierre-Auguste_Renoir       0.02      0.03      0.03        59\n",
            "            Piet_Mondrian       0.00      0.00      0.00        15\n",
            "           Pieter_Bruegel       0.00      0.00      0.00        23\n",
            "                  Raphael       0.00      0.00      0.00        17\n",
            "                Rembrandt       0.03      0.04      0.03        55\n",
            "            Rene_Magritte       0.02      0.02      0.02        45\n",
            "            Salvador_Dali       0.00      0.00      0.00        23\n",
            "        Sandro_Botticelli       0.00      0.00      0.00        24\n",
            "                   Titian       0.05      0.06      0.05        52\n",
            "       Vasiliy_Kandinskiy       0.00      0.00      0.00        10\n",
            "         Vincent_van_Gogh       0.10      0.15      0.12       192\n",
            "           William_Turner       0.00      0.00      0.00        11\n",
            "\n",
            "                 accuracy                           0.04      1692\n",
            "                macro avg       0.01      0.01      0.01      1692\n",
            "             weighted avg       0.04      0.04      0.04      1692\n",
            "\n"
          ]
        }
      ]
    },
    {
      "cell_type": "code",
      "source": [
        "precision = precision_score(artist_names_true, artist_names_pred, average='macro', zero_division=0)\n",
        "print(\"Precision of the model\", precision)\n",
        "recall = recall_score(artist_names_true, artist_names_pred, average='macro', zero_division=0)\n",
        "print(\"Recall of the model\", recall)\n",
        "f1 = f1_score(artist_names_true, artist_names_pred, average='macro', zero_division=0)\n",
        "print(\"F1-score of the model\", f1)"
      ],
      "metadata": {
        "colab": {
          "base_uri": "https://localhost:8080/"
        },
        "id": "lFfEJIn9Mt_w",
        "outputId": "81379032-ccc5-48a7-d47f-8ca192235deb"
      },
      "execution_count": null,
      "outputs": [
        {
          "output_type": "stream",
          "name": "stdout",
          "text": [
            "Precision of the model 0.014655208062489022\n",
            "Recall of the model 0.0136402251191497\n",
            "F1-score of the model 0.012621028465151748\n"
          ]
        }
      ]
    },
    {
      "cell_type": "code",
      "source": [
        "report = classification_report(artist_names_true, artist_names_pred, zero_division=0)\n",
        "\n",
        "f1_scores = {}\n",
        "for line in report.split('\\n')[2:-5]:\n",
        "    line = line.split()\n",
        "    if len(line) == 0:\n",
        "        continue\n",
        "    class_name = line[0]\n",
        "    f1_score = float(line[-1])\n",
        "    f1_scores[class_name] = f1_score\n",
        "\n",
        "top_classes = sorted(f1_scores.items(), key=lambda x: x[1], reverse=True)[:5]\n",
        "print(\"Top 5 classes by f1-score:\")\n",
        "for class_name, f1_score in top_classes:\n",
        "    print(class_name)"
      ],
      "metadata": {
        "colab": {
          "base_uri": "https://localhost:8080/"
        },
        "id": "bEfBvDBJMyJL",
        "outputId": "110c4a03-eb60-4f94-c639-6b1a019d49a2"
      },
      "execution_count": null,
      "outputs": [
        {
          "output_type": "stream",
          "name": "stdout",
          "text": [
            "Top 5 classes by f1-score:\n",
            "Vincent_van_Gogh\n",
            "Edgar_Degas\n",
            "Pablo_Picasso\n",
            "Paul_Gauguin\n",
            "Albrecht_Dürer\n"
          ]
        }
      ]
    }
  ]
}