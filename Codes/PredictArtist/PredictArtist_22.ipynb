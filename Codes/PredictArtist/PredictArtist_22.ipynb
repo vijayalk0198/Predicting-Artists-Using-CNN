{
  "nbformat": 4,
  "nbformat_minor": 0,
  "metadata": {
    "colab": {
      "provenance": [],
      "machine_shape": "hm"
    },
    "kernelspec": {
      "name": "python3",
      "display_name": "Python 3"
    },
    "language_info": {
      "name": "python"
    },
    "accelerator": "GPU",
    "gpuClass": "premium"
  },
  "cells": [
    {
      "cell_type": "code",
      "execution_count": null,
      "metadata": {
        "id": "qDTOcSg9aSJ0"
      },
      "outputs": [],
      "source": [
        "import numpy as np \n",
        "import pandas as pd \n",
        "import seaborn as sns\n",
        "import matplotlib.pyplot as plt\n",
        "import os\n",
        "from scipy.stats import pearsonr\n",
        "import random\n",
        "import torch\n",
        "import torchvision.transforms.functional as TF\n",
        "import torchvision.transforms as transforms\n",
        "from PIL import Image\n",
        "import pathlib\n",
        "import tensorflow as tf\n",
        "import numpy as np\n",
        "import pandas as pd\n",
        "import os\n",
        "import PIL\n",
        "from tensorflow import keras\n",
        "from tensorflow.keras import layers\n",
        "from tensorflow.keras.models import Sequential\n",
        "from tensorflow.keras.layers import Dense, Dropout, Flatten, Conv2D, MaxPooling2D\n",
        "import glob\n",
        "import torchvision\n",
        "from torchvision import transforms\n",
        "from torch.utils.data import random_split, DataLoader\n",
        "import torch.nn as nn\n",
        "import torch.optim as optim\n",
        "import time\n",
        "from tensorflow.keras.callbacks import EarlyStopping\n",
        "from sklearn.metrics import classification_report\n",
        "from sklearn.metrics import precision_score\n",
        "from sklearn.metrics import f1_score\n",
        "from sklearn.metrics import recall_score\n",
        "from tensorflow.keras import regularizers"
      ]
    },
    {
      "cell_type": "code",
      "source": [
        "from google.colab import drive\n",
        "drive.mount('/content/drive')\n",
        "%cd /content/drive/MyDrive/"
      ],
      "metadata": {
        "colab": {
          "base_uri": "https://localhost:8080/"
        },
        "id": "Fg8NTz34aYWw",
        "outputId": "ee8908ea-bc19-4e3b-df5e-4d9bf34e1a82"
      },
      "execution_count": null,
      "outputs": [
        {
          "output_type": "stream",
          "name": "stdout",
          "text": [
            "Mounted at /content/drive\n",
            "/content/drive/MyDrive\n"
          ]
        }
      ]
    },
    {
      "cell_type": "code",
      "source": [
        "data_dir = pathlib.Path('images/images')"
      ],
      "metadata": {
        "id": "ejxRs2c6aaiU"
      },
      "execution_count": null,
      "outputs": []
    },
    {
      "cell_type": "code",
      "source": [
        "artist_df = pd.read_csv('artists.csv')"
      ],
      "metadata": {
        "id": "LZIMfpRmaerY"
      },
      "execution_count": null,
      "outputs": []
    },
    {
      "cell_type": "code",
      "source": [
        "batch_size = 32\n",
        "img_height, img_width = 224, 224\n",
        "artists_names= sorted(artist_df['name'].str.replace(' ', '_').tolist())\n",
        "\n",
        "train_ds = tf.keras.preprocessing.image_dataset_from_directory(\n",
        "    data_dir, \n",
        "    validation_split=0.2, \n",
        "    seed=123,\n",
        "    subset='training',\n",
        "    image_size=(img_height, img_width), \n",
        "    batch_size=batch_size\n",
        ")\n",
        "\n",
        "val_ds = tf.keras.preprocessing.image_dataset_from_directory(\n",
        "    data_dir, \n",
        "    validation_split=0.2, \n",
        "    seed=123,\n",
        "    subset='validation', \n",
        "    image_size=(img_height, img_width), \n",
        "    batch_size=batch_size\n",
        ")"
      ],
      "metadata": {
        "colab": {
          "base_uri": "https://localhost:8080/"
        },
        "id": "Ty7uL8Xeag4G",
        "outputId": "40147d1e-24fb-44ef-befd-6537aa5984eb"
      },
      "execution_count": null,
      "outputs": [
        {
          "output_type": "stream",
          "name": "stdout",
          "text": [
            "Found 8461 files belonging to 50 classes.\n",
            "Using 6769 files for training.\n",
            "Found 8461 files belonging to 50 classes.\n",
            "Using 1692 files for validation.\n"
          ]
        }
      ]
    },
    {
      "cell_type": "code",
      "source": [
        "num_classes = 50\n",
        "input_shape = (batch_size, img_height, img_width, 3)\n",
        "model = Sequential()\n",
        "model.add(tf.keras.layers.experimental.preprocessing.Rescaling(scale=1./255,input_shape=(img_height, img_width, 3)))\n",
        "model.add(Conv2D(32, kernel_size=(3, 3), activation='relu'))\n",
        "model.add(MaxPooling2D(pool_size=(2, 2)))\n",
        "model.add(Conv2D(64, kernel_size=(3, 3), activation='relu'))\n",
        "model.add(MaxPooling2D(pool_size=(2, 2)))\n",
        "model.add(Conv2D(128, kernel_size=(3, 3), activation='relu'))\n",
        "model.add(MaxPooling2D(pool_size=(2, 2)))\n",
        "model.add(Conv2D(256, kernel_size=(3, 3), activation='relu'))\n",
        "model.add(MaxPooling2D(pool_size=(2, 2)))\n",
        "model.add(Flatten())\n",
        "#model.add(Dense(512, activation='relu')) \n",
        "model.add(Dense(512, activation='relu', kernel_regularizer=regularizers.l2(0.01)))\n",
        "model.add(Dropout(0.3))\n",
        "model.add(Dense(512, activation='relu', kernel_regularizer=regularizers.l2(0.01)))\n",
        "model.add(Dropout(0.3))\n",
        "model.add(Dense(num_classes, activation='softmax'))\n",
        "model.build(input_shape)\n",
        "model.summary()"
      ],
      "metadata": {
        "colab": {
          "base_uri": "https://localhost:8080/"
        },
        "id": "fxSbwkcgairu",
        "outputId": "942b0284-6a3c-43d1-ff30-40e04a2dc944"
      },
      "execution_count": null,
      "outputs": [
        {
          "output_type": "stream",
          "name": "stdout",
          "text": [
            "Model: \"sequential\"\n",
            "_________________________________________________________________\n",
            " Layer (type)                Output Shape              Param #   \n",
            "=================================================================\n",
            " rescaling (Rescaling)       (None, 224, 224, 3)       0         \n",
            "                                                                 \n",
            " conv2d (Conv2D)             (None, 222, 222, 32)      896       \n",
            "                                                                 \n",
            " max_pooling2d (MaxPooling2D  (None, 111, 111, 32)     0         \n",
            " )                                                               \n",
            "                                                                 \n",
            " conv2d_1 (Conv2D)           (None, 109, 109, 64)      18496     \n",
            "                                                                 \n",
            " max_pooling2d_1 (MaxPooling  (None, 54, 54, 64)       0         \n",
            " 2D)                                                             \n",
            "                                                                 \n",
            " conv2d_2 (Conv2D)           (None, 52, 52, 128)       73856     \n",
            "                                                                 \n",
            " max_pooling2d_2 (MaxPooling  (None, 26, 26, 128)      0         \n",
            " 2D)                                                             \n",
            "                                                                 \n",
            " conv2d_3 (Conv2D)           (None, 24, 24, 256)       295168    \n",
            "                                                                 \n",
            " max_pooling2d_3 (MaxPooling  (None, 12, 12, 256)      0         \n",
            " 2D)                                                             \n",
            "                                                                 \n",
            " flatten (Flatten)           (None, 36864)             0         \n",
            "                                                                 \n",
            " dense (Dense)               (None, 512)               18874880  \n",
            "                                                                 \n",
            " dropout (Dropout)           (None, 512)               0         \n",
            "                                                                 \n",
            " dense_1 (Dense)             (None, 512)               262656    \n",
            "                                                                 \n",
            " dropout_1 (Dropout)         (None, 512)               0         \n",
            "                                                                 \n",
            " dense_2 (Dense)             (None, 50)                25650     \n",
            "                                                                 \n",
            "=================================================================\n",
            "Total params: 19,551,602\n",
            "Trainable params: 19,551,602\n",
            "Non-trainable params: 0\n",
            "_________________________________________________________________\n"
          ]
        }
      ]
    },
    {
      "cell_type": "code",
      "source": [
        "model.compile(optimizer='adam', loss='sparse_categorical_crossentropy', metrics=['accuracy'])\n",
        "early_stop = EarlyStopping(monitor='val_loss', patience=10)\n",
        "num_epochs = 50\n",
        "start_time = time.time()\n",
        "model_history = model.fit(\n",
        "    train_ds,\n",
        "    validation_data=val_ds,\n",
        "    epochs=num_epochs,\n",
        "    callbacks=[early_stop]\n",
        ")\n",
        "end_time = time.time()\n",
        "training_time = end_time - start_time\n",
        "\n",
        "loss, accuracy = model.evaluate(val_ds)\n",
        "print(f'Validation accuracy: {accuracy}')\n",
        "print(f'Validation loss: {loss:.4f}')\n",
        "training_time_minutes = round(training_time / 60, 2)\n",
        "print(f\"Training time: {training_time_minutes} minutes\")"
      ],
      "metadata": {
        "colab": {
          "base_uri": "https://localhost:8080/"
        },
        "id": "LTLqmIuLanN0",
        "outputId": "8839deaf-e9fd-4f66-aa88-306b16dff06d"
      },
      "execution_count": null,
      "outputs": [
        {
          "output_type": "stream",
          "name": "stdout",
          "text": [
            "Epoch 1/50\n",
            "212/212 [==============================] - 520s 2s/step - loss: 4.8524 - accuracy: 0.1018 - val_loss: 3.5905 - val_accuracy: 0.1389\n",
            "Epoch 2/50\n",
            "212/212 [==============================] - 13s 61ms/step - loss: 3.5493 - accuracy: 0.1346 - val_loss: 3.4121 - val_accuracy: 0.1673\n",
            "Epoch 3/50\n",
            "212/212 [==============================] - 13s 61ms/step - loss: 3.4294 - accuracy: 0.1474 - val_loss: 3.3594 - val_accuracy: 0.1548\n",
            "Epoch 4/50\n",
            "212/212 [==============================] - 13s 61ms/step - loss: 3.3373 - accuracy: 0.1533 - val_loss: 3.2340 - val_accuracy: 0.2116\n",
            "Epoch 5/50\n",
            "212/212 [==============================] - 13s 61ms/step - loss: 3.2676 - accuracy: 0.1699 - val_loss: 3.1929 - val_accuracy: 0.1933\n",
            "Epoch 6/50\n",
            "212/212 [==============================] - 13s 61ms/step - loss: 3.2140 - accuracy: 0.1875 - val_loss: 3.1146 - val_accuracy: 0.2246\n",
            "Epoch 7/50\n",
            "212/212 [==============================] - 13s 61ms/step - loss: 3.1666 - accuracy: 0.1941 - val_loss: 3.1076 - val_accuracy: 0.2299\n",
            "Epoch 8/50\n",
            "212/212 [==============================] - 13s 61ms/step - loss: 3.1576 - accuracy: 0.1993 - val_loss: 3.1087 - val_accuracy: 0.2275\n",
            "Epoch 9/50\n",
            "212/212 [==============================] - 13s 61ms/step - loss: 3.1292 - accuracy: 0.2123 - val_loss: 3.1250 - val_accuracy: 0.2311\n",
            "Epoch 10/50\n",
            "212/212 [==============================] - 13s 62ms/step - loss: 3.1079 - accuracy: 0.2387 - val_loss: 3.0358 - val_accuracy: 0.2595\n",
            "Epoch 11/50\n",
            "212/212 [==============================] - 13s 61ms/step - loss: 3.0403 - accuracy: 0.2534 - val_loss: 2.9615 - val_accuracy: 0.2985\n",
            "Epoch 12/50\n",
            "212/212 [==============================] - 13s 61ms/step - loss: 3.0034 - accuracy: 0.2661 - val_loss: 2.9248 - val_accuracy: 0.3097\n",
            "Epoch 13/50\n",
            "212/212 [==============================] - 13s 61ms/step - loss: 2.9476 - accuracy: 0.2752 - val_loss: 2.9581 - val_accuracy: 0.2991\n",
            "Epoch 14/50\n",
            "212/212 [==============================] - 13s 61ms/step - loss: 2.9051 - accuracy: 0.2894 - val_loss: 2.8466 - val_accuracy: 0.3245\n",
            "Epoch 15/50\n",
            "212/212 [==============================] - 13s 61ms/step - loss: 2.8398 - accuracy: 0.3012 - val_loss: 2.8872 - val_accuracy: 0.3026\n",
            "Epoch 16/50\n",
            "212/212 [==============================] - 13s 62ms/step - loss: 2.8560 - accuracy: 0.3036 - val_loss: 2.8351 - val_accuracy: 0.3221\n",
            "Epoch 17/50\n",
            "212/212 [==============================] - 13s 62ms/step - loss: 2.8114 - accuracy: 0.3156 - val_loss: 2.8073 - val_accuracy: 0.3440\n",
            "Epoch 18/50\n",
            "212/212 [==============================] - 13s 61ms/step - loss: 2.7794 - accuracy: 0.3156 - val_loss: 2.7653 - val_accuracy: 0.3493\n",
            "Epoch 19/50\n",
            "212/212 [==============================] - 14s 62ms/step - loss: 2.7439 - accuracy: 0.3417 - val_loss: 2.7462 - val_accuracy: 0.3570\n",
            "Epoch 20/50\n",
            "212/212 [==============================] - 13s 61ms/step - loss: 2.6966 - accuracy: 0.3557 - val_loss: 2.7851 - val_accuracy: 0.3558\n",
            "Epoch 21/50\n",
            "212/212 [==============================] - 13s 61ms/step - loss: 2.7028 - accuracy: 0.3547 - val_loss: 2.7655 - val_accuracy: 0.3617\n",
            "Epoch 22/50\n",
            "212/212 [==============================] - 13s 61ms/step - loss: 2.6424 - accuracy: 0.3724 - val_loss: 2.7645 - val_accuracy: 0.3611\n",
            "Epoch 23/50\n",
            "212/212 [==============================] - 13s 60ms/step - loss: 2.6346 - accuracy: 0.3837 - val_loss: 2.8542 - val_accuracy: 0.3440\n",
            "Epoch 24/50\n",
            "212/212 [==============================] - 13s 61ms/step - loss: 2.5970 - accuracy: 0.3950 - val_loss: 2.7906 - val_accuracy: 0.3682\n",
            "Epoch 25/50\n",
            "212/212 [==============================] - 13s 61ms/step - loss: 2.5718 - accuracy: 0.4085 - val_loss: 2.8111 - val_accuracy: 0.3629\n",
            "Epoch 26/50\n",
            "212/212 [==============================] - 13s 61ms/step - loss: 2.5284 - accuracy: 0.4150 - val_loss: 2.8138 - val_accuracy: 0.3735\n",
            "Epoch 27/50\n",
            "212/212 [==============================] - 14s 62ms/step - loss: 2.4950 - accuracy: 0.4281 - val_loss: 2.8701 - val_accuracy: 0.3765\n",
            "Epoch 28/50\n",
            "212/212 [==============================] - 13s 61ms/step - loss: 2.4626 - accuracy: 0.4337 - val_loss: 2.9332 - val_accuracy: 0.3670\n",
            "Epoch 29/50\n",
            "212/212 [==============================] - 13s 61ms/step - loss: 2.4451 - accuracy: 0.4472 - val_loss: 2.9385 - val_accuracy: 0.3848\n",
            "53/53 [==============================] - 3s 41ms/step - loss: 2.9385 - accuracy: 0.3848\n",
            "Validation accuracy: 0.3847517669200897\n",
            "Validation loss: 2.9385\n",
            "Training time: 14.92 minutes\n"
          ]
        }
      ]
    },
    {
      "cell_type": "code",
      "source": [
        "fig, (ax1, ax2) = plt.subplots(1, 2, figsize=(10, 4))\n",
        "ax1.plot(model_history.history['accuracy'], linestyle='-', linewidth=2, label='Train Accuracy')\n",
        "ax1.plot(model_history.history['val_accuracy'], linestyle='--', linewidth=2, label='Validation Accuracy')\n",
        "ax1.set_title('Model Accuracy', fontweight='bold')\n",
        "ax1.set_ylabel('Accuracy', fontweight='bold')\n",
        "ax1.set_xlabel('Epoch', fontweight='bold')\n",
        "ax1.legend(loc='upper left')\n",
        "ax2.plot(model_history.history['loss'], linestyle='-', linewidth=2, label='Train Loss')\n",
        "ax2.plot(model_history.history['val_loss'], linestyle='--', linewidth=2, label='Validation Loss')\n",
        "ax2.set_title('Model Loss', fontweight='bold')\n",
        "ax2.set_ylabel('Loss', fontweight='bold')\n",
        "ax2.set_xlabel('Epoch', fontweight='bold')\n",
        "ax2.legend(loc='upper left')\n",
        "plt.show()"
      ],
      "metadata": {
        "colab": {
          "base_uri": "https://localhost:8080/",
          "height": 410
        },
        "id": "bD_rdiw-aran",
        "outputId": "ea9e3107-feb0-4859-850c-549d672ec7c5"
      },
      "execution_count": null,
      "outputs": [
        {
          "output_type": "display_data",
          "data": {
            "text/plain": [
              "<Figure size 1000x400 with 2 Axes>"
            ],
            "image/png": "[encoded data removed]"
          },
          "metadata": {}
        }
      ]
    },
    {
      "cell_type": "code",
      "source": [
        "val_labels = np.concatenate([y for x, y in val_ds], axis=0)\n",
        "val_class_labels = [val_ds.class_names[label] for label in val_labels]\n",
        "y_pred = model.predict(val_ds) \n",
        "y_pred_classes = np.argmax(y_pred, axis=1) \n",
        "y_pred_classes = y_pred_classes.tolist()\n",
        "\n",
        "artists_names = sorted(artist_df['name'].str.replace(' ', '_').tolist())\n",
        "n_artists = len(artists_names)\n",
        "artist_dict = {}\n",
        "for i in range(n_artists):\n",
        "    artist_dict[i] = artists_names[i]\n",
        "\n",
        "artist_names_pred = [artist_dict[label] for label in y_pred_classes]\n",
        "artist_names_true = val_class_labels\n",
        "\n",
        "print(classification_report(artist_names_true, artist_names_pred, zero_division=0))"
      ],
      "metadata": {
        "colab": {
          "base_uri": "https://localhost:8080/"
        },
        "id": "G5gV5kRJavLB",
        "outputId": "b37710bc-ed4f-4c24-f265-0f8b649a0bae"
      },
      "execution_count": null,
      "outputs": [
        {
          "output_type": "stream",
          "name": "stdout",
          "text": [
            "53/53 [==============================] - 3s 43ms/step\n",
            "                           precision    recall  f1-score   support\n",
            "\n",
            "          Albrecht_Dürer       0.00      0.00      0.00        66\n",
            "           Albrecht_Dürer       0.00      0.00      0.00         0\n",
            "            Alfred_Sisley       0.04      0.06      0.04        54\n",
            "        Amedeo_Modigliani       0.03      0.05      0.03        39\n",
            "            Andrei_Rublev       0.00      0.00      0.00        19\n",
            "              Andy_Warhol       0.00      0.00      0.00        24\n",
            "         Camille_Pissarro       0.00      0.00      0.00        16\n",
            "               Caravaggio       0.00      0.00      0.00        15\n",
            "             Claude_Monet       0.00      0.00      0.00        13\n",
            "             Diego_Rivera       0.00      0.00      0.00        15\n",
            "          Diego_Velazquez       0.02      0.05      0.03        22\n",
            "              Edgar_Degas       0.08      0.13      0.10       157\n",
            "            Edouard_Manet       0.00      0.00      0.00        26\n",
            "             Edvard_Munch       0.00      0.00      0.00        10\n",
            "                 El_Greco       0.00      0.00      0.00        21\n",
            "         Eugene_Delacroix       0.00      0.00      0.00         7\n",
            "           Francisco_Goya       0.00      0.00      0.00        53\n",
            "              Frida_Kahlo       0.00      0.00      0.00        24\n",
            "           Georges_Seurat       0.00      0.00      0.00         9\n",
            "        Giotto_di_Bondone       0.05      0.04      0.04        25\n",
            "             Gustav_Klimt       0.00      0.00      0.00        28\n",
            "          Gustave_Courbet       0.00      0.00      0.00        10\n",
            "            Henri_Matisse       0.00      0.00      0.00        39\n",
            "           Henri_Rousseau       0.00      0.00      0.00        16\n",
            "Henri_de_Toulouse-Lautrec       0.00      0.00      0.00        17\n",
            "         Hieronymus_Bosch       0.08      0.04      0.05        28\n",
            "          Jackson_Pollock       0.00      0.00      0.00         6\n",
            "             Jan_van_Eyck       0.00      0.00      0.00        13\n",
            "                Joan_Miro       0.00      0.00      0.00        22\n",
            "         Kazimir_Malevich       0.00      0.00      0.00        27\n",
            "        Leonardo_da_Vinci       0.00      0.00      0.00        36\n",
            "             Marc_Chagall       0.00      0.00      0.00        45\n",
            "             Michelangelo       0.00      0.00      0.00        11\n",
            "           Mikhail_Vrubel       0.03      0.06      0.04        31\n",
            "            Pablo_Picasso       0.11      0.09      0.10        90\n",
            "             Paul_Cezanne       0.00      0.00      0.00         6\n",
            "             Paul_Gauguin       0.06      0.04      0.05        68\n",
            "                Paul_Klee       0.00      0.00      0.00        31\n",
            "        Peter_Paul_Rubens       0.04      0.04      0.04        27\n",
            "    Pierre-Auguste_Renoir       0.03      0.03      0.03        59\n",
            "            Piet_Mondrian       0.00      0.00      0.00        15\n",
            "           Pieter_Bruegel       0.00      0.00      0.00        23\n",
            "                  Raphael       0.00      0.00      0.00        17\n",
            "                Rembrandt       0.02      0.02      0.02        55\n",
            "            Rene_Magritte       0.02      0.02      0.02        45\n",
            "            Salvador_Dali       0.04      0.09      0.05        23\n",
            "        Sandro_Botticelli       0.00      0.00      0.00        24\n",
            "                   Titian       0.04      0.10      0.06        52\n",
            "       Vasiliy_Kandinskiy       0.00      0.00      0.00        10\n",
            "         Vincent_van_Gogh       0.09      0.08      0.09       192\n",
            "           William_Turner       0.00      0.00      0.00        11\n",
            "\n",
            "                 accuracy                           0.04      1692\n",
            "                macro avg       0.01      0.02      0.02      1692\n",
            "             weighted avg       0.04      0.04      0.04      1692\n",
            "\n"
          ]
        }
      ]
    },
    {
      "cell_type": "code",
      "source": [
        "precision = precision_score(artist_names_true, artist_names_pred, average='macro', zero_division=0)\n",
        "print(\"Precision of the model\", precision)\n",
        "recall = recall_score(artist_names_true, artist_names_pred, average='macro', zero_division=0)\n",
        "print(\"Recall of the model\", recall)\n",
        "f1 = f1_score(artist_names_true, artist_names_pred, average='macro', zero_division=0)\n",
        "print(\"F1-score of the model\", f1)"
      ],
      "metadata": {
        "colab": {
          "base_uri": "https://localhost:8080/"
        },
        "id": "ccmhxtXoaxha",
        "outputId": "bca79f45-d44c-4fa0-d6a7-109a837e53c0"
      },
      "execution_count": null,
      "outputs": [
        {
          "output_type": "stream",
          "name": "stdout",
          "text": [
            "Precision of the model 0.014935340290937111\n",
            "Recall of the model 0.018249033760203703\n",
            "F1-score of the model 0.01552964450517228\n"
          ]
        }
      ]
    },
    {
      "cell_type": "code",
      "source": [
        "report = classification_report(artist_names_true, artist_names_pred, zero_division=0)\n",
        "\n",
        "f1_scores = {}\n",
        "for line in report.split('\\n')[2:-5]:\n",
        "    line = line.split()\n",
        "    if len(line) == 0:\n",
        "        continue\n",
        "    class_name = line[0]\n",
        "    f1_score = float(line[-1])\n",
        "    f1_scores[class_name] = f1_score\n",
        "\n",
        "top_classes = sorted(f1_scores.items(), key=lambda x: x[1], reverse=True)[:5]\n",
        "print(\"Top 5 classes by f1-score:\")\n",
        "for class_name, f1_score in top_classes:\n",
        "    print(class_name)"
      ],
      "metadata": {
        "colab": {
          "base_uri": "https://localhost:8080/"
        },
        "id": "eTa9Y7NSa0by",
        "outputId": "33eee7b9-5648-452b-a504-7b5ca297bd71"
      },
      "execution_count": null,
      "outputs": [
        {
          "output_type": "stream",
          "name": "stdout",
          "text": [
            "Top 5 classes by f1-score:\n",
            "Vincent_van_Gogh\n",
            "Edgar_Degas\n",
            "Pablo_Picasso\n",
            "Paul_Gauguin\n",
            "Albrecht_Dürer\n"
          ]
        }
      ]
    }
  ]
}