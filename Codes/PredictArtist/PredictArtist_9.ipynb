{
  "nbformat": 4,
  "nbformat_minor": 0,
  "metadata": {
    "colab": {
      "provenance": [],
      "machine_shape": "hm"
    },
    "kernelspec": {
      "name": "python3",
      "display_name": "Python 3"
    },
    "language_info": {
      "name": "python"
    },
    "accelerator": "GPU",
    "gpuClass": "premium"
  },
  "cells": [
    {
      "cell_type": "code",
      "execution_count": null,
      "metadata": {
        "id": "hHcDXBPPJ4Z_"
      },
      "outputs": [],
      "source": [
        "import numpy as np \n",
        "import pandas as pd \n",
        "import seaborn as sns\n",
        "import matplotlib.pyplot as plt\n",
        "import os\n",
        "from scipy.stats import pearsonr\n",
        "import random\n",
        "import torch\n",
        "import torchvision.transforms.functional as TF\n",
        "import torchvision.transforms as transforms\n",
        "from PIL import Image\n",
        "import pathlib\n",
        "import tensorflow as tf\n",
        "import numpy as np\n",
        "import pandas as pd\n",
        "import os\n",
        "import PIL\n",
        "from tensorflow import keras\n",
        "from tensorflow.keras import layers\n",
        "from tensorflow.keras.models import Sequential\n",
        "from tensorflow.keras.layers import Dense, Dropout, Flatten, Conv2D, MaxPooling2D\n",
        "import glob\n",
        "import torchvision\n",
        "from torchvision import transforms\n",
        "from torch.utils.data import random_split, DataLoader\n",
        "import torch.nn as nn\n",
        "import torch.optim as optim\n",
        "import time\n",
        "from tensorflow.keras.callbacks import EarlyStopping\n",
        "from sklearn.metrics import classification_report\n",
        "from sklearn.metrics import precision_score\n",
        "from sklearn.metrics import f1_score\n",
        "from sklearn.metrics import recall_score"
      ]
    },
    {
      "cell_type": "code",
      "source": [
        "from google.colab import drive\n",
        "drive.mount('/content/drive')\n",
        "%cd /content/drive/MyDrive/"
      ],
      "metadata": {
        "colab": {
          "base_uri": "https://localhost:8080/"
        },
        "id": "7lp2iVkdOPSt",
        "outputId": "c8496283-a7bf-47c8-926d-90db53dda36e"
      },
      "execution_count": null,
      "outputs": [
        {
          "output_type": "stream",
          "name": "stdout",
          "text": [
            "Mounted at /content/drive\n",
            "/content/drive/MyDrive\n"
          ]
        }
      ]
    },
    {
      "cell_type": "code",
      "source": [
        "data_dir = pathlib.Path('images/images')"
      ],
      "metadata": {
        "id": "QqJTq9CeOTgk"
      },
      "execution_count": null,
      "outputs": []
    },
    {
      "cell_type": "code",
      "source": [
        "artist_df = pd.read_csv('artists.csv')"
      ],
      "metadata": {
        "id": "g7iIxlMoOWld"
      },
      "execution_count": null,
      "outputs": []
    },
    {
      "cell_type": "code",
      "source": [
        "batch_size = 32\n",
        "img_height, img_width = 224, 224\n",
        "artists_names= sorted(artist_df['name'].str.replace(' ', '_').tolist())\n",
        "\n",
        "train_ds = tf.keras.preprocessing.image_dataset_from_directory(\n",
        "    data_dir, \n",
        "    validation_split=0.3, \n",
        "    seed=123,\n",
        "    subset='training',\n",
        "    image_size=(img_height, img_width), \n",
        "    batch_size=batch_size\n",
        ")\n",
        "\n",
        "val_ds = tf.keras.preprocessing.image_dataset_from_directory(\n",
        "    data_dir, \n",
        "    validation_split=0.3, \n",
        "    seed=123,\n",
        "    subset='validation', \n",
        "    image_size=(img_height, img_width), \n",
        "    batch_size=batch_size\n",
        ")"
      ],
      "metadata": {
        "colab": {
          "base_uri": "https://localhost:8080/"
        },
        "id": "uHzo-gQHOYna",
        "outputId": "600ef041-3c8e-43d5-c484-a3bb53f7158b"
      },
      "execution_count": null,
      "outputs": [
        {
          "output_type": "stream",
          "name": "stdout",
          "text": [
            "Found 8461 files belonging to 50 classes.\n",
            "Using 5923 files for training.\n",
            "Found 8461 files belonging to 50 classes.\n",
            "Using 2538 files for validation.\n"
          ]
        }
      ]
    },
    {
      "cell_type": "code",
      "source": [
        "num_classes = 50\n",
        "input_shape = (batch_size, img_height, img_width, 3)\n",
        "model = Sequential()\n",
        "model.add(tf.keras.layers.experimental.preprocessing.Rescaling(scale=1./255,input_shape=(img_height, img_width, 3)))\n",
        "model.add(Conv2D(32, kernel_size=(3, 3), activation='relu'))\n",
        "model.add(MaxPooling2D(pool_size=(2, 2)))\n",
        "model.add(Conv2D(64, kernel_size=(3, 3), activation='relu'))\n",
        "model.add(MaxPooling2D(pool_size=(2, 2)))\n",
        "model.add(Conv2D(128, kernel_size=(3, 3), activation='relu'))\n",
        "model.add(MaxPooling2D(pool_size=(2, 2)))\n",
        "model.add(Conv2D(256, kernel_size=(3, 3), activation='relu'))\n",
        "model.add(MaxPooling2D(pool_size=(2, 2)))\n",
        "model.add(Flatten())\n",
        "model.add(Dense(512, activation='relu')) \n",
        "model.add(Dropout(0.3))\n",
        "model.add(Dense(num_classes, activation='softmax'))\n",
        "model.build(input_shape)\n",
        "model.summary()"
      ],
      "metadata": {
        "colab": {
          "base_uri": "https://localhost:8080/"
        },
        "id": "srApH-zbOakw",
        "outputId": "f17fd8f0-609b-4bba-97ea-a5dc7d4e1da6"
      },
      "execution_count": null,
      "outputs": [
        {
          "output_type": "stream",
          "name": "stdout",
          "text": [
            "Model: \"sequential\"\n",
            "_________________________________________________________________\n",
            " Layer (type)                Output Shape              Param #   \n",
            "=================================================================\n",
            " rescaling (Rescaling)       (None, 224, 224, 3)       0         \n",
            "                                                                 \n",
            " conv2d (Conv2D)             (None, 222, 222, 32)      896       \n",
            "                                                                 \n",
            " max_pooling2d (MaxPooling2D  (None, 111, 111, 32)     0         \n",
            " )                                                               \n",
            "                                                                 \n",
            " conv2d_1 (Conv2D)           (None, 109, 109, 64)      18496     \n",
            "                                                                 \n",
            " max_pooling2d_1 (MaxPooling  (None, 54, 54, 64)       0         \n",
            " 2D)                                                             \n",
            "                                                                 \n",
            " conv2d_2 (Conv2D)           (None, 52, 52, 128)       73856     \n",
            "                                                                 \n",
            " max_pooling2d_2 (MaxPooling  (None, 26, 26, 128)      0         \n",
            " 2D)                                                             \n",
            "                                                                 \n",
            " conv2d_3 (Conv2D)           (None, 24, 24, 256)       295168    \n",
            "                                                                 \n",
            " max_pooling2d_3 (MaxPooling  (None, 12, 12, 256)      0         \n",
            " 2D)                                                             \n",
            "                                                                 \n",
            " flatten (Flatten)           (None, 36864)             0         \n",
            "                                                                 \n",
            " dense (Dense)               (None, 512)               18874880  \n",
            "                                                                 \n",
            " dropout (Dropout)           (None, 512)               0         \n",
            "                                                                 \n",
            " dense_1 (Dense)             (None, 50)                25650     \n",
            "                                                                 \n",
            "=================================================================\n",
            "Total params: 19,288,946\n",
            "Trainable params: 19,288,946\n",
            "Non-trainable params: 0\n",
            "_________________________________________________________________\n"
          ]
        }
      ]
    },
    {
      "cell_type": "code",
      "source": [
        "model.compile(optimizer='adam', loss='sparse_categorical_crossentropy', metrics=['accuracy'])\n",
        "#early_stop = EarlyStopping(monitor='val_loss', patience=10)\n",
        "num_epochs = 30\n",
        "start_time = time.time()\n",
        "model_history = model.fit(\n",
        "    train_ds,\n",
        "    validation_data=val_ds,\n",
        "    epochs=num_epochs,\n",
        "    #callbacks=[early_stop]\n",
        ")\n",
        "end_time = time.time()\n",
        "training_time = end_time - start_time\n",
        "\n",
        "loss, accuracy = model.evaluate(val_ds)\n",
        "print(f'Validation accuracy: {accuracy}')\n",
        "print(f'Validation loss: {loss:.4f}')\n",
        "training_time_minutes = round(training_time / 60, 2)\n",
        "print(f\"Training time: {training_time_minutes} minutes\")"
      ],
      "metadata": {
        "colab": {
          "base_uri": "https://localhost:8080/"
        },
        "id": "n3csGjy6OdFf",
        "outputId": "cf915ad6-d40b-45fb-d3c9-bdaeded417f3"
      },
      "execution_count": null,
      "outputs": [
        {
          "output_type": "stream",
          "name": "stdout",
          "text": [
            "Epoch 1/30\n",
            "186/186 [==============================] - 551s 3s/step - loss: 3.4779 - accuracy: 0.1298 - val_loss: 3.3037 - val_accuracy: 0.1682\n",
            "Epoch 2/30\n",
            "186/186 [==============================] - 32s 169ms/step - loss: 3.0729 - accuracy: 0.2092 - val_loss: 2.9466 - val_accuracy: 0.2482\n",
            "Epoch 3/30\n",
            "186/186 [==============================] - 33s 175ms/step - loss: 2.8220 - accuracy: 0.2668 - val_loss: 2.7849 - val_accuracy: 0.2778\n",
            "Epoch 4/30\n",
            "186/186 [==============================] - 32s 165ms/step - loss: 2.5035 - accuracy: 0.3331 - val_loss: 2.7560 - val_accuracy: 0.2939\n",
            "Epoch 5/30\n",
            "186/186 [==============================] - 32s 166ms/step - loss: 2.1043 - accuracy: 0.4212 - val_loss: 2.8730 - val_accuracy: 0.3026\n",
            "Epoch 6/30\n",
            "186/186 [==============================] - 33s 171ms/step - loss: 1.6513 - accuracy: 0.5387 - val_loss: 3.1557 - val_accuracy: 0.3101\n",
            "Epoch 7/30\n",
            "186/186 [==============================] - 31s 163ms/step - loss: 1.2294 - accuracy: 0.6468 - val_loss: 3.8254 - val_accuracy: 0.3089\n",
            "Epoch 8/30\n",
            "186/186 [==============================] - 31s 163ms/step - loss: 0.8819 - accuracy: 0.7417 - val_loss: 3.8799 - val_accuracy: 0.3125\n",
            "Epoch 9/30\n",
            "186/186 [==============================] - 32s 167ms/step - loss: 0.6269 - accuracy: 0.8116 - val_loss: 4.5569 - val_accuracy: 0.2908\n",
            "Epoch 10/30\n",
            "186/186 [==============================] - 32s 164ms/step - loss: 0.4896 - accuracy: 0.8553 - val_loss: 4.8890 - val_accuracy: 0.3160\n",
            "Epoch 11/30\n",
            "186/186 [==============================] - 32s 167ms/step - loss: 0.3572 - accuracy: 0.8975 - val_loss: 5.2041 - val_accuracy: 0.3227\n",
            "Epoch 12/30\n",
            "186/186 [==============================] - 33s 172ms/step - loss: 0.3049 - accuracy: 0.9098 - val_loss: 5.1704 - val_accuracy: 0.3357\n",
            "Epoch 13/30\n",
            "186/186 [==============================] - 33s 170ms/step - loss: 0.2686 - accuracy: 0.9195 - val_loss: 5.5217 - val_accuracy: 0.3262\n",
            "Epoch 14/30\n",
            "186/186 [==============================] - 33s 170ms/step - loss: 0.2104 - accuracy: 0.9392 - val_loss: 6.0646 - val_accuracy: 0.3160\n",
            "Epoch 15/30\n",
            "186/186 [==============================] - 33s 170ms/step - loss: 0.1808 - accuracy: 0.9485 - val_loss: 5.3987 - val_accuracy: 0.3176\n",
            "Epoch 16/30\n",
            "186/186 [==============================] - 31s 163ms/step - loss: 0.1567 - accuracy: 0.9537 - val_loss: 5.7993 - val_accuracy: 0.3203\n",
            "Epoch 17/30\n",
            "186/186 [==============================] - 31s 163ms/step - loss: 0.1217 - accuracy: 0.9625 - val_loss: 6.0227 - val_accuracy: 0.3282\n",
            "Epoch 18/30\n",
            "186/186 [==============================] - 32s 166ms/step - loss: 0.1127 - accuracy: 0.9635 - val_loss: 6.2989 - val_accuracy: 0.2998\n",
            "Epoch 19/30\n",
            "186/186 [==============================] - 33s 169ms/step - loss: 0.1873 - accuracy: 0.9488 - val_loss: 5.6907 - val_accuracy: 0.3219\n",
            "Epoch 20/30\n",
            "186/186 [==============================] - 33s 171ms/step - loss: 0.1205 - accuracy: 0.9691 - val_loss: 5.8205 - val_accuracy: 0.3290\n",
            "Epoch 21/30\n",
            "186/186 [==============================] - 32s 167ms/step - loss: 0.0921 - accuracy: 0.9743 - val_loss: 6.0615 - val_accuracy: 0.3152\n",
            "Epoch 22/30\n",
            "186/186 [==============================] - 32s 167ms/step - loss: 0.1024 - accuracy: 0.9720 - val_loss: 6.0360 - val_accuracy: 0.3408\n",
            "Epoch 23/30\n",
            "186/186 [==============================] - 32s 168ms/step - loss: 0.0829 - accuracy: 0.9750 - val_loss: 6.5476 - val_accuracy: 0.3219\n",
            "Epoch 24/30\n",
            "186/186 [==============================] - 32s 166ms/step - loss: 0.0771 - accuracy: 0.9765 - val_loss: 6.8840 - val_accuracy: 0.2876\n",
            "Epoch 25/30\n",
            "186/186 [==============================] - 32s 165ms/step - loss: 0.0807 - accuracy: 0.9764 - val_loss: 6.6290 - val_accuracy: 0.3282\n",
            "Epoch 26/30\n",
            "186/186 [==============================] - 32s 168ms/step - loss: 0.1195 - accuracy: 0.9654 - val_loss: 6.2338 - val_accuracy: 0.3156\n",
            "Epoch 27/30\n",
            "186/186 [==============================] - 32s 167ms/step - loss: 0.0822 - accuracy: 0.9762 - val_loss: 6.5557 - val_accuracy: 0.3180\n",
            "Epoch 28/30\n",
            "186/186 [==============================] - 32s 166ms/step - loss: 0.0697 - accuracy: 0.9794 - val_loss: 6.5618 - val_accuracy: 0.3188\n",
            "Epoch 29/30\n",
            "186/186 [==============================] - 34s 173ms/step - loss: 0.0711 - accuracy: 0.9775 - val_loss: 6.9034 - val_accuracy: 0.3148\n",
            "Epoch 30/30\n",
            "186/186 [==============================] - 32s 167ms/step - loss: 0.1057 - accuracy: 0.9701 - val_loss: 6.6131 - val_accuracy: 0.3156\n",
            "80/80 [==============================] - 10s 111ms/step - loss: 6.6131 - accuracy: 0.3156\n",
            "Validation accuracy: 0.3156028389930725\n",
            "Validation loss: 6.6131\n",
            "Training time: 25.57 minutes\n"
          ]
        }
      ]
    },
    {
      "cell_type": "code",
      "source": [
        "fig, (ax1, ax2) = plt.subplots(1, 2, figsize=(10, 4))\n",
        "ax1.plot(model_history.history['accuracy'], linestyle='-', linewidth=2, label='Train Accuracy')\n",
        "ax1.plot(model_history.history['val_accuracy'], linestyle='--', linewidth=2, label='Validation Accuracy')\n",
        "ax1.set_title('Model Accuracy', fontweight='bold')\n",
        "ax1.set_ylabel('Accuracy', fontweight='bold')\n",
        "ax1.set_xlabel('Epoch', fontweight='bold')\n",
        "ax1.legend(loc='upper left')\n",
        "ax2.plot(model_history.history['loss'], linestyle='-', linewidth=2, label='Train Loss')\n",
        "ax2.plot(model_history.history['val_loss'], linestyle='--', linewidth=2, label='Validation Loss')\n",
        "ax2.set_title('Model Loss', fontweight='bold')\n",
        "ax2.set_ylabel('Loss', fontweight='bold')\n",
        "ax2.set_xlabel('Epoch', fontweight='bold')\n",
        "ax2.legend(loc='upper left')\n",
        "plt.show()"
      ],
      "metadata": {
        "colab": {
          "base_uri": "https://localhost:8080/",
          "height": 410
        },
        "id": "byNadZg0Ofuc",
        "outputId": "25327e77-bb34-4ba7-946c-d7fe6904106d"
      },
      "execution_count": null,
      "outputs": [
        {
          "output_type": "display_data",
          "data": {
            "text/plain": [
              "<Figure size 1000x400 with 2 Axes>"
            ],
            "image/png": "[encoded data removed]"
          },
          "metadata": {}
        }
      ]
    },
    {
      "cell_type": "code",
      "source": [
        "val_labels = np.concatenate([y for x, y in val_ds], axis=0)\n",
        "val_class_labels = [val_ds.class_names[label] for label in val_labels]\n",
        "y_pred = model.predict(val_ds) \n",
        "y_pred_classes = np.argmax(y_pred, axis=1) \n",
        "y_pred_classes = y_pred_classes.tolist()\n",
        "\n",
        "artists_names = sorted(artist_df['name'].str.replace(' ', '_').tolist())\n",
        "n_artists = len(artists_names)\n",
        "artist_dict = {}\n",
        "for i in range(n_artists):\n",
        "    artist_dict[i] = artists_names[i]\n",
        "\n",
        "artist_names_pred = [artist_dict[label] for label in y_pred_classes]\n",
        "artist_names_true = val_class_labels\n",
        "\n",
        "print(classification_report(artist_names_true, artist_names_pred, zero_division=0))"
      ],
      "metadata": {
        "colab": {
          "base_uri": "https://localhost:8080/"
        },
        "id": "eFDeHWAhOi2V",
        "outputId": "50793d6a-9cb8-4b37-cdff-473398c1bd20"
      },
      "execution_count": null,
      "outputs": [
        {
          "output_type": "stream",
          "name": "stdout",
          "text": [
            "80/80 [==============================] - 10s 104ms/step\n",
            "                           precision    recall  f1-score   support\n",
            "\n",
            "          Albrecht_Dürer       0.00      0.00      0.00        99\n",
            "           Albrecht_Dürer       0.00      0.00      0.00         0\n",
            "            Alfred_Sisley       0.01      0.01      0.01        73\n",
            "        Amedeo_Modigliani       0.00      0.00      0.00        58\n",
            "            Andrei_Rublev       0.02      0.04      0.03        26\n",
            "              Andy_Warhol       0.00      0.00      0.00        38\n",
            "         Camille_Pissarro       0.00      0.00      0.00        28\n",
            "               Caravaggio       0.00      0.00      0.00        20\n",
            "             Claude_Monet       0.00      0.00      0.00        24\n",
            "             Diego_Rivera       0.00      0.00      0.00        23\n",
            "          Diego_Velazquez       0.00      0.00      0.00        34\n",
            "              Edgar_Degas       0.08      0.12      0.10       226\n",
            "            Edouard_Manet       0.00      0.00      0.00        43\n",
            "             Edvard_Munch       0.00      0.00      0.00        18\n",
            "                 El_Greco       0.00      0.00      0.00        27\n",
            "         Eugene_Delacroix       0.00      0.00      0.00         9\n",
            "           Francisco_Goya       0.02      0.02      0.02        84\n",
            "              Frida_Kahlo       0.03      0.03      0.03        29\n",
            "           Georges_Seurat       0.00      0.00      0.00        14\n",
            "        Giotto_di_Bondone       0.00      0.00      0.00        36\n",
            "             Gustav_Klimt       0.00      0.00      0.00        35\n",
            "          Gustave_Courbet       0.00      0.00      0.00        18\n",
            "            Henri_Matisse       0.03      0.02      0.02        57\n",
            "           Henri_Rousseau       0.00      0.00      0.00        22\n",
            "Henri_de_Toulouse-Lautrec       0.00      0.00      0.00        25\n",
            "         Hieronymus_Bosch       0.03      0.02      0.02        44\n",
            "          Jackson_Pollock       0.00      0.00      0.00         9\n",
            "             Jan_van_Eyck       0.00      0.00      0.00        22\n",
            "                Joan_Miro       0.00      0.00      0.00        31\n",
            "         Kazimir_Malevich       0.06      0.05      0.05        37\n",
            "        Leonardo_da_Vinci       0.05      0.02      0.03        56\n",
            "             Marc_Chagall       0.03      0.03      0.03        67\n",
            "             Michelangelo       0.00      0.00      0.00        18\n",
            "           Mikhail_Vrubel       0.03      0.02      0.02        54\n",
            "            Pablo_Picasso       0.03      0.03      0.03       128\n",
            "             Paul_Cezanne       0.00      0.00      0.00        11\n",
            "             Paul_Gauguin       0.06      0.07      0.07        94\n",
            "                Paul_Klee       0.02      0.02      0.02        52\n",
            "        Peter_Paul_Rubens       0.00      0.00      0.00        40\n",
            "    Pierre-Auguste_Renoir       0.08      0.05      0.06        94\n",
            "            Piet_Mondrian       0.00      0.00      0.00        21\n",
            "           Pieter_Bruegel       0.00      0.00      0.00        35\n",
            "                  Raphael       0.00      0.00      0.00        28\n",
            "                Rembrandt       0.03      0.06      0.04        79\n",
            "            Rene_Magritte       0.03      0.03      0.03        68\n",
            "            Salvador_Dali       0.00      0.00      0.00        38\n",
            "        Sandro_Botticelli       0.00      0.00      0.00        41\n",
            "                   Titian       0.03      0.04      0.04        79\n",
            "       Vasiliy_Kandinskiy       0.17      0.04      0.07        24\n",
            "         Vincent_van_Gogh       0.12      0.18      0.14       285\n",
            "           William_Turner       0.00      0.00      0.00        17\n",
            "\n",
            "                 accuracy                           0.05      2538\n",
            "                macro avg       0.02      0.02      0.02      2538\n",
            "             weighted avg       0.04      0.05      0.04      2538\n",
            "\n"
          ]
        }
      ]
    },
    {
      "cell_type": "code",
      "source": [
        "precision = precision_score(artist_names_true, artist_names_pred, average='macro', zero_division=0)\n",
        "print(\"Precision of the model\", precision)\n",
        "recall = recall_score(artist_names_true, artist_names_pred, average='macro', zero_division=0)\n",
        "print(\"Recall of the model\", recall)\n",
        "f1 = f1_score(artist_names_true, artist_names_pred, average='macro', zero_division=0)\n",
        "print(\"F1-score of the model\", f1)"
      ],
      "metadata": {
        "colab": {
          "base_uri": "https://localhost:8080/"
        },
        "id": "StyEqn-YOoFL",
        "outputId": "5bd11fa1-84a2-4ef4-e65a-1df6bb78a2f1"
      },
      "execution_count": null,
      "outputs": [
        {
          "output_type": "stream",
          "name": "stdout",
          "text": [
            "Precision of the model 0.01872901407931818\n",
            "Recall of the model 0.01795059331702711\n",
            "F1-score of the model 0.016958219254593326\n"
          ]
        }
      ]
    },
    {
      "cell_type": "code",
      "source": [
        "report = classification_report(artist_names_true, artist_names_pred, zero_division=0)\n",
        "\n",
        "f1_scores = {}\n",
        "for line in report.split('\\n')[2:-5]:\n",
        "    line = line.split()\n",
        "    if len(line) == 0:\n",
        "        continue\n",
        "    class_name = line[0]\n",
        "    f1_score = float(line[-1])\n",
        "    f1_scores[class_name] = f1_score\n",
        "\n",
        "top_classes = sorted(f1_scores.items(), key=lambda x: x[1], reverse=True)[:5]\n",
        "print(\"Top 5 classes by f1-score:\")\n",
        "for class_name, f1_score in top_classes:\n",
        "    print(class_name)\n"
      ],
      "metadata": {
        "colab": {
          "base_uri": "https://localhost:8080/"
        },
        "id": "_wCrEcmVOo7w",
        "outputId": "36ce9093-6824-489c-ed42-20feb71bc954"
      },
      "execution_count": null,
      "outputs": [
        {
          "output_type": "stream",
          "name": "stdout",
          "text": [
            "Top 5 classes by f1-score:\n",
            "Vincent_van_Gogh\n",
            "Edgar_Degas\n",
            "Pablo_Picasso\n",
            "Albrecht_Dürer\n",
            "Paul_Gauguin\n"
          ]
        }
      ]
    }
  ]
}