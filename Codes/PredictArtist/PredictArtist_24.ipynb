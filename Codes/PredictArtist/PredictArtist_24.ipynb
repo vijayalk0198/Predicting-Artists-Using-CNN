{
  "nbformat": 4,
  "nbformat_minor": 0,
  "metadata": {
    "colab": {
      "provenance": [],
      "machine_shape": "hm"
    },
    "kernelspec": {
      "name": "python3",
      "display_name": "Python 3"
    },
    "language_info": {
      "name": "python"
    },
    "accelerator": "GPU",
    "gpuClass": "premium"
  },
  "cells": [
    {
      "cell_type": "code",
      "execution_count": null,
      "metadata": {
        "id": "ghCX1xadijqi"
      },
      "outputs": [],
      "source": [
        "import numpy as np \n",
        "import pandas as pd \n",
        "import seaborn as sns\n",
        "import matplotlib.pyplot as plt\n",
        "import os\n",
        "from scipy.stats import pearsonr\n",
        "import random\n",
        "import torch\n",
        "import torchvision.transforms.functional as TF\n",
        "import torchvision.transforms as transforms\n",
        "from PIL import Image\n",
        "import pathlib\n",
        "import tensorflow as tf\n",
        "import numpy as np\n",
        "import pandas as pd\n",
        "import os\n",
        "import PIL\n",
        "from tensorflow import keras\n",
        "from tensorflow.keras import layers\n",
        "from tensorflow.keras.models import Sequential\n",
        "from tensorflow.keras.layers import Dense, Dropout, Flatten, Conv2D, MaxPooling2D\n",
        "import glob\n",
        "import torchvision\n",
        "from torchvision import transforms\n",
        "from torch.utils.data import random_split, DataLoader\n",
        "import torch.nn as nn\n",
        "import torch.optim as optim\n",
        "import time\n",
        "from tensorflow.keras.callbacks import EarlyStopping\n",
        "from sklearn.metrics import classification_report\n",
        "from sklearn.metrics import precision_score\n",
        "from sklearn.metrics import f1_score\n",
        "from sklearn.metrics import recall_score\n",
        "from tensorflow.keras import regularizers"
      ]
    },
    {
      "cell_type": "code",
      "source": [
        "from google.colab import drive\n",
        "drive.mount('/content/drive')\n",
        "%cd /content/drive/MyDrive/"
      ],
      "metadata": {
        "colab": {
          "base_uri": "https://localhost:8080/"
        },
        "id": "G7JryTbkisXK",
        "outputId": "ec66cd4e-defa-4479-f8ce-d5ada369932a"
      },
      "execution_count": null,
      "outputs": [
        {
          "output_type": "stream",
          "name": "stdout",
          "text": [
            "Mounted at /content/drive\n",
            "/content/drive/MyDrive\n"
          ]
        }
      ]
    },
    {
      "cell_type": "code",
      "source": [
        "data_dir = pathlib.Path('images/images')"
      ],
      "metadata": {
        "id": "WzXEnmYHiv5_"
      },
      "execution_count": null,
      "outputs": []
    },
    {
      "cell_type": "code",
      "source": [
        "artist_df = pd.read_csv('artists.csv')"
      ],
      "metadata": {
        "id": "BnKWTmbLiwuU"
      },
      "execution_count": null,
      "outputs": []
    },
    {
      "cell_type": "code",
      "source": [
        "batch_size = 32\n",
        "img_height, img_width = 224, 224\n",
        "artists_names= sorted(artist_df['name'].str.replace(' ', '_').tolist())\n",
        "\n",
        "train_ds = tf.keras.preprocessing.image_dataset_from_directory(\n",
        "    data_dir, \n",
        "    validation_split=0.3, \n",
        "    seed=123,\n",
        "    subset='training',\n",
        "    image_size=(img_height, img_width), \n",
        "    batch_size=batch_size\n",
        ")\n",
        "\n",
        "val_ds = tf.keras.preprocessing.image_dataset_from_directory(\n",
        "    data_dir, \n",
        "    validation_split=0.3, \n",
        "    seed=123,\n",
        "    subset='validation', \n",
        "    image_size=(img_height, img_width), \n",
        "    batch_size=batch_size\n",
        ")"
      ],
      "metadata": {
        "colab": {
          "base_uri": "https://localhost:8080/"
        },
        "id": "frTx5b75iy3_",
        "outputId": "06894548-563a-4707-ed6d-fd3c0f3c8258"
      },
      "execution_count": null,
      "outputs": [
        {
          "output_type": "stream",
          "name": "stdout",
          "text": [
            "Found 8461 files belonging to 50 classes.\n",
            "Using 5923 files for training.\n",
            "Found 8461 files belonging to 50 classes.\n",
            "Using 2538 files for validation.\n"
          ]
        }
      ]
    },
    {
      "cell_type": "code",
      "source": [
        "num_classes = 50\n",
        "input_shape = (batch_size, img_height, img_width, 3)\n",
        "model = Sequential()\n",
        "model.add(tf.keras.layers.experimental.preprocessing.Rescaling(scale=1./255,input_shape=(img_height, img_width, 3)))\n",
        "model.add(Conv2D(32, kernel_size=(3, 3), activation='relu'))\n",
        "model.add(MaxPooling2D(pool_size=(2, 2)))\n",
        "model.add(Conv2D(64, kernel_size=(3, 3), activation='relu'))\n",
        "model.add(MaxPooling2D(pool_size=(2, 2)))\n",
        "model.add(Conv2D(256, kernel_size=(3, 3), activation='relu'))\n",
        "model.add(MaxPooling2D(pool_size=(2, 2)))\n",
        "model.add(Flatten())\n",
        "model.add(Dense(512, activation='relu', kernel_regularizer=regularizers.l2(0.01)))\n",
        "model.add(Dropout(0.3))\n",
        "model.add(Dense(512, activation='relu', kernel_regularizer=regularizers.l2(0.01)))\n",
        "model.add(Dropout(0.3))\n",
        "model.add(Dense(num_classes, activation='softmax'))\n",
        "model.build(input_shape)\n",
        "model.summary()\n"
      ],
      "metadata": {
        "colab": {
          "base_uri": "https://localhost:8080/"
        },
        "id": "24x5vh9xi1ec",
        "outputId": "afc6a347-32bd-4e0b-ca81-a75df40bc731"
      },
      "execution_count": null,
      "outputs": [
        {
          "output_type": "stream",
          "name": "stdout",
          "text": [
            "Model: \"sequential\"\n",
            "_________________________________________________________________\n",
            " Layer (type)                Output Shape              Param #   \n",
            "=================================================================\n",
            " rescaling (Rescaling)       (None, 224, 224, 3)       0         \n",
            "                                                                 \n",
            " conv2d (Conv2D)             (None, 222, 222, 32)      896       \n",
            "                                                                 \n",
            " max_pooling2d (MaxPooling2D  (None, 111, 111, 32)     0         \n",
            " )                                                               \n",
            "                                                                 \n",
            " conv2d_1 (Conv2D)           (None, 109, 109, 64)      18496     \n",
            "                                                                 \n",
            " max_pooling2d_1 (MaxPooling  (None, 54, 54, 64)       0         \n",
            " 2D)                                                             \n",
            "                                                                 \n",
            " conv2d_2 (Conv2D)           (None, 52, 52, 256)       147712    \n",
            "                                                                 \n",
            " max_pooling2d_2 (MaxPooling  (None, 26, 26, 256)      0         \n",
            " 2D)                                                             \n",
            "                                                                 \n",
            " flatten (Flatten)           (None, 173056)            0         \n",
            "                                                                 \n",
            " dense (Dense)               (None, 512)               88605184  \n",
            "                                                                 \n",
            " dropout (Dropout)           (None, 512)               0         \n",
            "                                                                 \n",
            " dense_1 (Dense)             (None, 512)               262656    \n",
            "                                                                 \n",
            " dropout_1 (Dropout)         (None, 512)               0         \n",
            "                                                                 \n",
            " dense_2 (Dense)             (None, 50)                25650     \n",
            "                                                                 \n",
            "=================================================================\n",
            "Total params: 89,060,594\n",
            "Trainable params: 89,060,594\n",
            "Non-trainable params: 0\n",
            "_________________________________________________________________\n"
          ]
        }
      ]
    },
    {
      "cell_type": "code",
      "source": [
        "model.compile(optimizer='adam', loss='sparse_categorical_crossentropy', metrics=['accuracy'])\n",
        "early_stop = EarlyStopping(monitor='val_loss', patience=10)\n",
        "num_epochs = 50\n",
        "start_time = time.time()\n",
        "model_history = model.fit(\n",
        "    train_ds,\n",
        "    validation_data=val_ds,\n",
        "    epochs=num_epochs,\n",
        "    callbacks=[early_stop]\n",
        ")\n",
        "end_time = time.time()\n",
        "training_time = end_time - start_time\n",
        "\n",
        "loss, accuracy = model.evaluate(val_ds)\n",
        "print(f'Validation accuracy: {accuracy}')\n",
        "print(f'Validation loss: {loss:.4f}')\n",
        "training_time_minutes = round(training_time / 60, 2)\n",
        "print(f\"Training time: {training_time_minutes} minutes\")"
      ],
      "metadata": {
        "colab": {
          "base_uri": "https://localhost:8080/"
        },
        "id": "4p7Jr9iqi34v",
        "outputId": "fd7d02bd-0293-4fe1-b236-bd7cad1f0a9f"
      },
      "execution_count": null,
      "outputs": [
        {
          "output_type": "stream",
          "name": "stdout",
          "text": [
            "Epoch 1/50\n",
            "186/186 [==============================] - 206s 1s/step - loss: 5.8856 - accuracy: 0.1047 - val_loss: 4.3514 - val_accuracy: 0.1344\n",
            "Epoch 2/50\n",
            "186/186 [==============================] - 13s 70ms/step - loss: 3.9241 - accuracy: 0.1405 - val_loss: 3.7064 - val_accuracy: 0.1639\n",
            "Epoch 3/50\n",
            "186/186 [==============================] - 13s 70ms/step - loss: 3.6127 - accuracy: 0.1568 - val_loss: 3.4095 - val_accuracy: 0.1872\n",
            "Epoch 4/50\n",
            "186/186 [==============================] - 14s 71ms/step - loss: 3.4675 - accuracy: 0.1685 - val_loss: 3.4436 - val_accuracy: 0.1907\n",
            "Epoch 5/50\n",
            "186/186 [==============================] - 13s 70ms/step - loss: 3.4647 - accuracy: 0.1774 - val_loss: 3.3569 - val_accuracy: 0.2041\n",
            "Epoch 6/50\n",
            "186/186 [==============================] - 14s 70ms/step - loss: 3.4698 - accuracy: 0.1984 - val_loss: 3.4097 - val_accuracy: 0.2151\n",
            "Epoch 7/50\n",
            "186/186 [==============================] - 13s 70ms/step - loss: 3.3853 - accuracy: 0.2139 - val_loss: 3.3545 - val_accuracy: 0.2266\n",
            "Epoch 8/50\n",
            "186/186 [==============================] - 13s 70ms/step - loss: 3.3222 - accuracy: 0.2276 - val_loss: 3.3037 - val_accuracy: 0.2230\n",
            "Epoch 9/50\n",
            "186/186 [==============================] - 13s 70ms/step - loss: 3.2534 - accuracy: 0.2330 - val_loss: 3.1983 - val_accuracy: 0.2608\n",
            "Epoch 10/50\n",
            "186/186 [==============================] - 13s 70ms/step - loss: 3.2158 - accuracy: 0.2352 - val_loss: 3.1966 - val_accuracy: 0.2470\n",
            "Epoch 11/50\n",
            "186/186 [==============================] - 13s 70ms/step - loss: 3.1911 - accuracy: 0.2436 - val_loss: 3.1531 - val_accuracy: 0.2612\n",
            "Epoch 12/50\n",
            "186/186 [==============================] - 14s 70ms/step - loss: 3.1521 - accuracy: 0.2475 - val_loss: 3.0824 - val_accuracy: 0.2675\n",
            "Epoch 13/50\n",
            "186/186 [==============================] - 13s 70ms/step - loss: 3.1302 - accuracy: 0.2514 - val_loss: 3.0411 - val_accuracy: 0.2872\n",
            "Epoch 14/50\n",
            "186/186 [==============================] - 13s 70ms/step - loss: 3.1110 - accuracy: 0.2644 - val_loss: 3.1356 - val_accuracy: 0.2648\n",
            "Epoch 15/50\n",
            "186/186 [==============================] - 13s 70ms/step - loss: 3.0790 - accuracy: 0.2683 - val_loss: 3.0825 - val_accuracy: 0.2782\n",
            "Epoch 16/50\n",
            "186/186 [==============================] - 13s 70ms/step - loss: 3.0641 - accuracy: 0.2747 - val_loss: 3.0788 - val_accuracy: 0.2987\n",
            "Epoch 17/50\n",
            "186/186 [==============================] - 14s 71ms/step - loss: 3.0436 - accuracy: 0.2776 - val_loss: 3.0545 - val_accuracy: 0.2801\n",
            "Epoch 18/50\n",
            "186/186 [==============================] - 14s 71ms/step - loss: 3.0253 - accuracy: 0.2902 - val_loss: 2.9760 - val_accuracy: 0.3042\n",
            "Epoch 19/50\n",
            "186/186 [==============================] - 13s 70ms/step - loss: 3.0253 - accuracy: 0.2953 - val_loss: 3.1236 - val_accuracy: 0.2837\n",
            "Epoch 20/50\n",
            "186/186 [==============================] - 13s 70ms/step - loss: 2.9917 - accuracy: 0.3004 - val_loss: 2.9929 - val_accuracy: 0.3215\n",
            "Epoch 21/50\n",
            "186/186 [==============================] - 13s 70ms/step - loss: 2.9776 - accuracy: 0.3215 - val_loss: 3.1155 - val_accuracy: 0.3113\n",
            "Epoch 22/50\n",
            "186/186 [==============================] - 13s 70ms/step - loss: 2.9509 - accuracy: 0.3199 - val_loss: 3.0559 - val_accuracy: 0.3030\n",
            "Epoch 23/50\n",
            "186/186 [==============================] - 13s 70ms/step - loss: 2.9464 - accuracy: 0.3296 - val_loss: 3.0747 - val_accuracy: 0.3207\n",
            "Epoch 24/50\n",
            "186/186 [==============================] - 13s 70ms/step - loss: 2.9754 - accuracy: 0.3363 - val_loss: 3.0957 - val_accuracy: 0.3176\n",
            "Epoch 25/50\n",
            "186/186 [==============================] - 13s 70ms/step - loss: 2.9529 - accuracy: 0.3456 - val_loss: 3.1165 - val_accuracy: 0.3058\n",
            "Epoch 26/50\n",
            "186/186 [==============================] - 13s 70ms/step - loss: 2.8785 - accuracy: 0.3581 - val_loss: 3.0536 - val_accuracy: 0.3262\n",
            "Epoch 27/50\n",
            "186/186 [==============================] - 13s 69ms/step - loss: 2.8891 - accuracy: 0.3628 - val_loss: 3.1427 - val_accuracy: 0.3203\n",
            "Epoch 28/50\n",
            "186/186 [==============================] - 14s 70ms/step - loss: 2.8619 - accuracy: 0.3753 - val_loss: 3.1510 - val_accuracy: 0.3255\n",
            "80/80 [==============================] - 4s 44ms/step - loss: 3.1510 - accuracy: 0.3255\n",
            "Validation accuracy: 0.32545310258865356\n",
            "Validation loss: 3.1510\n",
            "Training time: 9.5 minutes\n"
          ]
        }
      ]
    },
    {
      "cell_type": "code",
      "source": [
        "fig, (ax1, ax2) = plt.subplots(1, 2, figsize=(10, 4))\n",
        "ax1.plot(model_history.history['accuracy'], linestyle='-', linewidth=2, label='Train Accuracy')\n",
        "ax1.plot(model_history.history['val_accuracy'], linestyle='--', linewidth=2, label='Validation Accuracy')\n",
        "ax1.set_title('Model Accuracy', fontweight='bold')\n",
        "ax1.set_ylabel('Accuracy', fontweight='bold')\n",
        "ax1.set_xlabel('Epoch', fontweight='bold')\n",
        "ax1.legend(loc='upper left')\n",
        "ax2.plot(model_history.history['loss'], linestyle='-', linewidth=2, label='Train Loss')\n",
        "ax2.plot(model_history.history['val_loss'], linestyle='--', linewidth=2, label='Validation Loss')\n",
        "ax2.set_title('Model Loss', fontweight='bold')\n",
        "ax2.set_ylabel('Loss', fontweight='bold')\n",
        "ax2.set_xlabel('Epoch', fontweight='bold')\n",
        "ax2.legend(loc='upper left')\n",
        "plt.show()"
      ],
      "metadata": {
        "id": "FGglmk7mi6U4",
        "colab": {
          "base_uri": "https://localhost:8080/",
          "height": 410
        },
        "outputId": "369bb3c5-8052-4e3b-bcce-8aef1ab56063"
      },
      "execution_count": null,
      "outputs": [
        {
          "output_type": "display_data",
          "data": {
            "text/plain": [
              "<Figure size 1000x400 with 2 Axes>"
            ],
            "image/png": "[encoded data removed]"
          },
          "metadata": {}
        }
      ]
    },
    {
      "cell_type": "code",
      "source": [
        "val_labels = np.concatenate([y for x, y in val_ds], axis=0)\n",
        "val_class_labels = [val_ds.class_names[label] for label in val_labels]\n",
        "y_pred = model.predict(val_ds) \n",
        "y_pred_classes = np.argmax(y_pred, axis=1) \n",
        "y_pred_classes = y_pred_classes.tolist()\n",
        "\n",
        "artists_names = sorted(artist_df['name'].str.replace(' ', '_').tolist())\n",
        "n_artists = len(artists_names)\n",
        "artist_dict = {}\n",
        "for i in range(n_artists):\n",
        "    artist_dict[i] = artists_names[i]\n",
        "\n",
        "artist_names_pred = [artist_dict[label] for label in y_pred_classes]\n",
        "artist_names_true = val_class_labels\n",
        "\n",
        "print(classification_report(artist_names_true, artist_names_pred, zero_division=0))"
      ],
      "metadata": {
        "id": "FSyg3EpBi9XP",
        "colab": {
          "base_uri": "https://localhost:8080/"
        },
        "outputId": "ca38fa1e-8b0a-4c51-ef09-1c206bba3eff"
      },
      "execution_count": null,
      "outputs": [
        {
          "output_type": "stream",
          "name": "stdout",
          "text": [
            "80/80 [==============================] - 4s 43ms/step\n",
            "                           precision    recall  f1-score   support\n",
            "\n",
            "          Albrecht_Dürer       0.00      0.00      0.00        99\n",
            "           Albrecht_Dürer       0.00      0.00      0.00         0\n",
            "            Alfred_Sisley       0.05      0.07      0.06        73\n",
            "        Amedeo_Modigliani       0.01      0.02      0.02        58\n",
            "            Andrei_Rublev       0.00      0.00      0.00        26\n",
            "              Andy_Warhol       0.00      0.00      0.00        38\n",
            "         Camille_Pissarro       0.00      0.00      0.00        28\n",
            "               Caravaggio       0.00      0.00      0.00        20\n",
            "             Claude_Monet       0.00      0.00      0.00        24\n",
            "             Diego_Rivera       0.00      0.00      0.00        23\n",
            "          Diego_Velazquez       0.00      0.00      0.00        34\n",
            "              Edgar_Degas       0.08      0.10      0.09       226\n",
            "            Edouard_Manet       0.00      0.00      0.00        43\n",
            "             Edvard_Munch       0.00      0.00      0.00        18\n",
            "                 El_Greco       0.00      0.00      0.00        27\n",
            "         Eugene_Delacroix       0.00      0.00      0.00         9\n",
            "           Francisco_Goya       0.08      0.04      0.05        84\n",
            "              Frida_Kahlo       0.00      0.00      0.00        29\n",
            "           Georges_Seurat       0.00      0.00      0.00        14\n",
            "        Giotto_di_Bondone       0.00      0.00      0.00        36\n",
            "             Gustav_Klimt       0.00      0.00      0.00        35\n",
            "          Gustave_Courbet       0.00      0.00      0.00        18\n",
            "            Henri_Matisse       0.01      0.02      0.02        57\n",
            "           Henri_Rousseau       0.00      0.00      0.00        22\n",
            "Henri_de_Toulouse-Lautrec       0.00      0.00      0.00        25\n",
            "         Hieronymus_Bosch       0.00      0.00      0.00        44\n",
            "          Jackson_Pollock       0.00      0.00      0.00         9\n",
            "             Jan_van_Eyck       0.00      0.00      0.00        22\n",
            "                Joan_Miro       0.00      0.00      0.00        31\n",
            "         Kazimir_Malevich       0.04      0.03      0.03        37\n",
            "        Leonardo_da_Vinci       0.00      0.00      0.00        56\n",
            "             Marc_Chagall       0.04      0.03      0.03        67\n",
            "             Michelangelo       0.00      0.00      0.00        18\n",
            "           Mikhail_Vrubel       0.00      0.00      0.00        54\n",
            "            Pablo_Picasso       0.06      0.09      0.07       128\n",
            "             Paul_Cezanne       0.00      0.00      0.00        11\n",
            "             Paul_Gauguin       0.05      0.13      0.07        94\n",
            "                Paul_Klee       0.00      0.00      0.00        52\n",
            "        Peter_Paul_Rubens       0.00      0.00      0.00        40\n",
            "    Pierre-Auguste_Renoir       0.02      0.02      0.02        94\n",
            "            Piet_Mondrian       0.00      0.00      0.00        21\n",
            "           Pieter_Bruegel       0.00      0.00      0.00        35\n",
            "                  Raphael       0.02      0.04      0.03        28\n",
            "                Rembrandt       0.05      0.09      0.06        79\n",
            "            Rene_Magritte       0.01      0.01      0.01        68\n",
            "            Salvador_Dali       0.00      0.00      0.00        38\n",
            "        Sandro_Botticelli       0.00      0.00      0.00        41\n",
            "                   Titian       0.02      0.03      0.02        79\n",
            "       Vasiliy_Kandinskiy       0.00      0.00      0.00        24\n",
            "         Vincent_van_Gogh       0.11      0.14      0.13       285\n",
            "           William_Turner       0.00      0.00      0.00        17\n",
            "\n",
            "                 accuracy                           0.04      2538\n",
            "                macro avg       0.01      0.02      0.01      2538\n",
            "             weighted avg       0.03      0.04      0.04      2538\n",
            "\n"
          ]
        }
      ]
    },
    {
      "cell_type": "code",
      "source": [
        "report = classification_report(artist_names_true, artist_names_pred, zero_division=0)\n",
        "\n",
        "f1_scores = {}\n",
        "for line in report.split('\\n')[2:-5]:\n",
        "    line = line.split()\n",
        "    if len(line) == 0:\n",
        "        continue\n",
        "    class_name = line[0]\n",
        "    f1_score = float(line[-1])\n",
        "    f1_scores[class_name] = f1_score\n",
        "\n",
        "top_classes = sorted(f1_scores.items(), key=lambda x: x[1], reverse=True)[:5]\n",
        "print(\"Top 5 classes by f1-score:\")\n",
        "for class_name, f1_score in top_classes:\n",
        "    print(class_name)"
      ],
      "metadata": {
        "id": "H679Nql5jCWj",
        "colab": {
          "base_uri": "https://localhost:8080/"
        },
        "outputId": "c65496f3-cf92-4c2b-88e2-f32a99751abb"
      },
      "execution_count": null,
      "outputs": [
        {
          "output_type": "stream",
          "name": "stdout",
          "text": [
            "Top 5 classes by f1-score:\n",
            "Vincent_van_Gogh\n",
            "Edgar_Degas\n",
            "Pablo_Picasso\n",
            "Albrecht_Dürer\n",
            "Paul_Gauguin\n"
          ]
        }
      ]
    }
  ]
}