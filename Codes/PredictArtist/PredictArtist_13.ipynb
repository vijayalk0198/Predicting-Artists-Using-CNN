{
  "nbformat": 4,
  "nbformat_minor": 0,
  "metadata": {
    "colab": {
      "provenance": [],
      "machine_shape": "hm"
    },
    "kernelspec": {
      "name": "python3",
      "display_name": "Python 3"
    },
    "language_info": {
      "name": "python"
    },
    "accelerator": "GPU",
    "gpuClass": "premium"
  },
  "cells": [
    {
      "cell_type": "code",
      "execution_count": null,
      "metadata": {
        "id": "p3RPHiV3WQ0Q"
      },
      "outputs": [],
      "source": [
        "import numpy as np \n",
        "import pandas as pd \n",
        "import seaborn as sns\n",
        "import matplotlib.pyplot as plt\n",
        "import os\n",
        "from scipy.stats import pearsonr\n",
        "import random\n",
        "import torch\n",
        "import torchvision.transforms.functional as TF\n",
        "import torchvision.transforms as transforms\n",
        "from PIL import Image\n",
        "import pathlib\n",
        "import tensorflow as tf\n",
        "import numpy as np\n",
        "import pandas as pd\n",
        "import os\n",
        "import PIL\n",
        "from tensorflow import keras\n",
        "from tensorflow.keras import layers\n",
        "from tensorflow.keras.models import Sequential\n",
        "from tensorflow.keras.layers import Dense, Dropout, Flatten, Conv2D, MaxPooling2D\n",
        "import glob\n",
        "import torchvision\n",
        "from torchvision import transforms\n",
        "from torch.utils.data import random_split, DataLoader\n",
        "import torch.nn as nn\n",
        "import torch.optim as optim\n",
        "import time\n",
        "from tensorflow.keras.callbacks import EarlyStopping\n",
        "from sklearn.metrics import classification_report\n",
        "from sklearn.metrics import precision_score\n",
        "from sklearn.metrics import f1_score\n",
        "from sklearn.metrics import recall_score\n",
        "from tensorflow.keras import regularizers"
      ]
    },
    {
      "cell_type": "code",
      "source": [
        "from google.colab import drive\n",
        "drive.mount('/content/drive')\n",
        "%cd /content/drive/MyDrive/"
      ],
      "metadata": {
        "colab": {
          "base_uri": "https://localhost:8080/"
        },
        "id": "QJpvzYpJWVXf",
        "outputId": "85ade0b7-d4be-4fc7-8078-5fa69343585f"
      },
      "execution_count": null,
      "outputs": [
        {
          "output_type": "stream",
          "name": "stdout",
          "text": [
            "Drive already mounted at /content/drive; to attempt to forcibly remount, call drive.mount(\"/content/drive\", force_remount=True).\n",
            "/content/drive/MyDrive\n"
          ]
        }
      ]
    },
    {
      "cell_type": "code",
      "source": [
        "data_dir = pathlib.Path('images/images')"
      ],
      "metadata": {
        "id": "JPeK6gcQWX2f"
      },
      "execution_count": null,
      "outputs": []
    },
    {
      "cell_type": "code",
      "source": [
        "artist_df = pd.read_csv('artists.csv')"
      ],
      "metadata": {
        "id": "vBxBt0LaWZm3"
      },
      "execution_count": null,
      "outputs": []
    },
    {
      "cell_type": "code",
      "source": [
        "batch_size = 32\n",
        "img_height, img_width = 224, 224\n",
        "artists_names= sorted(artist_df['name'].str.replace(' ', '_').tolist())\n",
        "\n",
        "train_ds = tf.keras.preprocessing.image_dataset_from_directory(\n",
        "    data_dir, \n",
        "    validation_split=0.2, \n",
        "    seed=123,\n",
        "    subset='training',\n",
        "    image_size=(img_height, img_width), \n",
        "    batch_size=batch_size\n",
        ")\n",
        "\n",
        "val_ds = tf.keras.preprocessing.image_dataset_from_directory(\n",
        "    data_dir, \n",
        "    validation_split=0.2, \n",
        "    seed=123,\n",
        "    subset='validation', \n",
        "    image_size=(img_height, img_width), \n",
        "    batch_size=batch_size\n",
        ")"
      ],
      "metadata": {
        "colab": {
          "base_uri": "https://localhost:8080/"
        },
        "id": "JRh2h0mIWbZa",
        "outputId": "f3cbb7a9-982a-488d-d2c8-9d1912786dbf"
      },
      "execution_count": null,
      "outputs": [
        {
          "output_type": "stream",
          "name": "stdout",
          "text": [
            "Found 8461 files belonging to 50 classes.\n",
            "Using 6769 files for training.\n",
            "Found 8461 files belonging to 50 classes.\n",
            "Using 1692 files for validation.\n"
          ]
        }
      ]
    },
    {
      "cell_type": "code",
      "source": [
        "num_classes = 50\n",
        "input_shape = (batch_size, img_height, img_width, 3)\n",
        "model = Sequential()\n",
        "model.add(tf.keras.layers.experimental.preprocessing.Rescaling(scale=1./255,input_shape=(img_height, img_width, 3)))\n",
        "model.add(Conv2D(32, kernel_size=(3, 3), activation='relu'))\n",
        "model.add(MaxPooling2D(pool_size=(2, 2)))\n",
        "model.add(Conv2D(64, kernel_size=(3, 3), activation='relu'))\n",
        "model.add(MaxPooling2D(pool_size=(2, 2)))\n",
        "model.add(Conv2D(128, kernel_size=(3, 3), activation='relu'))\n",
        "model.add(MaxPooling2D(pool_size=(2, 2)))\n",
        "model.add(Conv2D(256, kernel_size=(3, 3), activation='relu'))\n",
        "model.add(MaxPooling2D(pool_size=(2, 2)))\n",
        "model.add(Flatten())\n",
        "#model.add(Dense(512, activation='relu')) \n",
        "model.add(Dense(512, activation='relu', kernel_regularizer=regularizers.l2(0.01)))\n",
        "model.add(Dropout(0.3))\n",
        "model.add(Dense(num_classes, activation='softmax'))\n",
        "model.build(input_shape)\n",
        "model.summary()"
      ],
      "metadata": {
        "colab": {
          "base_uri": "https://localhost:8080/"
        },
        "id": "43XGDz64WdIq",
        "outputId": "511c4827-b526-42b3-a93e-ddfed222e5b9"
      },
      "execution_count": null,
      "outputs": [
        {
          "output_type": "stream",
          "name": "stdout",
          "text": [
            "Model: \"sequential_1\"\n",
            "_________________________________________________________________\n",
            " Layer (type)                Output Shape              Param #   \n",
            "=================================================================\n",
            " rescaling_1 (Rescaling)     (None, 224, 224, 3)       0         \n",
            "                                                                 \n",
            " conv2d_4 (Conv2D)           (None, 222, 222, 32)      896       \n",
            "                                                                 \n",
            " max_pooling2d_4 (MaxPooling  (None, 111, 111, 32)     0         \n",
            " 2D)                                                             \n",
            "                                                                 \n",
            " conv2d_5 (Conv2D)           (None, 109, 109, 64)      18496     \n",
            "                                                                 \n",
            " max_pooling2d_5 (MaxPooling  (None, 54, 54, 64)       0         \n",
            " 2D)                                                             \n",
            "                                                                 \n",
            " conv2d_6 (Conv2D)           (None, 52, 52, 128)       73856     \n",
            "                                                                 \n",
            " max_pooling2d_6 (MaxPooling  (None, 26, 26, 128)      0         \n",
            " 2D)                                                             \n",
            "                                                                 \n",
            " conv2d_7 (Conv2D)           (None, 24, 24, 256)       295168    \n",
            "                                                                 \n",
            " max_pooling2d_7 (MaxPooling  (None, 12, 12, 256)      0         \n",
            " 2D)                                                             \n",
            "                                                                 \n",
            " flatten_1 (Flatten)         (None, 36864)             0         \n",
            "                                                                 \n",
            " dense (Dense)               (None, 512)               18874880  \n",
            "                                                                 \n",
            " dropout (Dropout)           (None, 512)               0         \n",
            "                                                                 \n",
            " dense_1 (Dense)             (None, 50)                25650     \n",
            "                                                                 \n",
            "=================================================================\n",
            "Total params: 19,288,946\n",
            "Trainable params: 19,288,946\n",
            "Non-trainable params: 0\n",
            "_________________________________________________________________\n"
          ]
        }
      ]
    },
    {
      "cell_type": "code",
      "source": [
        "model.compile(optimizer='adam', loss='sparse_categorical_crossentropy', metrics=['accuracy'])\n",
        "early_stop = EarlyStopping(monitor='val_loss', patience=10)\n",
        "num_epochs = 30\n",
        "start_time = time.time()\n",
        "model_history = model.fit(\n",
        "    train_ds,\n",
        "    validation_data=val_ds,\n",
        "    epochs=num_epochs,\n",
        "    callbacks=[early_stop]\n",
        ")\n",
        "end_time = time.time()\n",
        "training_time = end_time - start_time\n",
        "\n",
        "loss, accuracy = model.evaluate(val_ds)\n",
        "print(f'Validation accuracy: {accuracy}')\n",
        "print(f'Validation loss: {loss:.4f}')\n",
        "training_time_minutes = round(training_time / 60, 2)\n",
        "print(f\"Training time: {training_time_minutes} minutes\")"
      ],
      "metadata": {
        "colab": {
          "base_uri": "https://localhost:8080/"
        },
        "id": "xlaBX65fWfmv",
        "outputId": "06a93f7d-e24b-41f5-e112-20f1cf48989b"
      },
      "execution_count": null,
      "outputs": [
        {
          "output_type": "stream",
          "name": "stdout",
          "text": [
            "Epoch 1/30\n",
            "212/212 [==============================] - 517s 2s/step - loss: 4.0484 - accuracy: 0.1185 - val_loss: 3.5452 - val_accuracy: 0.1454\n",
            "Epoch 2/30\n",
            "212/212 [==============================] - 32s 148ms/step - loss: 3.4846 - accuracy: 0.1622 - val_loss: 3.3014 - val_accuracy: 0.2074\n",
            "Epoch 3/30\n",
            "212/212 [==============================] - 31s 143ms/step - loss: 3.2855 - accuracy: 0.1984 - val_loss: 3.1439 - val_accuracy: 0.2441\n",
            "Epoch 4/30\n",
            "212/212 [==============================] - 31s 143ms/step - loss: 3.1792 - accuracy: 0.2244 - val_loss: 3.0510 - val_accuracy: 0.2642\n",
            "Epoch 5/30\n",
            "212/212 [==============================] - 31s 143ms/step - loss: 3.1004 - accuracy: 0.2410 - val_loss: 3.0604 - val_accuracy: 0.2648\n",
            "Epoch 6/30\n",
            "212/212 [==============================] - 32s 146ms/step - loss: 3.0493 - accuracy: 0.2511 - val_loss: 2.9565 - val_accuracy: 0.2843\n",
            "Epoch 7/30\n",
            "212/212 [==============================] - 31s 143ms/step - loss: 2.9864 - accuracy: 0.2721 - val_loss: 2.9311 - val_accuracy: 0.3002\n",
            "Epoch 8/30\n",
            "212/212 [==============================] - 31s 142ms/step - loss: 2.9428 - accuracy: 0.2810 - val_loss: 2.9239 - val_accuracy: 0.3032\n",
            "Epoch 9/30\n",
            "212/212 [==============================] - 31s 144ms/step - loss: 2.9308 - accuracy: 0.2875 - val_loss: 3.0481 - val_accuracy: 0.2748\n",
            "Epoch 10/30\n",
            "212/212 [==============================] - 32s 148ms/step - loss: 2.9157 - accuracy: 0.3096 - val_loss: 2.8539 - val_accuracy: 0.3416\n",
            "Epoch 11/30\n",
            "212/212 [==============================] - 31s 141ms/step - loss: 2.8497 - accuracy: 0.3306 - val_loss: 2.8445 - val_accuracy: 0.3576\n",
            "Epoch 12/30\n",
            "212/212 [==============================] - 31s 141ms/step - loss: 2.8196 - accuracy: 0.3407 - val_loss: 2.8543 - val_accuracy: 0.3517\n",
            "Epoch 13/30\n",
            "212/212 [==============================] - 31s 141ms/step - loss: 2.7822 - accuracy: 0.3556 - val_loss: 2.8957 - val_accuracy: 0.3428\n",
            "Epoch 14/30\n",
            "212/212 [==============================] - 32s 145ms/step - loss: 2.6929 - accuracy: 0.3884 - val_loss: 2.8497 - val_accuracy: 0.3765\n",
            "Epoch 15/30\n",
            "212/212 [==============================] - 31s 141ms/step - loss: 2.6493 - accuracy: 0.4077 - val_loss: 2.9133 - val_accuracy: 0.3487\n",
            "Epoch 16/30\n",
            "212/212 [==============================] - 31s 141ms/step - loss: 2.6460 - accuracy: 0.4150 - val_loss: 2.9592 - val_accuracy: 0.3676\n",
            "Epoch 17/30\n",
            "212/212 [==============================] - 31s 141ms/step - loss: 2.5673 - accuracy: 0.4497 - val_loss: 2.9978 - val_accuracy: 0.3788\n",
            "Epoch 18/30\n",
            "212/212 [==============================] - 31s 143ms/step - loss: 2.5339 - accuracy: 0.4683 - val_loss: 3.0149 - val_accuracy: 0.3712\n",
            "Epoch 19/30\n",
            "212/212 [==============================] - 32s 149ms/step - loss: 2.5125 - accuracy: 0.4797 - val_loss: 3.1943 - val_accuracy: 0.3936\n",
            "Epoch 20/30\n",
            "212/212 [==============================] - 31s 144ms/step - loss: 2.4720 - accuracy: 0.5122 - val_loss: 3.3048 - val_accuracy: 0.3647\n",
            "Epoch 21/30\n",
            "212/212 [==============================] - 31s 142ms/step - loss: 2.3946 - accuracy: 0.5383 - val_loss: 3.3496 - val_accuracy: 0.3859\n",
            "53/53 [==============================] - 6s 94ms/step - loss: 3.3496 - accuracy: 0.3859\n",
            "Validation accuracy: 0.3859338164329529\n",
            "Validation loss: 3.3496\n",
            "Training time: 20.03 minutes\n"
          ]
        }
      ]
    },
    {
      "cell_type": "code",
      "source": [
        "fig, (ax1, ax2) = plt.subplots(1, 2, figsize=(10, 4))\n",
        "ax1.plot(model_history.history['accuracy'], linestyle='-', linewidth=2, label='Train Accuracy')\n",
        "ax1.plot(model_history.history['val_accuracy'], linestyle='--', linewidth=2, label='Validation Accuracy')\n",
        "ax1.set_title('Model Accuracy', fontweight='bold')\n",
        "ax1.set_ylabel('Accuracy', fontweight='bold')\n",
        "ax1.set_xlabel('Epoch', fontweight='bold')\n",
        "ax1.legend(loc='upper left')\n",
        "ax2.plot(model_history.history['loss'], linestyle='-', linewidth=2, label='Train Loss')\n",
        "ax2.plot(model_history.history['val_loss'], linestyle='--', linewidth=2, label='Validation Loss')\n",
        "ax2.set_title('Model Loss', fontweight='bold')\n",
        "ax2.set_ylabel('Loss', fontweight='bold')\n",
        "ax2.set_xlabel('Epoch', fontweight='bold')\n",
        "ax2.legend(loc='upper left')\n",
        "plt.show()"
      ],
      "metadata": {
        "colab": {
          "base_uri": "https://localhost:8080/",
          "height": 410
        },
        "id": "ku1L4B1vWid6",
        "outputId": "00e17a54-da1c-4e7f-d20d-b40aaf3a2e10"
      },
      "execution_count": null,
      "outputs": [
        {
          "output_type": "display_data",
          "data": {
            "text/plain": [
              "<Figure size 1000x400 with 2 Axes>"
            ],
            "image/png": "[encoded data removed]"
          },
          "metadata": {}
        }
      ]
    },
    {
      "cell_type": "code",
      "source": [
        "val_labels = np.concatenate([y for x, y in val_ds], axis=0)\n",
        "val_class_labels = [val_ds.class_names[label] for label in val_labels]\n",
        "y_pred = model.predict(val_ds) \n",
        "y_pred_classes = np.argmax(y_pred, axis=1) \n",
        "y_pred_classes = y_pred_classes.tolist()\n",
        "\n",
        "artists_names = sorted(artist_df['name'].str.replace(' ', '_').tolist())\n",
        "n_artists = len(artists_names)\n",
        "artist_dict = {}\n",
        "for i in range(n_artists):\n",
        "    artist_dict[i] = artists_names[i]\n",
        "\n",
        "artist_names_pred = [artist_dict[label] for label in y_pred_classes]\n",
        "artist_names_true = val_class_labels\n",
        "\n",
        "print(classification_report(artist_names_true, artist_names_pred, zero_division=0))"
      ],
      "metadata": {
        "colab": {
          "base_uri": "https://localhost:8080/"
        },
        "id": "T5zhkJ9IWllV",
        "outputId": "55c31ff5-13e6-4cc8-c04f-ec025e0d0487"
      },
      "execution_count": null,
      "outputs": [
        {
          "output_type": "stream",
          "name": "stdout",
          "text": [
            "53/53 [==============================] - 6s 92ms/step\n",
            "                           precision    recall  f1-score   support\n",
            "\n",
            "          Albrecht_Dürer       0.00      0.00      0.00        66\n",
            "           Albrecht_Dürer       0.00      0.00      0.00         0\n",
            "            Alfred_Sisley       0.00      0.00      0.00        54\n",
            "        Amedeo_Modigliani       0.03      0.05      0.04        39\n",
            "            Andrei_Rublev       0.00      0.00      0.00        19\n",
            "              Andy_Warhol       0.00      0.00      0.00        24\n",
            "         Camille_Pissarro       0.00      0.00      0.00        16\n",
            "               Caravaggio       0.00      0.00      0.00        15\n",
            "             Claude_Monet       0.00      0.00      0.00        13\n",
            "             Diego_Rivera       0.00      0.00      0.00        15\n",
            "          Diego_Velazquez       0.00      0.00      0.00        22\n",
            "              Edgar_Degas       0.10      0.15      0.12       157\n",
            "            Edouard_Manet       0.00      0.00      0.00        26\n",
            "             Edvard_Munch       0.00      0.00      0.00        10\n",
            "                 El_Greco       0.00      0.00      0.00        21\n",
            "         Eugene_Delacroix       0.00      0.00      0.00         7\n",
            "           Francisco_Goya       0.07      0.06      0.06        53\n",
            "              Frida_Kahlo       0.00      0.00      0.00        24\n",
            "           Georges_Seurat       0.00      0.00      0.00         9\n",
            "        Giotto_di_Bondone       0.00      0.00      0.00        25\n",
            "             Gustav_Klimt       0.00      0.00      0.00        28\n",
            "          Gustave_Courbet       0.00      0.00      0.00        10\n",
            "            Henri_Matisse       0.06      0.03      0.04        39\n",
            "           Henri_Rousseau       0.00      0.00      0.00        16\n",
            "Henri_de_Toulouse-Lautrec       0.00      0.00      0.00        17\n",
            "         Hieronymus_Bosch       0.05      0.07      0.06        28\n",
            "          Jackson_Pollock       0.00      0.00      0.00         6\n",
            "             Jan_van_Eyck       0.00      0.00      0.00        13\n",
            "                Joan_Miro       0.00      0.00      0.00        22\n",
            "         Kazimir_Malevich       0.00      0.00      0.00        27\n",
            "        Leonardo_da_Vinci       0.07      0.06      0.06        36\n",
            "             Marc_Chagall       0.02      0.02      0.02        45\n",
            "             Michelangelo       0.00      0.00      0.00        11\n",
            "           Mikhail_Vrubel       0.00      0.00      0.00        31\n",
            "            Pablo_Picasso       0.05      0.08      0.06        90\n",
            "             Paul_Cezanne       0.00      0.00      0.00         6\n",
            "             Paul_Gauguin       0.07      0.07      0.07        68\n",
            "                Paul_Klee       0.08      0.03      0.05        31\n",
            "        Peter_Paul_Rubens       0.12      0.04      0.06        27\n",
            "    Pierre-Auguste_Renoir       0.02      0.03      0.03        59\n",
            "            Piet_Mondrian       0.00      0.00      0.00        15\n",
            "           Pieter_Bruegel       0.00      0.00      0.00        23\n",
            "                  Raphael       0.00      0.00      0.00        17\n",
            "                Rembrandt       0.01      0.02      0.01        55\n",
            "            Rene_Magritte       0.07      0.04      0.05        45\n",
            "            Salvador_Dali       0.00      0.00      0.00        23\n",
            "        Sandro_Botticelli       0.00      0.00      0.00        24\n",
            "                   Titian       0.06      0.06      0.06        52\n",
            "       Vasiliy_Kandinskiy       0.00      0.00      0.00        10\n",
            "         Vincent_van_Gogh       0.11      0.19      0.14       192\n",
            "           William_Turner       0.00      0.00      0.00        11\n",
            "\n",
            "                 accuracy                           0.05      1692\n",
            "                macro avg       0.02      0.02      0.02      1692\n",
            "             weighted avg       0.04      0.05      0.05      1692\n",
            "\n"
          ]
        }
      ]
    },
    {
      "cell_type": "code",
      "source": [
        "precision = precision_score(artist_names_true, artist_names_pred, average='macro', zero_division=0)\n",
        "print(\"Precision of the model\", precision)\n",
        "recall = recall_score(artist_names_true, artist_names_pred, average='macro', zero_division=0)\n",
        "print(\"Recall of the model\", recall)\n",
        "f1 = f1_score(artist_names_true, artist_names_pred, average='macro', zero_division=0)\n",
        "print(\"F1-score of the model\", f1)"
      ],
      "metadata": {
        "colab": {
          "base_uri": "https://localhost:8080/"
        },
        "id": "L3FUi1phWr5N",
        "outputId": "b1f0d019-f055-4209-cab5-c9fed9464cae"
      },
      "execution_count": null,
      "outputs": [
        {
          "output_type": "stream",
          "name": "stdout",
          "text": [
            "Precision of the model 0.019573472806242897\n",
            "Recall of the model 0.019442140813723956\n",
            "F1-score of the model 0.01817304767577986\n"
          ]
        }
      ]
    },
    {
      "cell_type": "code",
      "source": [],
      "metadata": {
        "id": "05N2Zz_nWudT"
      },
      "execution_count": null,
      "outputs": []
    },
    {
      "cell_type": "code",
      "source": [
        "report = classification_report(artist_names_true, artist_names_pred, zero_division=0)\n",
        "\n",
        "f1_scores = {}\n",
        "for line in report.split('\\n')[2:-5]:\n",
        "    line = line.split()\n",
        "    if len(line) == 0:\n",
        "        continue\n",
        "    class_name = line[0]\n",
        "    f1_score = float(line[-1])\n",
        "    f1_scores[class_name] = f1_score\n",
        "\n",
        "top_classes = sorted(f1_scores.items(), key=lambda x: x[1], reverse=True)[:5]\n",
        "print(\"Top 5 classes by f1-score:\")\n",
        "for class_name, f1_score in top_classes:\n",
        "    print(class_name)"
      ],
      "metadata": {
        "colab": {
          "base_uri": "https://localhost:8080/"
        },
        "id": "OKMLt-x-Wus-",
        "outputId": "db83d5b6-296f-4537-eaed-0af89cf6aef5"
      },
      "execution_count": null,
      "outputs": [
        {
          "output_type": "stream",
          "name": "stdout",
          "text": [
            "Top 5 classes by f1-score:\n",
            "Vincent_van_Gogh\n",
            "Edgar_Degas\n",
            "Pablo_Picasso\n",
            "Paul_Gauguin\n",
            "Albrecht_Dürer\n"
          ]
        }
      ]
    }
  ]
}