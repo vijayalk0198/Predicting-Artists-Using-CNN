{
  "nbformat": 4,
  "nbformat_minor": 0,
  "metadata": {
    "colab": {
      "provenance": []
    },
    "kernelspec": {
      "name": "python3",
      "display_name": "Python 3"
    },
    "language_info": {
      "name": "python"
    },
    "accelerator": "GPU",
    "gpuClass": "standard"
  },
  "cells": [
    {
      "cell_type": "code",
      "execution_count": null,
      "metadata": {
        "id": "2s3OvaUt0h62"
      },
      "outputs": [],
      "source": [
        "import numpy as np \n",
        "import pandas as pd \n",
        "import seaborn as sns\n",
        "import matplotlib.pyplot as plt\n",
        "import os\n",
        "from scipy.stats import pearsonr\n",
        "import random\n",
        "import torch\n",
        "import torchvision.transforms.functional as TF\n",
        "import torchvision.transforms as transforms\n",
        "from PIL import Image\n",
        "import pathlib\n",
        "import tensorflow as tf\n",
        "import numpy as np\n",
        "import pandas as pd\n",
        "import os\n",
        "import PIL\n",
        "from tensorflow import keras\n",
        "from tensorflow.keras import layers\n",
        "from tensorflow.keras.models import Sequential\n",
        "from tensorflow.keras.layers import Dense, Dropout, Flatten, Conv2D, MaxPooling2D\n",
        "import glob\n",
        "import torchvision\n",
        "from torchvision import transforms\n",
        "from torch.utils.data import random_split, DataLoader\n",
        "import torch.nn as nn\n",
        "import torch.optim as optim\n",
        "import time\n",
        "from tensorflow.keras.callbacks import EarlyStopping\n",
        "from sklearn.metrics import classification_report\n",
        "from sklearn.metrics import precision_score\n",
        "from sklearn.metrics import f1_score\n",
        "from sklearn.metrics import recall_score"
      ]
    },
    {
      "cell_type": "code",
      "source": [
        "from google.colab import drive\n",
        "drive.mount('/content/drive')\n",
        "%cd /content/drive/MyDrive/"
      ],
      "metadata": {
        "colab": {
          "base_uri": "https://localhost:8080/"
        },
        "id": "NfRDQ3xX2Qnk",
        "outputId": "8e186af8-0bbc-4228-fb08-fa9babdce220"
      },
      "execution_count": null,
      "outputs": [
        {
          "output_type": "stream",
          "name": "stdout",
          "text": [
            "Drive already mounted at /content/drive; to attempt to forcibly remount, call drive.mount(\"/content/drive\", force_remount=True).\n",
            "/content/drive/MyDrive\n"
          ]
        }
      ]
    },
    {
      "cell_type": "code",
      "source": [
        "artist_df = pd.read_csv('artists.csv')"
      ],
      "metadata": {
        "id": "B6vA_8Hd1fg8"
      },
      "execution_count": null,
      "outputs": []
    },
    {
      "cell_type": "code",
      "source": [
        "data_dir = pathlib.Path('images/images')"
      ],
      "metadata": {
        "id": "w2Mk5nIb1hsl"
      },
      "execution_count": null,
      "outputs": []
    },
    {
      "cell_type": "code",
      "source": [
        "batch_size = 16\n",
        "img_height, img_width = 224, 224\n",
        "artists_names= sorted(artist_df['name'].str.replace(' ', '_').tolist())\n",
        "\n",
        "train_ds = tf.keras.preprocessing.image_dataset_from_directory(\n",
        "    data_dir, \n",
        "    validation_split=0.2, \n",
        "    seed=123,\n",
        "    subset='training',\n",
        "    image_size=(img_height, img_width), \n",
        "    batch_size=batch_size\n",
        ")\n",
        "\n",
        "val_ds = tf.keras.preprocessing.image_dataset_from_directory(\n",
        "    data_dir, \n",
        "    validation_split=0.2, \n",
        "    seed=123,\n",
        "    subset='validation', \n",
        "    image_size=(img_height, img_width), \n",
        "    batch_size=batch_size\n",
        ")"
      ],
      "metadata": {
        "colab": {
          "base_uri": "https://localhost:8080/"
        },
        "id": "tlaikBE31kCR",
        "outputId": "5f792913-80b2-4e62-db0b-f02092805aec"
      },
      "execution_count": null,
      "outputs": [
        {
          "output_type": "stream",
          "name": "stdout",
          "text": [
            "Found 8461 files belonging to 50 classes.\n",
            "Using 6769 files for training.\n",
            "Found 8461 files belonging to 50 classes.\n",
            "Using 1692 files for validation.\n"
          ]
        }
      ]
    },
    {
      "cell_type": "code",
      "source": [
        "num_classes = 50\n",
        "input_shape = (batch_size, img_height, img_width, 3)\n",
        "model = Sequential()\n",
        "model.add(tf.keras.layers.experimental.preprocessing.Rescaling(scale=1./255,input_shape=(img_height, img_width, 3)))\n",
        "model.add(Conv2D(32, kernel_size=(3, 3), activation='relu'))\n",
        "model.add(MaxPooling2D(pool_size=(2, 2)))\n",
        "model.add(Conv2D(64, kernel_size=(3, 3), activation='relu'))\n",
        "model.add(MaxPooling2D(pool_size=(2, 2)))\n",
        "model.add(Conv2D(128, kernel_size=(3, 3), activation='relu'))\n",
        "model.add(MaxPooling2D(pool_size=(2, 2)))\n",
        "model.add(Conv2D(256, kernel_size=(3, 3), activation='relu'))\n",
        "model.add(MaxPooling2D(pool_size=(2, 2)))\n",
        "model.add(Flatten())\n",
        "model.add(Dense(512, activation='relu')) \n",
        "model.add(Dropout(0.1))\n",
        "model.add(Dense(num_classes, activation='softmax'))\n",
        "model.build(input_shape)\n",
        "model.summary()"
      ],
      "metadata": {
        "colab": {
          "base_uri": "https://localhost:8080/"
        },
        "id": "OfgWa4hT1nn8",
        "outputId": "2f7a75e2-a8a8-4c45-f2c3-f5daa720a5de"
      },
      "execution_count": null,
      "outputs": [
        {
          "output_type": "stream",
          "name": "stdout",
          "text": [
            "Model: \"sequential_1\"\n",
            "_________________________________________________________________\n",
            " Layer (type)                Output Shape              Param #   \n",
            "=================================================================\n",
            " rescaling_1 (Rescaling)     (None, 224, 224, 3)       0         \n",
            "                                                                 \n",
            " conv2d_4 (Conv2D)           (None, 222, 222, 32)      896       \n",
            "                                                                 \n",
            " max_pooling2d_4 (MaxPooling  (None, 111, 111, 32)     0         \n",
            " 2D)                                                             \n",
            "                                                                 \n",
            " conv2d_5 (Conv2D)           (None, 109, 109, 64)      18496     \n",
            "                                                                 \n",
            " max_pooling2d_5 (MaxPooling  (None, 54, 54, 64)       0         \n",
            " 2D)                                                             \n",
            "                                                                 \n",
            " conv2d_6 (Conv2D)           (None, 52, 52, 128)       73856     \n",
            "                                                                 \n",
            " max_pooling2d_6 (MaxPooling  (None, 26, 26, 128)      0         \n",
            " 2D)                                                             \n",
            "                                                                 \n",
            " conv2d_7 (Conv2D)           (None, 24, 24, 256)       295168    \n",
            "                                                                 \n",
            " max_pooling2d_7 (MaxPooling  (None, 12, 12, 256)      0         \n",
            " 2D)                                                             \n",
            "                                                                 \n",
            " flatten_1 (Flatten)         (None, 36864)             0         \n",
            "                                                                 \n",
            " dense_2 (Dense)             (None, 512)               18874880  \n",
            "                                                                 \n",
            " dropout_1 (Dropout)         (None, 512)               0         \n",
            "                                                                 \n",
            " dense_3 (Dense)             (None, 50)                25650     \n",
            "                                                                 \n",
            "=================================================================\n",
            "Total params: 19,288,946\n",
            "Trainable params: 19,288,946\n",
            "Non-trainable params: 0\n",
            "_________________________________________________________________\n"
          ]
        }
      ]
    },
    {
      "cell_type": "code",
      "source": [
        "model.compile(optimizer='adam', loss='sparse_categorical_crossentropy', metrics=['accuracy'])\n",
        "early_stop = EarlyStopping(monitor='val_loss', patience=10)\n",
        "num_epochs = 30\n",
        "start_time = time.time()\n",
        "model_history = model.fit(\n",
        "    train_ds,\n",
        "    validation_data=val_ds,\n",
        "    epochs=num_epochs,\n",
        "    callbacks=[early_stop]\n",
        ")\n",
        "end_time = time.time()\n",
        "training_time = end_time - start_time\n",
        "\n",
        "loss, accuracy = model.evaluate(val_ds)\n",
        "print(f'Validation accuracy: {accuracy}')\n",
        "print(f'Validation loss: {loss:.4f}')\n",
        "training_time_minutes = round(training_time / 60, 2)\n",
        "print(f\"Training time: {training_time_minutes} minutes\")"
      ],
      "metadata": {
        "colab": {
          "base_uri": "https://localhost:8080/"
        },
        "id": "95be1fNm1q4J",
        "outputId": "cfcdba1e-cbec-42b5-d277-1140b5a55788"
      },
      "execution_count": null,
      "outputs": [
        {
          "output_type": "stream",
          "name": "stdout",
          "text": [
            "Epoch 1/30\n",
            "424/424 [==============================] - 61s 137ms/step - loss: 3.4107 - accuracy: 0.1392 - val_loss: 3.0059 - val_accuracy: 0.2116\n",
            "Epoch 2/30\n",
            "424/424 [==============================] - 58s 136ms/step - loss: 2.9231 - accuracy: 0.2393 - val_loss: 2.8748 - val_accuracy: 0.2530\n",
            "Epoch 3/30\n",
            "424/424 [==============================] - 70s 163ms/step - loss: 2.5745 - accuracy: 0.3125 - val_loss: 2.9770 - val_accuracy: 0.2665\n",
            "Epoch 4/30\n",
            "424/424 [==============================] - 69s 162ms/step - loss: 2.0160 - accuracy: 0.4510 - val_loss: 3.1299 - val_accuracy: 0.3073\n",
            "Epoch 5/30\n",
            "424/424 [==============================] - 59s 137ms/step - loss: 1.3881 - accuracy: 0.6035 - val_loss: 4.0428 - val_accuracy: 0.2896\n",
            "Epoch 6/30\n",
            "424/424 [==============================] - 69s 160ms/step - loss: 0.8887 - accuracy: 0.7434 - val_loss: 5.2340 - val_accuracy: 0.3038\n",
            "Epoch 7/30\n",
            "424/424 [==============================] - 61s 140ms/step - loss: 0.5850 - accuracy: 0.8286 - val_loss: 5.3829 - val_accuracy: 0.2937\n",
            "Epoch 8/30\n",
            "424/424 [==============================] - 59s 138ms/step - loss: 0.3864 - accuracy: 0.8883 - val_loss: 5.6557 - val_accuracy: 0.3073\n",
            "Epoch 9/30\n",
            "424/424 [==============================] - 59s 137ms/step - loss: 0.2793 - accuracy: 0.9207 - val_loss: 6.2761 - val_accuracy: 0.3002\n",
            "Epoch 10/30\n",
            "424/424 [==============================] - 59s 137ms/step - loss: 0.2130 - accuracy: 0.9346 - val_loss: 6.4951 - val_accuracy: 0.3191\n",
            "Epoch 11/30\n",
            "424/424 [==============================] - 59s 138ms/step - loss: 0.1728 - accuracy: 0.9501 - val_loss: 6.6643 - val_accuracy: 0.3138\n",
            "Epoch 12/30\n",
            "424/424 [==============================] - 69s 161ms/step - loss: 0.1589 - accuracy: 0.9583 - val_loss: 6.3725 - val_accuracy: 0.3126\n",
            "106/106 [==============================] - 11s 97ms/step - loss: 6.3725 - accuracy: 0.3126\n",
            "Validation accuracy: 0.3126477599143982\n",
            "Validation loss: 6.3725\n",
            "Training time: 14.08 minutes\n"
          ]
        }
      ]
    },
    {
      "cell_type": "code",
      "source": [
        "fig, (ax1, ax2) = plt.subplots(1, 2, figsize=(10, 4))\n",
        "ax1.plot(model_history.history['accuracy'], linestyle='-', linewidth=2, label='Train Accuracy')\n",
        "ax1.plot(model_history.history['val_accuracy'], linestyle='--', linewidth=2, label='Validation Accuracy')\n",
        "ax1.set_title('Model Accuracy', fontweight='bold')\n",
        "ax1.set_ylabel('Accuracy', fontweight='bold')\n",
        "ax1.set_xlabel('Epoch', fontweight='bold')\n",
        "ax1.legend(loc='upper left')\n",
        "ax2.plot(model_history.history['loss'], linestyle='-', linewidth=2, label='Train Loss')\n",
        "ax2.plot(model_history.history['val_loss'], linestyle='--', linewidth=2, label='Validation Loss')\n",
        "ax2.set_title('Model Loss', fontweight='bold')\n",
        "ax2.set_ylabel('Loss', fontweight='bold')\n",
        "ax2.set_xlabel('Epoch', fontweight='bold')\n",
        "ax2.legend(loc='upper left')\n",
        "plt.show()"
      ],
      "metadata": {
        "colab": {
          "base_uri": "https://localhost:8080/",
          "height": 410
        },
        "id": "fZtmqVPMGy40",
        "outputId": "c1c233d3-78f5-4cd3-d1b6-8bcd2fe8e92b"
      },
      "execution_count": null,
      "outputs": [
        {
          "output_type": "display_data",
          "data": {
            "text/plain": [
              "<Figure size 1000x400 with 2 Axes>"
            ],
            "image/png": "[encoded data removed]"
          },
          "metadata": {}
        }
      ]
    },
    {
      "cell_type": "code",
      "source": [
        "val_labels = np.concatenate([y for x, y in val_ds], axis=0)\n",
        "val_class_labels = [val_ds.class_names[label] for label in val_labels]\n",
        "y_pred = model.predict(val_ds) \n",
        "y_pred_classes = np.argmax(y_pred, axis=1) \n",
        "y_pred_classes = y_pred_classes.tolist()\n",
        "\n",
        "artists_names = sorted(artist_df['name'].str.replace(' ', '_').tolist())\n",
        "n_artists = len(artists_names)\n",
        "artist_dict = {}\n",
        "for i in range(n_artists):\n",
        "    artist_dict[i] = artists_names[i]\n",
        "\n",
        "artist_names_pred = [artist_dict[label] for label in y_pred_classes]\n",
        "artist_names_true = val_class_labels\n",
        "\n",
        "print(classification_report(artist_names_true, artist_names_pred, zero_division=0))"
      ],
      "metadata": {
        "colab": {
          "base_uri": "https://localhost:8080/"
        },
        "id": "w5DEbVv-Hg6G",
        "outputId": "22e34ba5-f395-44ac-f997-df659026b737"
      },
      "execution_count": null,
      "outputs": [
        {
          "output_type": "stream",
          "name": "stdout",
          "text": [
            "106/106 [==============================] - 10s 88ms/step\n",
            "                           precision    recall  f1-score   support\n",
            "\n",
            "          Albrecht_Dürer       0.00      0.00      0.00        66\n",
            "           Albrecht_Dürer       0.00      0.00      0.00         0\n",
            "            Alfred_Sisley       0.08      0.04      0.05        54\n",
            "        Amedeo_Modigliani       0.04      0.05      0.05        39\n",
            "            Andrei_Rublev       0.00      0.00      0.00        19\n",
            "              Andy_Warhol       0.02      0.04      0.03        24\n",
            "         Camille_Pissarro       0.00      0.00      0.00        16\n",
            "               Caravaggio       0.00      0.00      0.00        15\n",
            "             Claude_Monet       0.00      0.00      0.00        13\n",
            "             Diego_Rivera       0.00      0.00      0.00        15\n",
            "          Diego_Velazquez       0.00      0.00      0.00        22\n",
            "              Edgar_Degas       0.11      0.09      0.10       157\n",
            "            Edouard_Manet       0.02      0.04      0.03        26\n",
            "             Edvard_Munch       0.00      0.00      0.00        10\n",
            "                 El_Greco       0.00      0.00      0.00        21\n",
            "         Eugene_Delacroix       0.00      0.00      0.00         7\n",
            "           Francisco_Goya       0.01      0.02      0.01        53\n",
            "              Frida_Kahlo       0.04      0.04      0.04        24\n",
            "           Georges_Seurat       0.00      0.00      0.00         9\n",
            "        Giotto_di_Bondone       0.00      0.00      0.00        25\n",
            "             Gustav_Klimt       0.00      0.00      0.00        28\n",
            "          Gustave_Courbet       0.00      0.00      0.00        10\n",
            "            Henri_Matisse       0.00      0.00      0.00        39\n",
            "           Henri_Rousseau       0.00      0.00      0.00        16\n",
            "Henri_de_Toulouse-Lautrec       0.00      0.00      0.00        17\n",
            "         Hieronymus_Bosch       0.00      0.00      0.00        28\n",
            "          Jackson_Pollock       0.00      0.00      0.00         6\n",
            "             Jan_van_Eyck       0.00      0.00      0.00        13\n",
            "                Joan_Miro       0.00      0.00      0.00        22\n",
            "         Kazimir_Malevich       0.00      0.00      0.00        27\n",
            "        Leonardo_da_Vinci       0.07      0.03      0.04        36\n",
            "             Marc_Chagall       0.00      0.00      0.00        45\n",
            "             Michelangelo       0.00      0.00      0.00        11\n",
            "           Mikhail_Vrubel       0.03      0.03      0.03        31\n",
            "            Pablo_Picasso       0.05      0.06      0.05        90\n",
            "             Paul_Cezanne       0.00      0.00      0.00         6\n",
            "             Paul_Gauguin       0.06      0.06      0.06        68\n",
            "                Paul_Klee       0.00      0.00      0.00        31\n",
            "        Peter_Paul_Rubens       0.00      0.00      0.00        27\n",
            "    Pierre-Auguste_Renoir       0.05      0.07      0.06        59\n",
            "            Piet_Mondrian       0.00      0.00      0.00        15\n",
            "           Pieter_Bruegel       0.06      0.04      0.05        23\n",
            "                  Raphael       0.00      0.00      0.00        17\n",
            "                Rembrandt       0.03      0.04      0.03        55\n",
            "            Rene_Magritte       0.05      0.02      0.03        45\n",
            "            Salvador_Dali       0.00      0.00      0.00        23\n",
            "        Sandro_Botticelli       0.00      0.00      0.00        24\n",
            "                   Titian       0.02      0.02      0.02        52\n",
            "       Vasiliy_Kandinskiy       0.00      0.00      0.00        10\n",
            "         Vincent_van_Gogh       0.12      0.16      0.14       192\n",
            "           William_Turner       0.00      0.00      0.00        11\n",
            "\n",
            "                 accuracy                           0.04      1692\n",
            "                macro avg       0.02      0.02      0.02      1692\n",
            "             weighted avg       0.04      0.04      0.04      1692\n",
            "\n"
          ]
        }
      ]
    },
    {
      "cell_type": "code",
      "source": [
        "precision = precision_score(artist_names_true, artist_names_pred, average='macro', zero_division=0)\n",
        "print(\"Precision of the model\", precision)\n",
        "recall = recall_score(artist_names_true, artist_names_pred, average='macro', zero_division=0)\n",
        "print(\"Recall of the model\", recall)\n",
        "f1 = f1_score(artist_names_true, artist_names_pred, average='macro', zero_division=0)\n",
        "print(\"F1-score of the model\", f1)"
      ],
      "metadata": {
        "colab": {
          "base_uri": "https://localhost:8080/"
        },
        "id": "-rs8XPTtYhn8",
        "outputId": "32f975f9-847d-46b3-d52f-97179d50140e"
      },
      "execution_count": null,
      "outputs": [
        {
          "output_type": "stream",
          "name": "stdout",
          "text": [
            "Precision of the model 0.016857312341097778\n",
            "Recall of the model 0.01653173761989804\n",
            "F1-score of the model 0.016007548489107497\n"
          ]
        }
      ]
    },
    {
      "cell_type": "code",
      "source": [
        "report = classification_report(artist_names_true, artist_names_pred, zero_division=0)\n",
        "\n",
        "f1_scores = {}\n",
        "for line in report.split('\\n')[2:-5]:\n",
        "    line = line.split()\n",
        "    if len(line) == 0:\n",
        "        continue\n",
        "    class_name = line[0]\n",
        "    f1_score = float(line[-1])\n",
        "    f1_scores[class_name] = f1_score\n",
        "\n",
        "top_classes = sorted(f1_scores.items(), key=lambda x: x[1], reverse=True)[:5]\n",
        "print(\"Top 5 classes by f1-score:\")\n",
        "for class_name, f1_score in top_classes:\n",
        "    print(class_name)\n"
      ],
      "metadata": {
        "colab": {
          "base_uri": "https://localhost:8080/"
        },
        "id": "vLnBV1-WZgIX",
        "outputId": "543b44f3-91da-4705-b8d8-5b23e943ea56"
      },
      "execution_count": null,
      "outputs": [
        {
          "output_type": "stream",
          "name": "stdout",
          "text": [
            "Top 5 classes by f1-score:\n",
            "Vincent_van_Gogh\n",
            "Edgar_Degas\n",
            "Pablo_Picasso\n",
            "Paul_Gauguin\n",
            "Albrecht_Dürer\n"
          ]
        }
      ]
    }
  ]
}