{
  "nbformat": 4,
  "nbformat_minor": 0,
  "metadata": {
    "colab": {
      "provenance": [],
      "machine_shape": "hm"
    },
    "kernelspec": {
      "name": "python3",
      "display_name": "Python 3"
    },
    "language_info": {
      "name": "python"
    },
    "accelerator": "GPU",
    "gpuClass": "premium"
  },
  "cells": [
    {
      "cell_type": "code",
      "execution_count": null,
      "metadata": {
        "id": "JTwX9aa-hxGP"
      },
      "outputs": [],
      "source": [
        "import numpy as np \n",
        "import pandas as pd \n",
        "import seaborn as sns\n",
        "import matplotlib.pyplot as plt\n",
        "import os\n",
        "from scipy.stats import pearsonr\n",
        "import random\n",
        "import torch\n",
        "import torchvision.transforms.functional as TF\n",
        "import torchvision.transforms as transforms\n",
        "from PIL import Image\n",
        "import pathlib\n",
        "import tensorflow as tf\n",
        "import numpy as np\n",
        "import pandas as pd\n",
        "import os\n",
        "import PIL\n",
        "from tensorflow import keras\n",
        "from tensorflow.keras import layers\n",
        "from tensorflow.keras.models import Sequential\n",
        "from tensorflow.keras.layers import Dense, Dropout, Flatten, Conv2D, MaxPooling2D\n",
        "import glob\n",
        "import torchvision\n",
        "from torchvision import transforms\n",
        "from torch.utils.data import random_split, DataLoader\n",
        "import torch.nn as nn\n",
        "import torch.optim as optim\n",
        "import time\n",
        "from tensorflow.keras.callbacks import EarlyStopping\n",
        "from sklearn.metrics import classification_report\n",
        "from sklearn.metrics import precision_score\n",
        "from sklearn.metrics import f1_score\n",
        "from sklearn.metrics import recall_score\n",
        "from tensorflow.keras import regularizers"
      ]
    },
    {
      "cell_type": "code",
      "source": [
        "from google.colab import drive\n",
        "drive.mount('/content/drive')\n",
        "%cd /content/drive/MyDrive/"
      ],
      "metadata": {
        "colab": {
          "base_uri": "https://localhost:8080/"
        },
        "id": "uFFnp0LahyZ4",
        "outputId": "c2b7fc52-a740-4c0a-e674-c9dec9d65260"
      },
      "execution_count": null,
      "outputs": [
        {
          "output_type": "stream",
          "name": "stdout",
          "text": [
            "Mounted at /content/drive\n",
            "/content/drive/MyDrive\n"
          ]
        }
      ]
    },
    {
      "cell_type": "code",
      "source": [
        "data_dir = pathlib.Path('images/images')"
      ],
      "metadata": {
        "id": "Xkf9O2HBh1El"
      },
      "execution_count": null,
      "outputs": []
    },
    {
      "cell_type": "code",
      "source": [
        "artist_df = pd.read_csv('artists.csv')"
      ],
      "metadata": {
        "id": "btA1zTD1h3Zg"
      },
      "execution_count": null,
      "outputs": []
    },
    {
      "cell_type": "code",
      "source": [
        "batch_size = 32\n",
        "img_height, img_width = 224, 224\n",
        "artists_names= sorted(artist_df['name'].str.replace(' ', '_').tolist())\n",
        "\n",
        "train_ds = tf.keras.preprocessing.image_dataset_from_directory(\n",
        "    data_dir, \n",
        "    validation_split=0.2, \n",
        "    seed=123,\n",
        "    subset='training',\n",
        "    image_size=(img_height, img_width), \n",
        "    batch_size=batch_size\n",
        ")\n",
        "\n",
        "val_ds = tf.keras.preprocessing.image_dataset_from_directory(\n",
        "    data_dir, \n",
        "    validation_split=0.2, \n",
        "    seed=123,\n",
        "    subset='validation', \n",
        "    image_size=(img_height, img_width), \n",
        "    batch_size=batch_size\n",
        ")"
      ],
      "metadata": {
        "colab": {
          "base_uri": "https://localhost:8080/"
        },
        "id": "L8qiMpZih5eu",
        "outputId": "287f7bf1-88aa-4a9c-de5b-532add8a2769"
      },
      "execution_count": null,
      "outputs": [
        {
          "output_type": "stream",
          "name": "stdout",
          "text": [
            "Found 8461 files belonging to 50 classes.\n",
            "Using 6769 files for training.\n",
            "Found 8461 files belonging to 50 classes.\n",
            "Using 1692 files for validation.\n"
          ]
        }
      ]
    },
    {
      "cell_type": "code",
      "source": [
        "num_classes = 50\n",
        "input_shape = (batch_size, img_height, img_width, 3)\n",
        "model = Sequential()\n",
        "model.add(tf.keras.layers.experimental.preprocessing.Rescaling(scale=1./255,input_shape=(img_height, img_width, 3)))\n",
        "model.add(Conv2D(32, kernel_size=(3, 3), activation='relu'))\n",
        "model.add(MaxPooling2D(pool_size=(2, 2)))\n",
        "model.add(Conv2D(64, kernel_size=(3, 3), activation='relu'))\n",
        "model.add(MaxPooling2D(pool_size=(2, 2)))\n",
        "model.add(Conv2D(256, kernel_size=(3, 3), activation='relu'))\n",
        "model.add(MaxPooling2D(pool_size=(2, 2)))\n",
        "model.add(Flatten())\n",
        "model.add(Dense(512, activation='relu', kernel_regularizer=regularizers.l2(0.01)))\n",
        "model.add(Dropout(0.3))\n",
        "model.add(Dense(512, activation='relu', kernel_regularizer=regularizers.l2(0.01)))\n",
        "model.add(Dropout(0.3))\n",
        "model.add(Dense(num_classes, activation='softmax'))\n",
        "model.build(input_shape)\n",
        "model.summary()\n"
      ],
      "metadata": {
        "colab": {
          "base_uri": "https://localhost:8080/"
        },
        "id": "qKbkeh1rh7RA",
        "outputId": "2c0be2fd-d86e-49ee-a4e6-5f84202c2795"
      },
      "execution_count": null,
      "outputs": [
        {
          "output_type": "stream",
          "name": "stdout",
          "text": [
            "Model: \"sequential\"\n",
            "_________________________________________________________________\n",
            " Layer (type)                Output Shape              Param #   \n",
            "=================================================================\n",
            " rescaling (Rescaling)       (None, 224, 224, 3)       0         \n",
            "                                                                 \n",
            " conv2d (Conv2D)             (None, 222, 222, 32)      896       \n",
            "                                                                 \n",
            " max_pooling2d (MaxPooling2D  (None, 111, 111, 32)     0         \n",
            " )                                                               \n",
            "                                                                 \n",
            " conv2d_1 (Conv2D)           (None, 109, 109, 64)      18496     \n",
            "                                                                 \n",
            " max_pooling2d_1 (MaxPooling  (None, 54, 54, 64)       0         \n",
            " 2D)                                                             \n",
            "                                                                 \n",
            " conv2d_2 (Conv2D)           (None, 52, 52, 256)       147712    \n",
            "                                                                 \n",
            " max_pooling2d_2 (MaxPooling  (None, 26, 26, 256)      0         \n",
            " 2D)                                                             \n",
            "                                                                 \n",
            " flatten (Flatten)           (None, 173056)            0         \n",
            "                                                                 \n",
            " dense (Dense)               (None, 512)               88605184  \n",
            "                                                                 \n",
            " dropout (Dropout)           (None, 512)               0         \n",
            "                                                                 \n",
            " dense_1 (Dense)             (None, 512)               262656    \n",
            "                                                                 \n",
            " dropout_1 (Dropout)         (None, 512)               0         \n",
            "                                                                 \n",
            " dense_2 (Dense)             (None, 50)                25650     \n",
            "                                                                 \n",
            "=================================================================\n",
            "Total params: 89,060,594\n",
            "Trainable params: 89,060,594\n",
            "Non-trainable params: 0\n",
            "_________________________________________________________________\n"
          ]
        }
      ]
    },
    {
      "cell_type": "code",
      "source": [
        "model.compile(optimizer='adam', loss='sparse_categorical_crossentropy', metrics=['accuracy'])\n",
        "early_stop = EarlyStopping(monitor='val_loss', patience=10)\n",
        "num_epochs = 50\n",
        "start_time = time.time()\n",
        "model_history = model.fit(\n",
        "    train_ds,\n",
        "    validation_data=val_ds,\n",
        "    epochs=num_epochs,\n",
        "    callbacks=[early_stop]\n",
        ")\n",
        "end_time = time.time()\n",
        "training_time = end_time - start_time\n",
        "\n",
        "loss, accuracy = model.evaluate(val_ds)\n",
        "print(f'Validation accuracy: {accuracy}')\n",
        "print(f'Validation loss: {loss:.4f}')\n",
        "training_time_minutes = round(training_time / 60, 2)\n",
        "print(f\"Training time: {training_time_minutes} minutes\")"
      ],
      "metadata": {
        "colab": {
          "base_uri": "https://localhost:8080/"
        },
        "id": "LRY9kpxVh9si",
        "outputId": "95f88a2e-cb23-47c2-ab4c-538303818d93"
      },
      "execution_count": null,
      "outputs": [
        {
          "output_type": "stream",
          "name": "stdout",
          "text": [
            "Epoch 1/50\n",
            "212/212 [==============================] - 497s 2s/step - loss: 5.7363 - accuracy: 0.1108 - val_loss: 4.0902 - val_accuracy: 0.1342\n",
            "Epoch 2/50\n",
            "212/212 [==============================] - 14s 63ms/step - loss: 3.8652 - accuracy: 0.1480 - val_loss: 3.5846 - val_accuracy: 0.1820\n",
            "Epoch 3/50\n",
            "212/212 [==============================] - 14s 63ms/step - loss: 3.5637 - accuracy: 0.1649 - val_loss: 3.3738 - val_accuracy: 0.2134\n",
            "Epoch 4/50\n",
            "212/212 [==============================] - 14s 62ms/step - loss: 3.4201 - accuracy: 0.1811 - val_loss: 3.3075 - val_accuracy: 0.2104\n",
            "Epoch 5/50\n",
            "212/212 [==============================] - 14s 63ms/step - loss: 3.3574 - accuracy: 0.1836 - val_loss: 3.2657 - val_accuracy: 0.1868\n",
            "Epoch 6/50\n",
            "212/212 [==============================] - 14s 62ms/step - loss: 3.3175 - accuracy: 0.1895 - val_loss: 3.1868 - val_accuracy: 0.2163\n",
            "Epoch 7/50\n",
            "212/212 [==============================] - 14s 62ms/step - loss: 3.2545 - accuracy: 0.2018 - val_loss: 3.1701 - val_accuracy: 0.2352\n",
            "Epoch 8/50\n",
            "212/212 [==============================] - 14s 62ms/step - loss: 3.2139 - accuracy: 0.2136 - val_loss: 3.0753 - val_accuracy: 0.2476\n",
            "Epoch 9/50\n",
            "212/212 [==============================] - 14s 62ms/step - loss: 3.1891 - accuracy: 0.2160 - val_loss: 3.0798 - val_accuracy: 0.2500\n",
            "Epoch 10/50\n",
            "212/212 [==============================] - 14s 63ms/step - loss: 3.1302 - accuracy: 0.2365 - val_loss: 3.0036 - val_accuracy: 0.2595\n",
            "Epoch 11/50\n",
            "212/212 [==============================] - 14s 63ms/step - loss: 3.1090 - accuracy: 0.2364 - val_loss: 2.9778 - val_accuracy: 0.2855\n",
            "Epoch 12/50\n",
            "212/212 [==============================] - 14s 62ms/step - loss: 3.0718 - accuracy: 0.2427 - val_loss: 2.9693 - val_accuracy: 0.2695\n",
            "Epoch 13/50\n",
            "212/212 [==============================] - 14s 63ms/step - loss: 3.0300 - accuracy: 0.2531 - val_loss: 3.1184 - val_accuracy: 0.2559\n",
            "Epoch 14/50\n",
            "212/212 [==============================] - 14s 63ms/step - loss: 3.0399 - accuracy: 0.2615 - val_loss: 2.9439 - val_accuracy: 0.2973\n",
            "Epoch 15/50\n",
            "212/212 [==============================] - 14s 62ms/step - loss: 3.0162 - accuracy: 0.2658 - val_loss: 3.0088 - val_accuracy: 0.2796\n",
            "Epoch 16/50\n",
            "212/212 [==============================] - 14s 63ms/step - loss: 2.9934 - accuracy: 0.2724 - val_loss: 2.9215 - val_accuracy: 0.3109\n",
            "Epoch 17/50\n",
            "212/212 [==============================] - 14s 62ms/step - loss: 2.9815 - accuracy: 0.2822 - val_loss: 2.9346 - val_accuracy: 0.3121\n",
            "Epoch 18/50\n",
            "212/212 [==============================] - 14s 63ms/step - loss: 2.9687 - accuracy: 0.2907 - val_loss: 2.9435 - val_accuracy: 0.3079\n",
            "Epoch 19/50\n",
            "212/212 [==============================] - 14s 63ms/step - loss: 2.9649 - accuracy: 0.2993 - val_loss: 2.9775 - val_accuracy: 0.3109\n",
            "Epoch 20/50\n",
            "212/212 [==============================] - 14s 63ms/step - loss: 2.9333 - accuracy: 0.3000 - val_loss: 2.9679 - val_accuracy: 0.3245\n",
            "Epoch 21/50\n",
            "212/212 [==============================] - 14s 62ms/step - loss: 2.9161 - accuracy: 0.3190 - val_loss: 2.8921 - val_accuracy: 0.3292\n",
            "Epoch 22/50\n",
            "212/212 [==============================] - 14s 62ms/step - loss: 2.8907 - accuracy: 0.3190 - val_loss: 2.9277 - val_accuracy: 0.3351\n",
            "Epoch 23/50\n",
            "212/212 [==============================] - 14s 62ms/step - loss: 2.8924 - accuracy: 0.3312 - val_loss: 2.9307 - val_accuracy: 0.3345\n",
            "Epoch 24/50\n",
            "212/212 [==============================] - 14s 62ms/step - loss: 2.8588 - accuracy: 0.3426 - val_loss: 2.9854 - val_accuracy: 0.3416\n",
            "Epoch 25/50\n",
            "212/212 [==============================] - 14s 62ms/step - loss: 2.8676 - accuracy: 0.3423 - val_loss: 3.0527 - val_accuracy: 0.3197\n",
            "Epoch 26/50\n",
            "212/212 [==============================] - 14s 63ms/step - loss: 2.8536 - accuracy: 0.3568 - val_loss: 2.9690 - val_accuracy: 0.3517\n",
            "Epoch 27/50\n",
            "212/212 [==============================] - 14s 63ms/step - loss: 2.8256 - accuracy: 0.3711 - val_loss: 3.0197 - val_accuracy: 0.3446\n",
            "Epoch 28/50\n",
            "212/212 [==============================] - 14s 63ms/step - loss: 2.8152 - accuracy: 0.3887 - val_loss: 3.0582 - val_accuracy: 0.3517\n",
            "Epoch 29/50\n",
            "212/212 [==============================] - 14s 62ms/step - loss: 2.7931 - accuracy: 0.3968 - val_loss: 3.1251 - val_accuracy: 0.3505\n",
            "Epoch 30/50\n",
            "212/212 [==============================] - 14s 63ms/step - loss: 2.7829 - accuracy: 0.4061 - val_loss: 3.2204 - val_accuracy: 0.3375\n",
            "Epoch 31/50\n",
            "212/212 [==============================] - 14s 63ms/step - loss: 2.7753 - accuracy: 0.4215 - val_loss: 3.1742 - val_accuracy: 0.3534\n",
            "53/53 [==============================] - 3s 44ms/step - loss: 3.1742 - accuracy: 0.3534\n",
            "Validation accuracy: 0.3534278869628906\n",
            "Validation loss: 3.1742\n",
            "Training time: 15.14 minutes\n"
          ]
        }
      ]
    },
    {
      "cell_type": "code",
      "source": [
        "fig, (ax1, ax2) = plt.subplots(1, 2, figsize=(10, 4))\n",
        "ax1.plot(model_history.history['accuracy'], linestyle='-', linewidth=2, label='Train Accuracy')\n",
        "ax1.plot(model_history.history['val_accuracy'], linestyle='--', linewidth=2, label='Validation Accuracy')\n",
        "ax1.set_title('Model Accuracy', fontweight='bold')\n",
        "ax1.set_ylabel('Accuracy', fontweight='bold')\n",
        "ax1.set_xlabel('Epoch', fontweight='bold')\n",
        "ax1.legend(loc='upper left')\n",
        "ax2.plot(model_history.history['loss'], linestyle='-', linewidth=2, label='Train Loss')\n",
        "ax2.plot(model_history.history['val_loss'], linestyle='--', linewidth=2, label='Validation Loss')\n",
        "ax2.set_title('Model Loss', fontweight='bold')\n",
        "ax2.set_ylabel('Loss', fontweight='bold')\n",
        "ax2.set_xlabel('Epoch', fontweight='bold')\n",
        "ax2.legend(loc='upper left')\n",
        "plt.show()"
      ],
      "metadata": {
        "id": "oG5f0akwiAaF"
      },
      "execution_count": null,
      "outputs": []
    },
    {
      "cell_type": "code",
      "source": [
        "val_labels = np.concatenate([y for x, y in val_ds], axis=0)\n",
        "val_class_labels = [val_ds.class_names[label] for label in val_labels]\n",
        "y_pred = model.predict(val_ds) \n",
        "y_pred_classes = np.argmax(y_pred, axis=1) \n",
        "y_pred_classes = y_pred_classes.tolist()\n",
        "\n",
        "artists_names = sorted(artist_df['name'].str.replace(' ', '_').tolist())\n",
        "n_artists = len(artists_names)\n",
        "artist_dict = {}\n",
        "for i in range(n_artists):\n",
        "    artist_dict[i] = artists_names[i]\n",
        "\n",
        "artist_names_pred = [artist_dict[label] for label in y_pred_classes]\n",
        "artist_names_true = val_class_labels\n",
        "\n",
        "print(classification_report(artist_names_true, artist_names_pred, zero_division=0))"
      ],
      "metadata": {
        "id": "49_0noTViC_X"
      },
      "execution_count": null,
      "outputs": []
    },
    {
      "cell_type": "code",
      "source": [
        "precision = precision_score(artist_names_true, artist_names_pred, average='macro', zero_division=0)\n",
        "print(\"Precision of the model\", precision)\n",
        "recall = recall_score(artist_names_true, artist_names_pred, average='macro', zero_division=0)\n",
        "print(\"Recall of the model\", recall)\n",
        "f1 = f1_score(artist_names_true, artist_names_pred, average='macro', zero_division=0)\n",
        "print(\"F1-score of the model\", f1)"
      ],
      "metadata": {
        "id": "183yvTH1iFh6"
      },
      "execution_count": null,
      "outputs": []
    },
    {
      "cell_type": "code",
      "source": [
        "report = classification_report(artist_names_true, artist_names_pred, zero_division=0)\n",
        "\n",
        "f1_scores = {}\n",
        "for line in report.split('\\n')[2:-5]:\n",
        "    line = line.split()\n",
        "    if len(line) == 0:\n",
        "        continue\n",
        "    class_name = line[0]\n",
        "    f1_score = float(line[-1])\n",
        "    f1_scores[class_name] = f1_score\n",
        "\n",
        "top_classes = sorted(f1_scores.items(), key=lambda x: x[1], reverse=True)[:5]\n",
        "print(\"Top 5 classes by f1-score:\")\n",
        "for class_name, f1_score in top_classes:\n",
        "    print(class_name)"
      ],
      "metadata": {
        "id": "wU3i6WW1iH4y"
      },
      "execution_count": null,
      "outputs": []
    }
  ]
}