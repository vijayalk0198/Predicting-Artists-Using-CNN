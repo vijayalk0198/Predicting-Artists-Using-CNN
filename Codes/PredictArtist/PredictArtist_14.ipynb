{
  "nbformat": 4,
  "nbformat_minor": 0,
  "metadata": {
    "colab": {
      "provenance": [],
      "machine_shape": "hm"
    },
    "kernelspec": {
      "name": "python3",
      "display_name": "Python 3"
    },
    "language_info": {
      "name": "python"
    },
    "accelerator": "GPU",
    "gpuClass": "premium"
  },
  "cells": [
    {
      "cell_type": "code",
      "execution_count": null,
      "metadata": {
        "id": "7BEcSL83brKs"
      },
      "outputs": [],
      "source": [
        "import numpy as np \n",
        "import pandas as pd \n",
        "import seaborn as sns\n",
        "import matplotlib.pyplot as plt\n",
        "import os\n",
        "from scipy.stats import pearsonr\n",
        "import random\n",
        "import torch\n",
        "import torchvision.transforms.functional as TF\n",
        "import torchvision.transforms as transforms\n",
        "from PIL import Image\n",
        "import pathlib\n",
        "import tensorflow as tf\n",
        "import numpy as np\n",
        "import pandas as pd\n",
        "import os\n",
        "import PIL\n",
        "from tensorflow import keras\n",
        "from tensorflow.keras import layers\n",
        "from tensorflow.keras.models import Sequential\n",
        "from tensorflow.keras.layers import Dense, Dropout, Flatten, Conv2D, MaxPooling2D\n",
        "import glob\n",
        "import torchvision\n",
        "from torchvision import transforms\n",
        "from torch.utils.data import random_split, DataLoader\n",
        "import torch.nn as nn\n",
        "import torch.optim as optim\n",
        "import time\n",
        "from tensorflow.keras.callbacks import EarlyStopping\n",
        "from sklearn.metrics import classification_report\n",
        "from sklearn.metrics import precision_score\n",
        "from sklearn.metrics import f1_score\n",
        "from sklearn.metrics import recall_score\n",
        "from tensorflow.keras import regularizers"
      ]
    },
    {
      "cell_type": "code",
      "source": [
        "from google.colab import drive\n",
        "drive.mount('/content/drive')\n",
        "%cd /content/drive/MyDrive/"
      ],
      "metadata": {
        "colab": {
          "base_uri": "https://localhost:8080/"
        },
        "id": "Rzq8oqG4bvI4",
        "outputId": "952851e0-8d34-4155-eb65-a7de3f7a1688"
      },
      "execution_count": null,
      "outputs": [
        {
          "output_type": "stream",
          "name": "stdout",
          "text": [
            "Mounted at /content/drive\n",
            "/content/drive/MyDrive\n"
          ]
        }
      ]
    },
    {
      "cell_type": "code",
      "source": [
        "data_dir = pathlib.Path('images/images')"
      ],
      "metadata": {
        "id": "8qd-X0nmbxuH"
      },
      "execution_count": null,
      "outputs": []
    },
    {
      "cell_type": "code",
      "source": [
        "artist_df = pd.read_csv('artists.csv')"
      ],
      "metadata": {
        "id": "j1m1dtN2bz0l"
      },
      "execution_count": null,
      "outputs": []
    },
    {
      "cell_type": "code",
      "source": [
        "batch_size = 32\n",
        "img_height, img_width = 224, 224\n",
        "artists_names= sorted(artist_df['name'].str.replace(' ', '_').tolist())\n",
        "\n",
        "train_ds = tf.keras.preprocessing.image_dataset_from_directory(\n",
        "    data_dir, \n",
        "    validation_split=0.1, \n",
        "    seed=123,\n",
        "    subset='training',\n",
        "    image_size=(img_height, img_width), \n",
        "    batch_size=batch_size\n",
        ")\n",
        "\n",
        "val_ds = tf.keras.preprocessing.image_dataset_from_directory(\n",
        "    data_dir, \n",
        "    validation_split=0.1, \n",
        "    seed=123,\n",
        "    subset='validation', \n",
        "    image_size=(img_height, img_width), \n",
        "    batch_size=batch_size\n",
        ")"
      ],
      "metadata": {
        "colab": {
          "base_uri": "https://localhost:8080/"
        },
        "id": "Rz3zJMoDb3cQ",
        "outputId": "1a448a72-31bf-44a3-8320-33474edc3929"
      },
      "execution_count": null,
      "outputs": [
        {
          "output_type": "stream",
          "name": "stdout",
          "text": [
            "Found 8461 files belonging to 50 classes.\n",
            "Using 7615 files for training.\n",
            "Found 8461 files belonging to 50 classes.\n",
            "Using 846 files for validation.\n"
          ]
        }
      ]
    },
    {
      "cell_type": "code",
      "source": [
        "num_classes = 50\n",
        "input_shape = (batch_size, img_height, img_width, 3)\n",
        "model = Sequential()\n",
        "model.add(tf.keras.layers.experimental.preprocessing.Rescaling(scale=1./255,input_shape=(img_height, img_width, 3)))\n",
        "model.add(Conv2D(32, kernel_size=(3, 3), activation='relu'))\n",
        "model.add(MaxPooling2D(pool_size=(2, 2)))\n",
        "model.add(Conv2D(64, kernel_size=(3, 3), activation='relu'))\n",
        "model.add(MaxPooling2D(pool_size=(2, 2)))\n",
        "model.add(Conv2D(128, kernel_size=(3, 3), activation='relu'))\n",
        "model.add(MaxPooling2D(pool_size=(2, 2)))\n",
        "model.add(Conv2D(256, kernel_size=(3, 3), activation='relu'))\n",
        "model.add(MaxPooling2D(pool_size=(2, 2)))\n",
        "model.add(Flatten())\n",
        "#model.add(Dense(512, activation='relu')) \n",
        "model.add(Dense(512, activation='relu', kernel_regularizer=regularizers.l2(0.01)))\n",
        "model.add(Dropout(0.3))\n",
        "model.add(Dense(num_classes, activation='softmax'))\n",
        "model.build(input_shape)\n",
        "model.summary()"
      ],
      "metadata": {
        "colab": {
          "base_uri": "https://localhost:8080/"
        },
        "id": "UJQCaOxkb85R",
        "outputId": "572ce9f6-4844-4d48-b9e9-1f1c22c1aab0"
      },
      "execution_count": null,
      "outputs": [
        {
          "output_type": "stream",
          "name": "stdout",
          "text": [
            "Model: \"sequential\"\n",
            "_________________________________________________________________\n",
            " Layer (type)                Output Shape              Param #   \n",
            "=================================================================\n",
            " rescaling (Rescaling)       (None, 224, 224, 3)       0         \n",
            "                                                                 \n",
            " conv2d (Conv2D)             (None, 222, 222, 32)      896       \n",
            "                                                                 \n",
            " max_pooling2d (MaxPooling2D  (None, 111, 111, 32)     0         \n",
            " )                                                               \n",
            "                                                                 \n",
            " conv2d_1 (Conv2D)           (None, 109, 109, 64)      18496     \n",
            "                                                                 \n",
            " max_pooling2d_1 (MaxPooling  (None, 54, 54, 64)       0         \n",
            " 2D)                                                             \n",
            "                                                                 \n",
            " conv2d_2 (Conv2D)           (None, 52, 52, 128)       73856     \n",
            "                                                                 \n",
            " max_pooling2d_2 (MaxPooling  (None, 26, 26, 128)      0         \n",
            " 2D)                                                             \n",
            "                                                                 \n",
            " conv2d_3 (Conv2D)           (None, 24, 24, 256)       295168    \n",
            "                                                                 \n",
            " max_pooling2d_3 (MaxPooling  (None, 12, 12, 256)      0         \n",
            " 2D)                                                             \n",
            "                                                                 \n",
            " flatten (Flatten)           (None, 36864)             0         \n",
            "                                                                 \n",
            " dense (Dense)               (None, 512)               18874880  \n",
            "                                                                 \n",
            " dropout (Dropout)           (None, 512)               0         \n",
            "                                                                 \n",
            " dense_1 (Dense)             (None, 50)                25650     \n",
            "                                                                 \n",
            "=================================================================\n",
            "Total params: 19,288,946\n",
            "Trainable params: 19,288,946\n",
            "Non-trainable params: 0\n",
            "_________________________________________________________________\n"
          ]
        }
      ]
    },
    {
      "cell_type": "code",
      "source": [
        "model.compile(optimizer='adam', loss='sparse_categorical_crossentropy', metrics=['accuracy'])\n",
        "early_stop = EarlyStopping(monitor='val_loss', patience=10)\n",
        "num_epochs = 30\n",
        "start_time = time.time()\n",
        "model_history = model.fit(\n",
        "    train_ds,\n",
        "    validation_data=val_ds,\n",
        "    epochs=num_epochs,\n",
        "    callbacks=[early_stop]\n",
        ")\n",
        "end_time = time.time()\n",
        "training_time = end_time - start_time\n",
        "\n",
        "loss, accuracy = model.evaluate(val_ds)\n",
        "print(f'Validation accuracy: {accuracy}')\n",
        "print(f'Validation loss: {loss:.4f}')\n",
        "training_time_minutes = round(training_time / 60, 2)\n",
        "print(f\"Training time: {training_time_minutes} minutes\")"
      ],
      "metadata": {
        "colab": {
          "base_uri": "https://localhost:8080/"
        },
        "id": "KwnfOZ1Nb9rn",
        "outputId": "619cbc17-c0e8-4917-baf8-d854af87bae5"
      },
      "execution_count": null,
      "outputs": [
        {
          "output_type": "stream",
          "name": "stdout",
          "text": [
            "Epoch 1/30\n",
            "238/238 [==============================] - 873s 4s/step - loss: 3.9859 - accuracy: 0.1248 - val_loss: 3.4362 - val_accuracy: 0.1548\n",
            "Epoch 2/30\n",
            "238/238 [==============================] - 32s 132ms/step - loss: 3.3438 - accuracy: 0.1824 - val_loss: 3.1820 - val_accuracy: 0.2210\n",
            "Epoch 3/30\n",
            "238/238 [==============================] - 34s 138ms/step - loss: 3.1795 - accuracy: 0.2206 - val_loss: 3.0811 - val_accuracy: 0.2329\n",
            "Epoch 4/30\n",
            "238/238 [==============================] - 32s 131ms/step - loss: 3.0924 - accuracy: 0.2415 - val_loss: 3.0297 - val_accuracy: 0.2660\n",
            "Epoch 5/30\n",
            "238/238 [==============================] - 32s 131ms/step - loss: 3.0330 - accuracy: 0.2562 - val_loss: 2.9829 - val_accuracy: 0.2766\n",
            "Epoch 6/30\n",
            "238/238 [==============================] - 32s 131ms/step - loss: 2.9770 - accuracy: 0.2658 - val_loss: 2.9142 - val_accuracy: 0.2624\n",
            "Epoch 7/30\n",
            "238/238 [==============================] - 33s 135ms/step - loss: 2.9262 - accuracy: 0.2865 - val_loss: 2.8391 - val_accuracy: 0.2979\n",
            "Epoch 8/30\n",
            "238/238 [==============================] - 34s 139ms/step - loss: 2.8790 - accuracy: 0.2976 - val_loss: 2.8739 - val_accuracy: 0.2884\n",
            "Epoch 9/30\n",
            "238/238 [==============================] - 32s 132ms/step - loss: 2.8397 - accuracy: 0.3094 - val_loss: 2.8307 - val_accuracy: 0.3168\n",
            "Epoch 10/30\n",
            "238/238 [==============================] - 32s 129ms/step - loss: 2.7824 - accuracy: 0.3307 - val_loss: 2.8756 - val_accuracy: 0.3227\n",
            "Epoch 11/30\n",
            "238/238 [==============================] - 32s 131ms/step - loss: 2.7398 - accuracy: 0.3422 - val_loss: 2.9193 - val_accuracy: 0.3085\n",
            "Epoch 12/30\n",
            "238/238 [==============================] - 33s 136ms/step - loss: 2.7063 - accuracy: 0.3555 - val_loss: 2.7737 - val_accuracy: 0.3499\n",
            "Epoch 13/30\n",
            "238/238 [==============================] - 32s 129ms/step - loss: 2.6546 - accuracy: 0.3672 - val_loss: 2.7913 - val_accuracy: 0.3440\n",
            "Epoch 14/30\n",
            "238/238 [==============================] - 32s 132ms/step - loss: 2.5992 - accuracy: 0.3972 - val_loss: 2.7736 - val_accuracy: 0.3652\n",
            "Epoch 15/30\n",
            "238/238 [==============================] - 32s 132ms/step - loss: 2.5499 - accuracy: 0.4074 - val_loss: 2.8308 - val_accuracy: 0.3522\n",
            "Epoch 16/30\n",
            "238/238 [==============================] - 33s 134ms/step - loss: 2.5178 - accuracy: 0.4219 - val_loss: 2.8160 - val_accuracy: 0.3735\n",
            "Epoch 17/30\n",
            "238/238 [==============================] - 32s 130ms/step - loss: 2.5109 - accuracy: 0.4407 - val_loss: 2.9386 - val_accuracy: 0.3712\n",
            "Epoch 18/30\n",
            "238/238 [==============================] - 32s 130ms/step - loss: 2.4669 - accuracy: 0.4527 - val_loss: 2.9572 - val_accuracy: 0.3511\n",
            "Epoch 19/30\n",
            "238/238 [==============================] - 32s 130ms/step - loss: 2.4549 - accuracy: 0.4764 - val_loss: 3.0174 - val_accuracy: 0.3605\n",
            "Epoch 20/30\n",
            "238/238 [==============================] - 32s 130ms/step - loss: 2.3914 - accuracy: 0.4970 - val_loss: 3.1528 - val_accuracy: 0.3629\n",
            "Epoch 21/30\n",
            "238/238 [==============================] - 33s 133ms/step - loss: 2.3186 - accuracy: 0.5140 - val_loss: 3.1678 - val_accuracy: 0.3641\n",
            "Epoch 22/30\n",
            "238/238 [==============================] - 32s 130ms/step - loss: 2.2813 - accuracy: 0.5367 - val_loss: 3.2025 - val_accuracy: 0.3617\n",
            "Epoch 23/30\n",
            "238/238 [==============================] - 32s 131ms/step - loss: 2.2405 - accuracy: 0.5502 - val_loss: 3.3179 - val_accuracy: 0.3593\n",
            "Epoch 24/30\n",
            "238/238 [==============================] - 32s 131ms/step - loss: 2.2181 - accuracy: 0.5609 - val_loss: 3.3408 - val_accuracy: 0.3558\n",
            "27/27 [==============================] - 4s 100ms/step - loss: 3.3408 - accuracy: 0.3558\n",
            "Validation accuracy: 0.35579195618629456\n",
            "Validation loss: 3.3408\n",
            "Training time: 28.8 minutes\n"
          ]
        }
      ]
    },
    {
      "cell_type": "code",
      "source": [
        "fig, (ax1, ax2) = plt.subplots(1, 2, figsize=(10, 4))\n",
        "ax1.plot(model_history.history['accuracy'], linestyle='-', linewidth=2, label='Train Accuracy')\n",
        "ax1.plot(model_history.history['val_accuracy'], linestyle='--', linewidth=2, label='Validation Accuracy')\n",
        "ax1.set_title('Model Accuracy', fontweight='bold')\n",
        "ax1.set_ylabel('Accuracy', fontweight='bold')\n",
        "ax1.set_xlabel('Epoch', fontweight='bold')\n",
        "ax1.legend(loc='upper left')\n",
        "ax2.plot(model_history.history['loss'], linestyle='-', linewidth=2, label='Train Loss')\n",
        "ax2.plot(model_history.history['val_loss'], linestyle='--', linewidth=2, label='Validation Loss')\n",
        "ax2.set_title('Model Loss', fontweight='bold')\n",
        "ax2.set_ylabel('Loss', fontweight='bold')\n",
        "ax2.set_xlabel('Epoch', fontweight='bold')\n",
        "ax2.legend(loc='upper left')\n",
        "plt.show()"
      ],
      "metadata": {
        "colab": {
          "base_uri": "https://localhost:8080/",
          "height": 410
        },
        "id": "zT9J2PmHcAf2",
        "outputId": "16e30349-de2d-4ece-8398-0a2c7977e1d4"
      },
      "execution_count": null,
      "outputs": [
        {
          "output_type": "display_data",
          "data": {
            "text/plain": [
              "<Figure size 1000x400 with 2 Axes>"
            ],
            "image/png": "[encoded data removed]"
          },
          "metadata": {}
        }
      ]
    },
    {
      "cell_type": "code",
      "source": [
        "val_labels = np.concatenate([y for x, y in val_ds], axis=0)\n",
        "val_class_labels = [val_ds.class_names[label] for label in val_labels]\n",
        "y_pred = model.predict(val_ds) \n",
        "y_pred_classes = np.argmax(y_pred, axis=1) \n",
        "y_pred_classes = y_pred_classes.tolist()\n",
        "\n",
        "artists_names = sorted(artist_df['name'].str.replace(' ', '_').tolist())\n",
        "n_artists = len(artists_names)\n",
        "artist_dict = {}\n",
        "for i in range(n_artists):\n",
        "    artist_dict[i] = artists_names[i]\n",
        "\n",
        "artist_names_pred = [artist_dict[label] for label in y_pred_classes]\n",
        "artist_names_true = val_class_labels\n",
        "\n",
        "print(classification_report(artist_names_true, artist_names_pred, zero_division=0))"
      ],
      "metadata": {
        "colab": {
          "base_uri": "https://localhost:8080/"
        },
        "id": "jaztHGWAcEr8",
        "outputId": "88fb52a5-9cbd-46a2-867b-f0fb2e75e6d2"
      },
      "execution_count": null,
      "outputs": [
        {
          "output_type": "stream",
          "name": "stdout",
          "text": [
            "27/27 [==============================] - 3s 78ms/step\n",
            "                           precision    recall  f1-score   support\n",
            "\n",
            "          Albrecht_Dürer       0.00      0.00      0.00        30\n",
            "           Albrecht_Dürer       0.00      0.00      0.00         0\n",
            "            Alfred_Sisley       0.00      0.00      0.00        24\n",
            "        Amedeo_Modigliani       0.11      0.11      0.11        19\n",
            "            Andrei_Rublev       0.00      0.00      0.00        10\n",
            "              Andy_Warhol       0.00      0.00      0.00        12\n",
            "         Camille_Pissarro       0.00      0.00      0.00        10\n",
            "               Caravaggio       0.00      0.00      0.00         4\n",
            "             Claude_Monet       0.00      0.00      0.00         7\n",
            "             Diego_Rivera       0.00      0.00      0.00         5\n",
            "          Diego_Velazquez       0.00      0.00      0.00        16\n",
            "              Edgar_Degas       0.09      0.11      0.10        72\n",
            "            Edouard_Manet       0.00      0.00      0.00         9\n",
            "             Edvard_Munch       0.00      0.00      0.00         6\n",
            "                 El_Greco       0.00      0.00      0.00        13\n",
            "         Eugene_Delacroix       0.00      0.00      0.00         3\n",
            "           Francisco_Goya       0.02      0.03      0.03        32\n",
            "              Frida_Kahlo       0.00      0.00      0.00        13\n",
            "           Georges_Seurat       0.00      0.00      0.00         5\n",
            "        Giotto_di_Bondone       0.00      0.00      0.00         9\n",
            "             Gustav_Klimt       0.00      0.00      0.00        15\n",
            "          Gustave_Courbet       0.00      0.00      0.00         2\n",
            "            Henri_Matisse       0.04      0.04      0.04        23\n",
            "           Henri_Rousseau       0.00      0.00      0.00         4\n",
            "Henri_de_Toulouse-Lautrec       0.00      0.00      0.00         8\n",
            "         Hieronymus_Bosch       0.00      0.00      0.00        11\n",
            "          Jackson_Pollock       0.00      0.00      0.00         4\n",
            "             Jan_van_Eyck       0.00      0.00      0.00         8\n",
            "                Joan_Miro       0.12      0.08      0.10        13\n",
            "         Kazimir_Malevich       0.00      0.00      0.00        14\n",
            "        Leonardo_da_Vinci       0.00      0.00      0.00        15\n",
            "             Marc_Chagall       0.00      0.00      0.00        24\n",
            "             Michelangelo       0.00      0.00      0.00         8\n",
            "           Mikhail_Vrubel       0.00      0.00      0.00        15\n",
            "            Pablo_Picasso       0.04      0.04      0.04        45\n",
            "             Paul_Cezanne       0.00      0.00      0.00         2\n",
            "             Paul_Gauguin       0.02      0.03      0.03        37\n",
            "                Paul_Klee       0.00      0.00      0.00        15\n",
            "        Peter_Paul_Rubens       0.00      0.00      0.00        13\n",
            "    Pierre-Auguste_Renoir       0.08      0.06      0.07        33\n",
            "            Piet_Mondrian       0.00      0.00      0.00         6\n",
            "           Pieter_Bruegel       0.00      0.00      0.00        13\n",
            "                  Raphael       0.00      0.00      0.00        13\n",
            "                Rembrandt       0.06      0.08      0.07        24\n",
            "            Rene_Magritte       0.00      0.00      0.00        23\n",
            "            Salvador_Dali       0.00      0.00      0.00        11\n",
            "        Sandro_Botticelli       0.00      0.00      0.00         8\n",
            "                   Titian       0.00      0.00      0.00        36\n",
            "       Vasiliy_Kandinskiy       0.00      0.00      0.00         2\n",
            "         Vincent_van_Gogh       0.08      0.11      0.09        97\n",
            "           William_Turner       0.00      0.00      0.00         5\n",
            "\n",
            "                 accuracy                           0.04       846\n",
            "                macro avg       0.01      0.01      0.01       846\n",
            "             weighted avg       0.03      0.04      0.03       846\n",
            "\n"
          ]
        }
      ]
    },
    {
      "cell_type": "code",
      "source": [
        "precision = precision_score(artist_names_true, artist_names_pred, average='macro', zero_division=0)\n",
        "print(\"Precision of the model\", precision)\n",
        "recall = recall_score(artist_names_true, artist_names_pred, average='macro', zero_division=0)\n",
        "print(\"Recall of the model\", recall)\n",
        "f1 = f1_score(artist_names_true, artist_names_pred, average='macro', zero_division=0)\n",
        "print(\"F1-score of the model\", f1)"
      ],
      "metadata": {
        "colab": {
          "base_uri": "https://localhost:8080/"
        },
        "id": "Q0NUeYcscFf6",
        "outputId": "2bab45a7-b697-4072-9472-1b52e1aadd3e"
      },
      "execution_count": null,
      "outputs": [
        {
          "output_type": "stream",
          "name": "stdout",
          "text": [
            "Precision of the model 0.012929836497151554\n",
            "Recall of the model 0.013663500667941678\n",
            "F1-score of the model 0.012986974276639002\n"
          ]
        }
      ]
    },
    {
      "cell_type": "code",
      "source": [
        "report = classification_report(artist_names_true, artist_names_pred, zero_division=0)\n",
        "\n",
        "f1_scores = {}\n",
        "for line in report.split('\\n')[2:-5]:\n",
        "    line = line.split()\n",
        "    if len(line) == 0:\n",
        "        continue\n",
        "    class_name = line[0]\n",
        "    f1_score = float(line[-1])\n",
        "    f1_scores[class_name] = f1_score\n",
        "\n",
        "top_classes = sorted(f1_scores.items(), key=lambda x: x[1], reverse=True)[:5]\n",
        "print(\"Top 5 classes by f1-score:\")\n",
        "for class_name, f1_score in top_classes:\n",
        "    print(class_name)"
      ],
      "metadata": {
        "colab": {
          "base_uri": "https://localhost:8080/"
        },
        "id": "BIaqLvCjcHUw",
        "outputId": "6b2072dc-3506-4437-ad13-5840c2eedd01"
      },
      "execution_count": null,
      "outputs": [
        {
          "output_type": "stream",
          "name": "stdout",
          "text": [
            "Top 5 classes by f1-score:\n",
            "Vincent_van_Gogh\n",
            "Edgar_Degas\n",
            "Pablo_Picasso\n",
            "Paul_Gauguin\n",
            "Titian\n"
          ]
        }
      ]
    }
  ]
}