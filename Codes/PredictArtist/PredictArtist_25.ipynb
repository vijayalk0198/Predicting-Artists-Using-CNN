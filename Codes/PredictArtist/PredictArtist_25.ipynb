{
  "nbformat": 4,
  "nbformat_minor": 0,
  "metadata": {
    "colab": {
      "provenance": [],
      "machine_shape": "hm"
    },
    "kernelspec": {
      "name": "python3",
      "display_name": "Python 3"
    },
    "language_info": {
      "name": "python"
    },
    "accelerator": "GPU",
    "gpuClass": "premium"
  },
  "cells": [
    {
      "cell_type": "code",
      "execution_count": null,
      "metadata": {
        "id": "cleFci2sIa0_"
      },
      "outputs": [],
      "source": [
        "import numpy as np \n",
        "import pandas as pd \n",
        "import seaborn as sns\n",
        "import matplotlib.pyplot as plt\n",
        "import os\n",
        "from scipy.stats import pearsonr\n",
        "import random\n",
        "import torch\n",
        "import torchvision.transforms.functional as TF\n",
        "import torchvision.transforms as transforms\n",
        "from PIL import Image\n",
        "import pathlib\n",
        "import tensorflow as tf\n",
        "import numpy as np\n",
        "import pandas as pd\n",
        "import os\n",
        "import PIL\n",
        "from tensorflow import keras\n",
        "from tensorflow.keras import layers\n",
        "from tensorflow.keras.models import Sequential\n",
        "from tensorflow.keras.layers import Dense, Dropout, Flatten, Conv2D, MaxPooling2D\n",
        "import glob\n",
        "import torchvision\n",
        "from torchvision import transforms\n",
        "from torch.utils.data import random_split, DataLoader\n",
        "import torch.nn as nn\n",
        "import torch.optim as optim\n",
        "import time\n",
        "from tensorflow.keras.callbacks import EarlyStopping\n",
        "from sklearn.metrics import classification_report\n",
        "from sklearn.metrics import precision_score\n",
        "from sklearn.metrics import f1_score\n",
        "from sklearn.metrics import recall_score\n",
        "from tensorflow.keras import regularizers"
      ]
    },
    {
      "cell_type": "code",
      "source": [
        "from google.colab import drive\n",
        "drive.mount('/content/drive')\n",
        "%cd /content/drive/MyDrive/"
      ],
      "metadata": {
        "colab": {
          "base_uri": "https://localhost:8080/"
        },
        "id": "7H8hMwJAIjuM",
        "outputId": "870c93b9-1e6d-4529-b4b1-c7aebced2752"
      },
      "execution_count": null,
      "outputs": [
        {
          "output_type": "stream",
          "name": "stdout",
          "text": [
            "Mounted at /content/drive\n",
            "/content/drive/MyDrive\n"
          ]
        }
      ]
    },
    {
      "cell_type": "code",
      "source": [
        "data_dir = pathlib.Path('images/images')"
      ],
      "metadata": {
        "id": "BJImqsNxIkuP"
      },
      "execution_count": null,
      "outputs": []
    },
    {
      "cell_type": "code",
      "source": [
        "artist_df = pd.read_csv('artists.csv')"
      ],
      "metadata": {
        "id": "jvRvEM-hImlc"
      },
      "execution_count": null,
      "outputs": []
    },
    {
      "cell_type": "code",
      "source": [
        "batch_size = 32\n",
        "img_height, img_width = 224, 224\n",
        "artists_names= sorted(artist_df['name'].str.replace(' ', '_').tolist())\n",
        "\n",
        "train_ds = tf.keras.preprocessing.image_dataset_from_directory(\n",
        "    data_dir, \n",
        "    validation_split=0.2, \n",
        "    seed=123,\n",
        "    subset='training',\n",
        "    image_size=(img_height, img_width), \n",
        "    batch_size=batch_size\n",
        ")\n",
        "\n",
        "val_ds = tf.keras.preprocessing.image_dataset_from_directory(\n",
        "    data_dir, \n",
        "    validation_split=0.2, \n",
        "    seed=123,\n",
        "    subset='validation', \n",
        "    image_size=(img_height, img_width), \n",
        "    batch_size=batch_size\n",
        ")"
      ],
      "metadata": {
        "colab": {
          "base_uri": "https://localhost:8080/"
        },
        "id": "RncK6j_KIoRj",
        "outputId": "e97de6cd-56bc-44d0-9c23-9297cd9d9e76"
      },
      "execution_count": null,
      "outputs": [
        {
          "output_type": "stream",
          "name": "stdout",
          "text": [
            "Found 8461 files belonging to 50 classes.\n",
            "Using 6769 files for training.\n",
            "Found 8461 files belonging to 50 classes.\n",
            "Using 1692 files for validation.\n"
          ]
        }
      ]
    },
    {
      "cell_type": "code",
      "source": [
        "num_classes = 50\n",
        "input_shape = (batch_size, img_height, img_width, 3)\n",
        "model = Sequential()\n",
        "model.add(tf.keras.layers.experimental.preprocessing.Rescaling(scale=1./255,input_shape=(img_height, img_width, 3)))\n",
        "model.add(tf.keras.layers.experimental.preprocessing.RandomFlip(\"horizontal\"))\n",
        "model.add(Conv2D(32, kernel_size=(3, 3), activation='relu'))\n",
        "model.add(MaxPooling2D(pool_size=(2, 2)))\n",
        "model.add(Conv2D(64, kernel_size=(3, 3), activation='relu'))\n",
        "model.add(MaxPooling2D(pool_size=(2, 2)))\n",
        "model.add(Conv2D(256, kernel_size=(3, 3), activation='relu'))\n",
        "model.add(MaxPooling2D(pool_size=(2, 2)))\n",
        "model.add(Flatten())\n",
        "model.add(Dense(512, activation='relu', kernel_regularizer=regularizers.l2(0.01)))\n",
        "model.add(Dropout(0.3))\n",
        "model.add(Dense(512, activation='relu', kernel_regularizer=regularizers.l2(0.01)))\n",
        "model.add(Dropout(0.3))\n",
        "model.add(Dense(num_classes, activation='softmax'))\n",
        "model.build(input_shape)\n",
        "model.summary()\n"
      ],
      "metadata": {
        "colab": {
          "base_uri": "https://localhost:8080/"
        },
        "id": "v8MCXnVmIqRN",
        "outputId": "e4048a3b-b656-4c08-a77e-83b145fc2b56"
      },
      "execution_count": null,
      "outputs": [
        {
          "output_type": "stream",
          "name": "stdout",
          "text": [
            "Model: \"sequential\"\n",
            "_________________________________________________________________\n",
            " Layer (type)                Output Shape              Param #   \n",
            "=================================================================\n",
            " rescaling (Rescaling)       (None, 224, 224, 3)       0         \n",
            "                                                                 \n",
            " random_flip (RandomFlip)    (None, 224, 224, 3)       0         \n",
            "                                                                 \n",
            " conv2d (Conv2D)             (None, 222, 222, 32)      896       \n",
            "                                                                 \n",
            " max_pooling2d (MaxPooling2D  (None, 111, 111, 32)     0         \n",
            " )                                                               \n",
            "                                                                 \n",
            " conv2d_1 (Conv2D)           (None, 109, 109, 64)      18496     \n",
            "                                                                 \n",
            " max_pooling2d_1 (MaxPooling  (None, 54, 54, 64)       0         \n",
            " 2D)                                                             \n",
            "                                                                 \n",
            " conv2d_2 (Conv2D)           (None, 52, 52, 256)       147712    \n",
            "                                                                 \n",
            " max_pooling2d_2 (MaxPooling  (None, 26, 26, 256)      0         \n",
            " 2D)                                                             \n",
            "                                                                 \n",
            " flatten (Flatten)           (None, 173056)            0         \n",
            "                                                                 \n",
            " dense (Dense)               (None, 512)               88605184  \n",
            "                                                                 \n",
            " dropout (Dropout)           (None, 512)               0         \n",
            "                                                                 \n",
            " dense_1 (Dense)             (None, 512)               262656    \n",
            "                                                                 \n",
            " dropout_1 (Dropout)         (None, 512)               0         \n",
            "                                                                 \n",
            " dense_2 (Dense)             (None, 50)                25650     \n",
            "                                                                 \n",
            "=================================================================\n",
            "Total params: 89,060,594\n",
            "Trainable params: 89,060,594\n",
            "Non-trainable params: 0\n",
            "_________________________________________________________________\n"
          ]
        }
      ]
    },
    {
      "cell_type": "code",
      "source": [
        "model.compile(optimizer='adam', loss='sparse_categorical_crossentropy', metrics=['accuracy'])\n",
        "early_stop = EarlyStopping(monitor='val_loss', patience=10)\n",
        "num_epochs = 50\n",
        "start_time = time.time()\n",
        "model_history = model.fit(\n",
        "    train_ds,\n",
        "    validation_data=val_ds,\n",
        "    epochs=num_epochs,\n",
        "    callbacks=[early_stop]\n",
        ")\n",
        "end_time = time.time()\n",
        "training_time = end_time - start_time\n",
        "\n",
        "loss, accuracy = model.evaluate(val_ds)\n",
        "print(f'Validation accuracy: {accuracy}')\n",
        "print(f'Validation loss: {loss:.4f}')\n",
        "training_time_minutes = round(training_time / 60, 2)\n",
        "print(f\"Training time: {training_time_minutes} minutes\")"
      ],
      "metadata": {
        "colab": {
          "base_uri": "https://localhost:8080/"
        },
        "id": "eR1kDMDpIs3k",
        "outputId": "aa2ba145-2191-4992-94cc-bf38d15c416c"
      },
      "execution_count": null,
      "outputs": [
        {
          "output_type": "stream",
          "name": "stdout",
          "text": [
            "Epoch 1/50\n",
            "212/212 [==============================] - 214s 923ms/step - loss: 5.9911 - accuracy: 0.1078 - val_loss: 4.2458 - val_accuracy: 0.1330\n",
            "Epoch 2/50\n",
            "212/212 [==============================] - 13s 61ms/step - loss: 3.9712 - accuracy: 0.1355 - val_loss: 3.6800 - val_accuracy: 0.1389\n",
            "Epoch 3/50\n",
            "212/212 [==============================] - 13s 62ms/step - loss: 3.6177 - accuracy: 0.1364 - val_loss: 3.4615 - val_accuracy: 0.1773\n",
            "Epoch 4/50\n",
            "212/212 [==============================] - 14s 62ms/step - loss: 3.4816 - accuracy: 0.1528 - val_loss: 3.3392 - val_accuracy: 0.1921\n",
            "Epoch 5/50\n",
            "212/212 [==============================] - 13s 61ms/step - loss: 3.4349 - accuracy: 0.1631 - val_loss: 3.3489 - val_accuracy: 0.1755\n",
            "Epoch 6/50\n",
            "212/212 [==============================] - 13s 62ms/step - loss: 3.3657 - accuracy: 0.1764 - val_loss: 3.2126 - val_accuracy: 0.2092\n",
            "Epoch 7/50\n",
            "212/212 [==============================] - 13s 61ms/step - loss: 3.2935 - accuracy: 0.1907 - val_loss: 3.2236 - val_accuracy: 0.2216\n",
            "Epoch 8/50\n",
            "212/212 [==============================] - 14s 63ms/step - loss: 3.2633 - accuracy: 0.2049 - val_loss: 3.1528 - val_accuracy: 0.2305\n",
            "Epoch 9/50\n",
            "212/212 [==============================] - 13s 61ms/step - loss: 3.2369 - accuracy: 0.2139 - val_loss: 3.1242 - val_accuracy: 0.2293\n",
            "Epoch 10/50\n",
            "212/212 [==============================] - 13s 62ms/step - loss: 3.1966 - accuracy: 0.2250 - val_loss: 3.0436 - val_accuracy: 0.2660\n",
            "Epoch 11/50\n",
            "212/212 [==============================] - 13s 61ms/step - loss: 3.1672 - accuracy: 0.2328 - val_loss: 3.0563 - val_accuracy: 0.2730\n",
            "Epoch 12/50\n",
            "212/212 [==============================] - 13s 61ms/step - loss: 3.1405 - accuracy: 0.2370 - val_loss: 3.0341 - val_accuracy: 0.2801\n",
            "Epoch 13/50\n",
            "212/212 [==============================] - 13s 61ms/step - loss: 3.1154 - accuracy: 0.2495 - val_loss: 3.0720 - val_accuracy: 0.2843\n",
            "Epoch 14/50\n",
            "212/212 [==============================] - 13s 61ms/step - loss: 3.1193 - accuracy: 0.2588 - val_loss: 2.9913 - val_accuracy: 0.2884\n",
            "Epoch 15/50\n",
            "212/212 [==============================] - 13s 61ms/step - loss: 3.0792 - accuracy: 0.2646 - val_loss: 2.9973 - val_accuracy: 0.2796\n",
            "Epoch 16/50\n",
            "212/212 [==============================] - 13s 61ms/step - loss: 3.0791 - accuracy: 0.2625 - val_loss: 2.9671 - val_accuracy: 0.3002\n",
            "Epoch 17/50\n",
            "212/212 [==============================] - 14s 62ms/step - loss: 3.0610 - accuracy: 0.2621 - val_loss: 3.0188 - val_accuracy: 0.3002\n",
            "Epoch 18/50\n",
            "212/212 [==============================] - 13s 61ms/step - loss: 3.0548 - accuracy: 0.2695 - val_loss: 2.9553 - val_accuracy: 0.3061\n",
            "Epoch 19/50\n",
            "212/212 [==============================] - 13s 61ms/step - loss: 3.0062 - accuracy: 0.2779 - val_loss: 2.9276 - val_accuracy: 0.3067\n",
            "Epoch 20/50\n",
            "212/212 [==============================] - 13s 61ms/step - loss: 2.9996 - accuracy: 0.2841 - val_loss: 2.9624 - val_accuracy: 0.3221\n",
            "Epoch 21/50\n",
            "212/212 [==============================] - 13s 61ms/step - loss: 2.9763 - accuracy: 0.2915 - val_loss: 2.8917 - val_accuracy: 0.3304\n",
            "Epoch 22/50\n",
            "212/212 [==============================] - 13s 61ms/step - loss: 2.9772 - accuracy: 0.2953 - val_loss: 2.8864 - val_accuracy: 0.3239\n",
            "Epoch 23/50\n",
            "212/212 [==============================] - 13s 62ms/step - loss: 2.9846 - accuracy: 0.2928 - val_loss: 2.9093 - val_accuracy: 0.3197\n",
            "Epoch 24/50\n",
            "212/212 [==============================] - 14s 62ms/step - loss: 2.9728 - accuracy: 0.2949 - val_loss: 2.8865 - val_accuracy: 0.3215\n",
            "Epoch 25/50\n",
            "212/212 [==============================] - 13s 61ms/step - loss: 2.9441 - accuracy: 0.3008 - val_loss: 2.9232 - val_accuracy: 0.3304\n",
            "Epoch 26/50\n",
            "212/212 [==============================] - 13s 61ms/step - loss: 2.9229 - accuracy: 0.3141 - val_loss: 2.8964 - val_accuracy: 0.3292\n",
            "Epoch 27/50\n",
            "212/212 [==============================] - 13s 61ms/step - loss: 2.9265 - accuracy: 0.3172 - val_loss: 2.8714 - val_accuracy: 0.3416\n",
            "Epoch 28/50\n",
            "212/212 [==============================] - 13s 61ms/step - loss: 2.9054 - accuracy: 0.3210 - val_loss: 2.8579 - val_accuracy: 0.3434\n",
            "Epoch 29/50\n",
            "212/212 [==============================] - 13s 61ms/step - loss: 2.9271 - accuracy: 0.3200 - val_loss: 2.8933 - val_accuracy: 0.3528\n",
            "Epoch 30/50\n",
            "212/212 [==============================] - 13s 61ms/step - loss: 2.8997 - accuracy: 0.3359 - val_loss: 2.7973 - val_accuracy: 0.3564\n",
            "Epoch 31/50\n",
            "212/212 [==============================] - 14s 62ms/step - loss: 2.8892 - accuracy: 0.3253 - val_loss: 2.8554 - val_accuracy: 0.3398\n",
            "Epoch 32/50\n",
            "212/212 [==============================] - 13s 61ms/step - loss: 2.8716 - accuracy: 0.3438 - val_loss: 2.8833 - val_accuracy: 0.3629\n",
            "Epoch 33/50\n",
            "212/212 [==============================] - 13s 61ms/step - loss: 2.8654 - accuracy: 0.3447 - val_loss: 2.8268 - val_accuracy: 0.3771\n",
            "Epoch 34/50\n",
            "212/212 [==============================] - 14s 62ms/step - loss: 2.8572 - accuracy: 0.3515 - val_loss: 2.8409 - val_accuracy: 0.3593\n",
            "Epoch 35/50\n",
            "212/212 [==============================] - 13s 61ms/step - loss: 2.8477 - accuracy: 0.3489 - val_loss: 2.8036 - val_accuracy: 0.3729\n",
            "Epoch 36/50\n",
            "212/212 [==============================] - 13s 61ms/step - loss: 2.8509 - accuracy: 0.3584 - val_loss: 2.9074 - val_accuracy: 0.3522\n",
            "Epoch 37/50\n",
            "212/212 [==============================] - 14s 62ms/step - loss: 2.8466 - accuracy: 0.3512 - val_loss: 2.8003 - val_accuracy: 0.3812\n",
            "Epoch 38/50\n",
            "212/212 [==============================] - 13s 61ms/step - loss: 2.8310 - accuracy: 0.3616 - val_loss: 2.8533 - val_accuracy: 0.3771\n",
            "Epoch 39/50\n",
            "212/212 [==============================] - 13s 61ms/step - loss: 2.8299 - accuracy: 0.3704 - val_loss: 2.8261 - val_accuracy: 0.3771\n",
            "Epoch 40/50\n",
            "212/212 [==============================] - 13s 61ms/step - loss: 2.8112 - accuracy: 0.3760 - val_loss: 2.8250 - val_accuracy: 0.3806\n",
            "53/53 [==============================] - 3s 41ms/step - loss: 2.8250 - accuracy: 0.3806\n",
            "Validation accuracy: 0.38061466813087463\n",
            "Validation loss: 2.8250\n",
            "Training time: 12.44 minutes\n"
          ]
        }
      ]
    },
    {
      "cell_type": "code",
      "source": [
        "fig, (ax1, ax2) = plt.subplots(1, 2, figsize=(10, 4))\n",
        "ax1.plot(model_history.history['accuracy'], linestyle='-', linewidth=2, label='Train Accuracy')\n",
        "ax1.plot(model_history.history['val_accuracy'], linestyle='--', linewidth=2, label='Validation Accuracy')\n",
        "ax1.set_title('Model Accuracy', fontweight='bold')\n",
        "ax1.set_ylabel('Accuracy', fontweight='bold')\n",
        "ax1.set_xlabel('Epoch', fontweight='bold')\n",
        "ax1.legend(loc='upper left')\n",
        "ax2.plot(model_history.history['loss'], linestyle='-', linewidth=2, label='Train Loss')\n",
        "ax2.plot(model_history.history['val_loss'], linestyle='--', linewidth=2, label='Validation Loss')\n",
        "ax2.set_title('Model Loss', fontweight='bold')\n",
        "ax2.set_ylabel('Loss', fontweight='bold')\n",
        "ax2.set_xlabel('Epoch', fontweight='bold')\n",
        "ax2.legend(loc='upper left')\n",
        "plt.show()"
      ],
      "metadata": {
        "colab": {
          "base_uri": "https://localhost:8080/",
          "height": 410
        },
        "id": "o1Ldq8oPIwHt",
        "outputId": "7a99d02a-167a-4d3a-e3c7-ab737b7cbee9"
      },
      "execution_count": null,
      "outputs": [
        {
          "output_type": "display_data",
          "data": {
            "text/plain": [
              "<Figure size 1000x400 with 2 Axes>"
            ],
            "image/png": "[encoded data removed]"
          },
          "metadata": {}
        }
      ]
    },
    {
      "cell_type": "code",
      "source": [
        "val_labels = np.concatenate([y for x, y in val_ds], axis=0)\n",
        "val_class_labels = [val_ds.class_names[label] for label in val_labels]\n",
        "y_pred = model.predict(val_ds) \n",
        "y_pred_classes = np.argmax(y_pred, axis=1) \n",
        "y_pred_classes = y_pred_classes.tolist()\n",
        "\n",
        "artists_names = sorted(artist_df['name'].str.replace(' ', '_').tolist())\n",
        "n_artists = len(artists_names)\n",
        "artist_dict = {}\n",
        "for i in range(n_artists):\n",
        "    artist_dict[i] = artists_names[i]\n",
        "\n",
        "artist_names_pred = [artist_dict[label] for label in y_pred_classes]\n",
        "artist_names_true = val_class_labels\n",
        "\n",
        "print(classification_report(artist_names_true, artist_names_pred, zero_division=0))"
      ],
      "metadata": {
        "colab": {
          "base_uri": "https://localhost:8080/"
        },
        "id": "M0j1c0_2IyD1",
        "outputId": "99ba51a4-8243-415f-fcda-e3b9875fe137"
      },
      "execution_count": null,
      "outputs": [
        {
          "output_type": "stream",
          "name": "stdout",
          "text": [
            "53/53 [==============================] - 3s 40ms/step\n",
            "                           precision    recall  f1-score   support\n",
            "\n",
            "          Albrecht_Dürer       0.00      0.00      0.00        66\n",
            "           Albrecht_Dürer       0.00      0.00      0.00         0\n",
            "            Alfred_Sisley       0.01      0.02      0.02        54\n",
            "        Amedeo_Modigliani       0.03      0.08      0.04        39\n",
            "            Andrei_Rublev       0.00      0.00      0.00        19\n",
            "              Andy_Warhol       0.00      0.00      0.00        24\n",
            "         Camille_Pissarro       0.00      0.00      0.00        16\n",
            "               Caravaggio       0.00      0.00      0.00        15\n",
            "             Claude_Monet       0.00      0.00      0.00        13\n",
            "             Diego_Rivera       0.00      0.00      0.00        15\n",
            "          Diego_Velazquez       0.00      0.00      0.00        22\n",
            "              Edgar_Degas       0.08      0.11      0.09       157\n",
            "            Edouard_Manet       0.00      0.00      0.00        26\n",
            "             Edvard_Munch       0.00      0.00      0.00        10\n",
            "                 El_Greco       0.00      0.00      0.00        21\n",
            "         Eugene_Delacroix       0.00      0.00      0.00         7\n",
            "           Francisco_Goya       0.00      0.00      0.00        53\n",
            "              Frida_Kahlo       0.00      0.00      0.00        24\n",
            "           Georges_Seurat       0.00      0.00      0.00         9\n",
            "        Giotto_di_Bondone       0.03      0.04      0.04        25\n",
            "             Gustav_Klimt       0.00      0.00      0.00        28\n",
            "          Gustave_Courbet       0.00      0.00      0.00        10\n",
            "            Henri_Matisse       0.00      0.00      0.00        39\n",
            "           Henri_Rousseau       0.00      0.00      0.00        16\n",
            "Henri_de_Toulouse-Lautrec       0.00      0.00      0.00        17\n",
            "         Hieronymus_Bosch       0.05      0.04      0.04        28\n",
            "          Jackson_Pollock       0.00      0.00      0.00         6\n",
            "             Jan_van_Eyck       0.00      0.00      0.00        13\n",
            "                Joan_Miro       0.00      0.00      0.00        22\n",
            "         Kazimir_Malevich       0.00      0.00      0.00        27\n",
            "        Leonardo_da_Vinci       0.04      0.03      0.03        36\n",
            "             Marc_Chagall       0.03      0.02      0.03        45\n",
            "             Michelangelo       0.00      0.00      0.00        11\n",
            "           Mikhail_Vrubel       0.00      0.00      0.00        31\n",
            "            Pablo_Picasso       0.00      0.00      0.00        90\n",
            "             Paul_Cezanne       0.00      0.00      0.00         6\n",
            "             Paul_Gauguin       0.01      0.01      0.01        68\n",
            "                Paul_Klee       0.00      0.00      0.00        31\n",
            "        Peter_Paul_Rubens       0.00      0.00      0.00        27\n",
            "    Pierre-Auguste_Renoir       0.03      0.05      0.04        59\n",
            "            Piet_Mondrian       0.00      0.00      0.00        15\n",
            "           Pieter_Bruegel       0.00      0.00      0.00        23\n",
            "                  Raphael       0.00      0.00      0.00        17\n",
            "                Rembrandt       0.05      0.07      0.06        55\n",
            "            Rene_Magritte       0.02      0.02      0.02        45\n",
            "            Salvador_Dali       0.00      0.00      0.00        23\n",
            "        Sandro_Botticelli       0.05      0.04      0.05        24\n",
            "                   Titian       0.01      0.02      0.01        52\n",
            "       Vasiliy_Kandinskiy       0.00      0.00      0.00        10\n",
            "         Vincent_van_Gogh       0.12      0.20      0.15       192\n",
            "           William_Turner       0.00      0.00      0.00        11\n",
            "\n",
            "                 accuracy                           0.04      1692\n",
            "                macro avg       0.01      0.01      0.01      1692\n",
            "             weighted avg       0.03      0.04      0.03      1692\n",
            "\n"
          ]
        }
      ]
    },
    {
      "cell_type": "code",
      "source": [
        "precision = precision_score(artist_names_true, artist_names_pred, average='macro', zero_division=0)\n",
        "print(\"Precision of the model\", precision)\n",
        "recall = recall_score(artist_names_true, artist_names_pred, average='macro', zero_division=0)\n",
        "print(\"Recall of the model\", recall)\n",
        "f1 = f1_score(artist_names_true, artist_names_pred, average='macro', zero_division=0)\n",
        "print(\"F1-score of the model\", f1)"
      ],
      "metadata": {
        "colab": {
          "base_uri": "https://localhost:8080/"
        },
        "id": "WLrhQnLjI01u",
        "outputId": "a48cada2-4aa1-41f7-ba6c-5f3368aa4ade"
      },
      "execution_count": null,
      "outputs": [
        {
          "output_type": "stream",
          "name": "stdout",
          "text": [
            "Precision of the model 0.011199553993181776\n",
            "Recall of the model 0.01468143281228644\n",
            "F1-score of the model 0.012277746165885225\n"
          ]
        }
      ]
    },
    {
      "cell_type": "code",
      "source": [
        "report = classification_report(artist_names_true, artist_names_pred, zero_division=0)\n",
        "\n",
        "f1_scores = {}\n",
        "for line in report.split('\\n')[2:-5]:\n",
        "    line = line.split()\n",
        "    if len(line) == 0:\n",
        "        continue\n",
        "    class_name = line[0]\n",
        "    f1_score = float(line[-1])\n",
        "    f1_scores[class_name] = f1_score\n",
        "\n",
        "top_classes = sorted(f1_scores.items(), key=lambda x: x[1], reverse=True)[:5]\n",
        "print(\"Top 5 classes by f1-score:\")\n",
        "for class_name, f1_score in top_classes:\n",
        "    print(class_name)"
      ],
      "metadata": {
        "colab": {
          "base_uri": "https://localhost:8080/"
        },
        "id": "7MoHrdkKI2rv",
        "outputId": "c5f72129-74ae-409c-bf7a-5b224ba61f35"
      },
      "execution_count": null,
      "outputs": [
        {
          "output_type": "stream",
          "name": "stdout",
          "text": [
            "Top 5 classes by f1-score:\n",
            "Vincent_van_Gogh\n",
            "Edgar_Degas\n",
            "Pablo_Picasso\n",
            "Paul_Gauguin\n",
            "Albrecht_Dürer\n"
          ]
        }
      ]
    }
  ]
}