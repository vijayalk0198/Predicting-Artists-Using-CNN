{
  "nbformat": 4,
  "nbformat_minor": 0,
  "metadata": {
    "colab": {
      "provenance": [],
      "machine_shape": "hm"
    },
    "kernelspec": {
      "name": "python3",
      "display_name": "Python 3"
    },
    "language_info": {
      "name": "python"
    },
    "accelerator": "GPU",
    "gpuClass": "premium"
  },
  "cells": [
    {
      "cell_type": "code",
      "execution_count": null,
      "metadata": {
        "id": "P_IhOusiNFS-"
      },
      "outputs": [],
      "source": [
        "import numpy as np \n",
        "import pandas as pd \n",
        "import seaborn as sns\n",
        "import matplotlib.pyplot as plt\n",
        "import os\n",
        "from scipy.stats import pearsonr\n",
        "import random\n",
        "import torch\n",
        "import torchvision.transforms.functional as TF\n",
        "import torchvision.transforms as transforms\n",
        "from PIL import Image\n",
        "import pathlib\n",
        "import tensorflow as tf\n",
        "import numpy as np\n",
        "import pandas as pd\n",
        "import os\n",
        "import PIL\n",
        "from tensorflow import keras\n",
        "from tensorflow.keras import layers\n",
        "from tensorflow.keras.models import Sequential\n",
        "from tensorflow.keras.layers import Dense, Dropout, Flatten, Conv2D, MaxPooling2D\n",
        "import glob\n",
        "import torchvision\n",
        "from torchvision import transforms\n",
        "from torch.utils.data import random_split, DataLoader\n",
        "import torch.nn as nn\n",
        "import torch.optim as optim\n",
        "import time\n",
        "from tensorflow.keras.callbacks import EarlyStopping\n",
        "from sklearn.metrics import classification_report\n",
        "from sklearn.metrics import precision_score\n",
        "from sklearn.metrics import f1_score\n",
        "from sklearn.metrics import recall_score\n",
        "from tensorflow.keras import regularizers"
      ]
    },
    {
      "cell_type": "code",
      "source": [
        "from google.colab import drive\n",
        "drive.mount('/content/drive')\n",
        "%cd /content/drive/MyDrive/"
      ],
      "metadata": {
        "colab": {
          "base_uri": "https://localhost:8080/"
        },
        "id": "lzRyvxMWNJCp",
        "outputId": "c41c0201-7c5f-495e-fe6e-9812cec1f058"
      },
      "execution_count": null,
      "outputs": [
        {
          "output_type": "stream",
          "name": "stdout",
          "text": [
            "Mounted at /content/drive\n",
            "/content/drive/MyDrive\n"
          ]
        }
      ]
    },
    {
      "cell_type": "code",
      "source": [
        "data_dir = pathlib.Path('images/images')"
      ],
      "metadata": {
        "id": "_nKHqmjBNLtM"
      },
      "execution_count": null,
      "outputs": []
    },
    {
      "cell_type": "code",
      "source": [
        "artist_df = pd.read_csv('artists.csv')"
      ],
      "metadata": {
        "id": "SMTimxYfNNhB"
      },
      "execution_count": null,
      "outputs": []
    },
    {
      "cell_type": "code",
      "source": [
        "batch_size = 32\n",
        "img_height, img_width = 224, 224\n",
        "artists_names= sorted(artist_df['name'].str.replace(' ', '_').tolist())\n",
        "\n",
        "train_ds = tf.keras.preprocessing.image_dataset_from_directory(\n",
        "    data_dir, \n",
        "    validation_split=0.2, \n",
        "    seed=123,\n",
        "    subset='training',\n",
        "    image_size=(img_height, img_width), \n",
        "    batch_size=batch_size\n",
        ")\n",
        "\n",
        "val_ds = tf.keras.preprocessing.image_dataset_from_directory(\n",
        "    data_dir, \n",
        "    validation_split=0.2, \n",
        "    seed=123,\n",
        "    subset='validation', \n",
        "    image_size=(img_height, img_width), \n",
        "    batch_size=batch_size\n",
        ")"
      ],
      "metadata": {
        "colab": {
          "base_uri": "https://localhost:8080/"
        },
        "id": "6KoGQs8gNPc4",
        "outputId": "af9a9835-8eae-4b3b-9371-2d0838edef15"
      },
      "execution_count": null,
      "outputs": [
        {
          "output_type": "stream",
          "name": "stdout",
          "text": [
            "Found 8461 files belonging to 50 classes.\n",
            "Using 6769 files for training.\n",
            "Found 8461 files belonging to 50 classes.\n",
            "Using 1692 files for validation.\n"
          ]
        }
      ]
    },
    {
      "cell_type": "code",
      "source": [
        "num_classes = 50\n",
        "input_shape = (batch_size, img_height, img_width, 3)\n",
        "model = Sequential()\n",
        "model.add(tf.keras.layers.experimental.preprocessing.Rescaling(scale=1./255,input_shape=(img_height, img_width, 3)))\n",
        "model.add(tf.keras.layers.experimental.preprocessing.RandomFlip(\"horizontal\"))\n",
        "model.add(tf.keras.layers.experimental.preprocessing.RandomFlip(\"vertical\"))\n",
        "model.add(tf.keras.layers.experimental.preprocessing.RandomRotation(0.2))\n",
        "model.add(layers.experimental.preprocessing.RandomZoom(0.1))\n",
        "model.add(Conv2D(32, kernel_size=(3, 3), activation='relu'))\n",
        "model.add(MaxPooling2D(pool_size=(2, 2)))\n",
        "model.add(Conv2D(64, kernel_size=(3, 3), activation='relu'))\n",
        "model.add(MaxPooling2D(pool_size=(2, 2)))\n",
        "model.add(Conv2D(256, kernel_size=(3, 3), activation='relu'))\n",
        "model.add(MaxPooling2D(pool_size=(2, 2)))\n",
        "model.add(Flatten())\n",
        "model.add(Dense(512, activation='relu', kernel_regularizer=regularizers.l2(0.01)))\n",
        "model.add(Dropout(0.3))\n",
        "model.add(Dense(512, activation='relu', kernel_regularizer=regularizers.l2(0.01)))\n",
        "model.add(Dropout(0.3))\n",
        "model.add(Dense(num_classes, activation='softmax'))\n",
        "model.build(input_shape)\n",
        "model.summary()\n"
      ],
      "metadata": {
        "colab": {
          "base_uri": "https://localhost:8080/"
        },
        "id": "8KDjNwzLNROb",
        "outputId": "90e4819f-9a5b-49b1-e33b-ec967e075f07"
      },
      "execution_count": null,
      "outputs": [
        {
          "output_type": "stream",
          "name": "stdout",
          "text": [
            "Model: \"sequential\"\n",
            "_________________________________________________________________\n",
            " Layer (type)                Output Shape              Param #   \n",
            "=================================================================\n",
            " rescaling (Rescaling)       (None, 224, 224, 3)       0         \n",
            "                                                                 \n",
            " random_flip (RandomFlip)    (None, 224, 224, 3)       0         \n",
            "                                                                 \n",
            " random_flip_1 (RandomFlip)  (None, 224, 224, 3)       0         \n",
            "                                                                 \n",
            " random_rotation (RandomRota  (None, 224, 224, 3)      0         \n",
            " tion)                                                           \n",
            "                                                                 \n",
            " random_zoom (RandomZoom)    (None, 224, 224, 3)       0         \n",
            "                                                                 \n",
            " conv2d (Conv2D)             (None, 222, 222, 32)      896       \n",
            "                                                                 \n",
            " max_pooling2d (MaxPooling2D  (None, 111, 111, 32)     0         \n",
            " )                                                               \n",
            "                                                                 \n",
            " conv2d_1 (Conv2D)           (None, 109, 109, 64)      18496     \n",
            "                                                                 \n",
            " max_pooling2d_1 (MaxPooling  (None, 54, 54, 64)       0         \n",
            " 2D)                                                             \n",
            "                                                                 \n",
            " conv2d_2 (Conv2D)           (None, 52, 52, 256)       147712    \n",
            "                                                                 \n",
            " max_pooling2d_2 (MaxPooling  (None, 26, 26, 256)      0         \n",
            " 2D)                                                             \n",
            "                                                                 \n",
            " flatten (Flatten)           (None, 173056)            0         \n",
            "                                                                 \n",
            " dense (Dense)               (None, 512)               88605184  \n",
            "                                                                 \n",
            " dropout (Dropout)           (None, 512)               0         \n",
            "                                                                 \n",
            " dense_1 (Dense)             (None, 512)               262656    \n",
            "                                                                 \n",
            " dropout_1 (Dropout)         (None, 512)               0         \n",
            "                                                                 \n",
            " dense_2 (Dense)             (None, 50)                25650     \n",
            "                                                                 \n",
            "=================================================================\n",
            "Total params: 89,060,594\n",
            "Trainable params: 89,060,594\n",
            "Non-trainable params: 0\n",
            "_________________________________________________________________\n"
          ]
        }
      ]
    },
    {
      "cell_type": "code",
      "source": [
        "model.compile(optimizer='adam', loss='sparse_categorical_crossentropy', metrics=['accuracy'])\n",
        "early_stop = EarlyStopping(monitor='val_loss', patience=10)\n",
        "num_epochs = 50\n",
        "start_time = time.time()\n",
        "model_history = model.fit(\n",
        "    train_ds,\n",
        "    validation_data=val_ds,\n",
        "    epochs=num_epochs,\n",
        "    callbacks=[early_stop]\n",
        ")\n",
        "end_time = time.time()\n",
        "training_time = end_time - start_time\n",
        "\n",
        "loss, accuracy = model.evaluate(val_ds)\n",
        "print(f'Validation accuracy: {accuracy}')\n",
        "print(f'Validation loss: {loss:.4f}')\n",
        "training_time_minutes = round(training_time / 60, 2)\n",
        "print(f\"Training time: {training_time_minutes} minutes\")"
      ],
      "metadata": {
        "colab": {
          "base_uri": "https://localhost:8080/"
        },
        "id": "bSP90oT1NTy2",
        "outputId": "d9317bb8-e016-4810-deb6-401240d9b608"
      },
      "execution_count": null,
      "outputs": [
        {
          "output_type": "stream",
          "name": "stdout",
          "text": [
            "Epoch 1/50\n",
            "212/212 [==============================] - 685s 3s/step - loss: 6.0349 - accuracy: 0.0959 - val_loss: 4.3164 - val_accuracy: 0.1194\n",
            "Epoch 2/50\n",
            "212/212 [==============================] - 14s 62ms/step - loss: 4.0155 - accuracy: 0.1269 - val_loss: 3.7241 - val_accuracy: 0.1590\n",
            "Epoch 3/50\n",
            "212/212 [==============================] - 14s 62ms/step - loss: 3.6565 - accuracy: 0.1401 - val_loss: 3.4384 - val_accuracy: 0.1566\n",
            "Epoch 4/50\n",
            "212/212 [==============================] - 14s 62ms/step - loss: 3.5095 - accuracy: 0.1567 - val_loss: 3.3617 - val_accuracy: 0.1820\n",
            "Epoch 5/50\n",
            "212/212 [==============================] - 14s 62ms/step - loss: 3.4250 - accuracy: 0.1647 - val_loss: 3.3612 - val_accuracy: 0.1619\n",
            "Epoch 6/50\n",
            "212/212 [==============================] - 14s 62ms/step - loss: 3.3666 - accuracy: 0.1699 - val_loss: 3.2999 - val_accuracy: 0.2122\n",
            "Epoch 7/50\n",
            "212/212 [==============================] - 14s 62ms/step - loss: 3.3152 - accuracy: 0.1887 - val_loss: 3.3004 - val_accuracy: 0.1868\n",
            "Epoch 8/50\n",
            "212/212 [==============================] - 13s 61ms/step - loss: 3.2710 - accuracy: 0.1969 - val_loss: 3.2306 - val_accuracy: 0.1956\n",
            "Epoch 9/50\n",
            "212/212 [==============================] - 14s 62ms/step - loss: 3.2097 - accuracy: 0.2015 - val_loss: 3.4570 - val_accuracy: 0.1584\n",
            "Epoch 10/50\n",
            "212/212 [==============================] - 13s 61ms/step - loss: 3.1729 - accuracy: 0.2087 - val_loss: 3.2320 - val_accuracy: 0.2021\n",
            "Epoch 11/50\n",
            "212/212 [==============================] - 13s 61ms/step - loss: 3.1261 - accuracy: 0.2130 - val_loss: 3.2702 - val_accuracy: 0.2069\n",
            "Epoch 12/50\n",
            "212/212 [==============================] - 14s 62ms/step - loss: 3.1293 - accuracy: 0.2139 - val_loss: 3.1254 - val_accuracy: 0.2252\n",
            "Epoch 13/50\n",
            "212/212 [==============================] - 14s 62ms/step - loss: 3.1139 - accuracy: 0.2138 - val_loss: 3.3651 - val_accuracy: 0.2015\n",
            "Epoch 14/50\n",
            "212/212 [==============================] - 14s 62ms/step - loss: 3.0804 - accuracy: 0.2188 - val_loss: 3.0482 - val_accuracy: 0.2364\n",
            "Epoch 15/50\n",
            "212/212 [==============================] - 13s 62ms/step - loss: 3.0859 - accuracy: 0.2203 - val_loss: 3.3434 - val_accuracy: 0.1980\n",
            "Epoch 16/50\n",
            "212/212 [==============================] - 14s 62ms/step - loss: 3.0821 - accuracy: 0.2185 - val_loss: 3.2789 - val_accuracy: 0.1968\n",
            "Epoch 17/50\n",
            "212/212 [==============================] - 14s 63ms/step - loss: 3.0573 - accuracy: 0.2272 - val_loss: 3.1914 - val_accuracy: 0.2069\n",
            "Epoch 18/50\n",
            "212/212 [==============================] - 14s 62ms/step - loss: 3.0484 - accuracy: 0.2284 - val_loss: 3.0823 - val_accuracy: 0.2270\n",
            "Epoch 19/50\n",
            "212/212 [==============================] - 14s 62ms/step - loss: 3.0402 - accuracy: 0.2294 - val_loss: 3.0909 - val_accuracy: 0.2423\n",
            "Epoch 20/50\n",
            "212/212 [==============================] - 14s 62ms/step - loss: 3.0414 - accuracy: 0.2343 - val_loss: 3.0417 - val_accuracy: 0.2411\n",
            "Epoch 21/50\n",
            "212/212 [==============================] - 14s 62ms/step - loss: 3.0287 - accuracy: 0.2356 - val_loss: 3.0191 - val_accuracy: 0.2447\n",
            "Epoch 22/50\n",
            "212/212 [==============================] - 14s 62ms/step - loss: 3.0128 - accuracy: 0.2347 - val_loss: 3.3457 - val_accuracy: 0.2110\n",
            "Epoch 23/50\n",
            "212/212 [==============================] - 14s 62ms/step - loss: 3.0123 - accuracy: 0.2380 - val_loss: 3.2319 - val_accuracy: 0.2376\n",
            "Epoch 24/50\n",
            "212/212 [==============================] - 13s 61ms/step - loss: 3.0108 - accuracy: 0.2443 - val_loss: 3.0524 - val_accuracy: 0.2453\n",
            "Epoch 25/50\n",
            "212/212 [==============================] - 14s 62ms/step - loss: 3.0039 - accuracy: 0.2407 - val_loss: 3.4274 - val_accuracy: 0.2110\n",
            "Epoch 26/50\n",
            "212/212 [==============================] - 13s 62ms/step - loss: 3.0029 - accuracy: 0.2373 - val_loss: 3.1913 - val_accuracy: 0.2411\n",
            "Epoch 27/50\n",
            "212/212 [==============================] - 14s 62ms/step - loss: 2.9626 - accuracy: 0.2497 - val_loss: 3.1898 - val_accuracy: 0.2411\n",
            "Epoch 28/50\n",
            "212/212 [==============================] - 13s 61ms/step - loss: 2.9728 - accuracy: 0.2503 - val_loss: 3.2443 - val_accuracy: 0.2364\n",
            "Epoch 29/50\n",
            "212/212 [==============================] - 13s 62ms/step - loss: 2.9705 - accuracy: 0.2508 - val_loss: 2.9480 - val_accuracy: 0.2689\n",
            "Epoch 30/50\n",
            "212/212 [==============================] - 14s 62ms/step - loss: 2.9878 - accuracy: 0.2516 - val_loss: 3.1328 - val_accuracy: 0.2577\n",
            "Epoch 31/50\n",
            "212/212 [==============================] - 14s 62ms/step - loss: 2.9694 - accuracy: 0.2557 - val_loss: 3.0199 - val_accuracy: 0.2618\n",
            "Epoch 32/50\n",
            "212/212 [==============================] - 13s 61ms/step - loss: 2.9513 - accuracy: 0.2562 - val_loss: 3.1072 - val_accuracy: 0.2400\n",
            "Epoch 33/50\n",
            "212/212 [==============================] - 14s 62ms/step - loss: 2.9407 - accuracy: 0.2636 - val_loss: 3.0892 - val_accuracy: 0.2530\n",
            "Epoch 34/50\n",
            "212/212 [==============================] - 13s 61ms/step - loss: 2.9329 - accuracy: 0.2659 - val_loss: 3.0390 - val_accuracy: 0.2571\n",
            "Epoch 35/50\n",
            "212/212 [==============================] - 14s 63ms/step - loss: 2.9562 - accuracy: 0.2576 - val_loss: 3.1220 - val_accuracy: 0.2535\n",
            "Epoch 36/50\n",
            "212/212 [==============================] - 13s 62ms/step - loss: 2.9271 - accuracy: 0.2647 - val_loss: 3.0199 - val_accuracy: 0.2595\n",
            "Epoch 37/50\n",
            "212/212 [==============================] - 14s 62ms/step - loss: 2.9503 - accuracy: 0.2683 - val_loss: 2.9258 - val_accuracy: 0.2943\n",
            "Epoch 38/50\n",
            "212/212 [==============================] - 14s 62ms/step - loss: 2.9346 - accuracy: 0.2701 - val_loss: 3.2017 - val_accuracy: 0.2488\n",
            "Epoch 39/50\n",
            "212/212 [==============================] - 14s 62ms/step - loss: 2.9036 - accuracy: 0.2726 - val_loss: 3.2683 - val_accuracy: 0.2518\n",
            "Epoch 40/50\n",
            "212/212 [==============================] - 13s 61ms/step - loss: 2.9147 - accuracy: 0.2656 - val_loss: 3.0208 - val_accuracy: 0.2872\n",
            "Epoch 41/50\n",
            "212/212 [==============================] - 13s 61ms/step - loss: 2.8972 - accuracy: 0.2708 - val_loss: 3.2933 - val_accuracy: 0.2352\n",
            "Epoch 42/50\n",
            "212/212 [==============================] - 13s 61ms/step - loss: 2.9094 - accuracy: 0.2760 - val_loss: 3.0782 - val_accuracy: 0.2849\n",
            "Epoch 43/50\n",
            "212/212 [==============================] - 13s 61ms/step - loss: 2.8980 - accuracy: 0.2758 - val_loss: 3.2393 - val_accuracy: 0.2553\n",
            "Epoch 44/50\n",
            "212/212 [==============================] - 14s 62ms/step - loss: 2.8968 - accuracy: 0.2769 - val_loss: 3.3778 - val_accuracy: 0.2400\n",
            "Epoch 45/50\n",
            "212/212 [==============================] - 14s 62ms/step - loss: 2.8797 - accuracy: 0.2733 - val_loss: 3.2925 - val_accuracy: 0.2441\n",
            "Epoch 46/50\n",
            "212/212 [==============================] - 14s 62ms/step - loss: 2.8736 - accuracy: 0.2860 - val_loss: 3.2235 - val_accuracy: 0.2553\n",
            "Epoch 47/50\n",
            "212/212 [==============================] - 13s 62ms/step - loss: 2.9055 - accuracy: 0.2755 - val_loss: 3.1097 - val_accuracy: 0.2677\n",
            "53/53 [==============================] - 3s 40ms/step - loss: 3.1097 - accuracy: 0.2677\n",
            "Validation accuracy: 0.2677305042743683\n",
            "Validation loss: 3.1097\n",
            "Training time: 21.8 minutes\n"
          ]
        }
      ]
    },
    {
      "cell_type": "code",
      "source": [
        "fig, (ax1, ax2) = plt.subplots(1, 2, figsize=(10, 4))\n",
        "ax1.plot(model_history.history['accuracy'], linestyle='-', linewidth=2, label='Train Accuracy')\n",
        "ax1.plot(model_history.history['val_accuracy'], linestyle='--', linewidth=2, label='Validation Accuracy')\n",
        "ax1.set_title('Model Accuracy', fontweight='bold')\n",
        "ax1.set_ylabel('Accuracy', fontweight='bold')\n",
        "ax1.set_xlabel('Epoch', fontweight='bold')\n",
        "ax1.legend(loc='upper left')\n",
        "ax2.plot(model_history.history['loss'], linestyle='-', linewidth=2, label='Train Loss')\n",
        "ax2.plot(model_history.history['val_loss'], linestyle='--', linewidth=2, label='Validation Loss')\n",
        "ax2.set_title('Model Loss', fontweight='bold')\n",
        "ax2.set_ylabel('Loss', fontweight='bold')\n",
        "ax2.set_xlabel('Epoch', fontweight='bold')\n",
        "ax2.legend(loc='upper left')\n",
        "plt.show()"
      ],
      "metadata": {
        "colab": {
          "base_uri": "https://localhost:8080/",
          "height": 410
        },
        "id": "MluR--j3NWMe",
        "outputId": "c92c9d44-95b1-4e7c-b430-05615b0d1954"
      },
      "execution_count": null,
      "outputs": [
        {
          "output_type": "display_data",
          "data": {
            "text/plain": [
              "<Figure size 1000x400 with 2 Axes>"
            ],
            "image/png": "[encoded data removed]"
          },
          "metadata": {}
        }
      ]
    },
    {
      "cell_type": "code",
      "source": [
        "val_labels = np.concatenate([y for x, y in val_ds], axis=0)\n",
        "val_class_labels = [val_ds.class_names[label] for label in val_labels]\n",
        "y_pred = model.predict(val_ds) \n",
        "y_pred_classes = np.argmax(y_pred, axis=1) \n",
        "y_pred_classes = y_pred_classes.tolist()\n",
        "\n",
        "artists_names = sorted(artist_df['name'].str.replace(' ', '_').tolist())\n",
        "n_artists = len(artists_names)\n",
        "artist_dict = {}\n",
        "for i in range(n_artists):\n",
        "    artist_dict[i] = artists_names[i]\n",
        "\n",
        "artist_names_pred = [artist_dict[label] for label in y_pred_classes]\n",
        "artist_names_true = val_class_labels\n",
        "\n",
        "print(classification_report(artist_names_true, artist_names_pred, zero_division=0))"
      ],
      "metadata": {
        "colab": {
          "base_uri": "https://localhost:8080/"
        },
        "id": "tH1nBwp7Ncbf",
        "outputId": "befb37aa-1ddb-462f-e8fa-d3bfa36a9208"
      },
      "execution_count": null,
      "outputs": [
        {
          "output_type": "stream",
          "name": "stdout",
          "text": [
            "53/53 [==============================] - 3s 40ms/step\n",
            "                           precision    recall  f1-score   support\n",
            "\n",
            "          Albrecht_Dürer       0.00      0.00      0.00        66\n",
            "           Albrecht_Dürer       0.00      0.00      0.00         0\n",
            "            Alfred_Sisley       0.00      0.00      0.00        54\n",
            "        Amedeo_Modigliani       0.00      0.00      0.00        39\n",
            "            Andrei_Rublev       0.00      0.00      0.00        19\n",
            "              Andy_Warhol       0.00      0.00      0.00        24\n",
            "         Camille_Pissarro       0.00      0.00      0.00        16\n",
            "               Caravaggio       0.00      0.00      0.00        15\n",
            "             Claude_Monet       0.00      0.00      0.00        13\n",
            "             Diego_Rivera       0.00      0.00      0.00        15\n",
            "          Diego_Velazquez       0.00      0.00      0.00        22\n",
            "              Edgar_Degas       0.06      0.06      0.06       157\n",
            "            Edouard_Manet       0.00      0.00      0.00        26\n",
            "             Edvard_Munch       0.00      0.00      0.00        10\n",
            "                 El_Greco       0.00      0.00      0.00        21\n",
            "         Eugene_Delacroix       0.00      0.00      0.00         7\n",
            "           Francisco_Goya       0.00      0.00      0.00        53\n",
            "              Frida_Kahlo       0.00      0.00      0.00        24\n",
            "           Georges_Seurat       0.00      0.00      0.00         9\n",
            "        Giotto_di_Bondone       0.00      0.00      0.00        25\n",
            "             Gustav_Klimt       0.00      0.00      0.00        28\n",
            "          Gustave_Courbet       0.00      0.00      0.00        10\n",
            "            Henri_Matisse       0.00      0.00      0.00        39\n",
            "           Henri_Rousseau       0.00      0.00      0.00        16\n",
            "Henri_de_Toulouse-Lautrec       0.00      0.00      0.00        17\n",
            "         Hieronymus_Bosch       0.00      0.00      0.00        28\n",
            "          Jackson_Pollock       0.00      0.00      0.00         6\n",
            "             Jan_van_Eyck       0.00      0.00      0.00        13\n",
            "                Joan_Miro       0.04      0.05      0.04        22\n",
            "         Kazimir_Malevich       0.14      0.04      0.06        27\n",
            "        Leonardo_da_Vinci       0.00      0.00      0.00        36\n",
            "             Marc_Chagall       0.00      0.00      0.00        45\n",
            "             Michelangelo       0.00      0.00      0.00        11\n",
            "           Mikhail_Vrubel       0.09      0.03      0.05        31\n",
            "            Pablo_Picasso       0.07      0.10      0.08        90\n",
            "             Paul_Cezanne       0.00      0.00      0.00         6\n",
            "             Paul_Gauguin       0.04      0.04      0.04        68\n",
            "                Paul_Klee       0.00      0.00      0.00        31\n",
            "        Peter_Paul_Rubens       0.00      0.00      0.00        27\n",
            "    Pierre-Auguste_Renoir       0.05      0.02      0.03        59\n",
            "            Piet_Mondrian       0.00      0.00      0.00        15\n",
            "           Pieter_Bruegel       0.00      0.00      0.00        23\n",
            "                  Raphael       0.00      0.00      0.00        17\n",
            "                Rembrandt       0.02      0.02      0.02        55\n",
            "            Rene_Magritte       0.00      0.00      0.00        45\n",
            "            Salvador_Dali       0.00      0.00      0.00        23\n",
            "        Sandro_Botticelli       0.00      0.00      0.00        24\n",
            "                   Titian       0.00      0.00      0.00        52\n",
            "       Vasiliy_Kandinskiy       0.00      0.00      0.00        10\n",
            "         Vincent_van_Gogh       0.11      0.43      0.18       192\n",
            "           William_Turner       0.00      0.00      0.00        11\n",
            "\n",
            "                 accuracy                           0.07      1692\n",
            "                macro avg       0.01      0.02      0.01      1692\n",
            "             weighted avg       0.03      0.07      0.04      1692\n",
            "\n"
          ]
        }
      ]
    },
    {
      "cell_type": "code",
      "source": [
        "precision = precision_score(artist_names_true, artist_names_pred, average='macro', zero_division=0)\n",
        "print(\"Precision of the model\", precision)\n",
        "recall = recall_score(artist_names_true, artist_names_pred, average='macro', zero_division=0)\n",
        "print(\"Recall of the model\", recall)\n",
        "f1 = f1_score(artist_names_true, artist_names_pred, average='macro', zero_division=0)\n",
        "print(\"F1-score of the model\", f1)"
      ],
      "metadata": {
        "colab": {
          "base_uri": "https://localhost:8080/"
        },
        "id": "16bjknFjNfBn",
        "outputId": "7fad15bd-092d-489a-a428-adf4c8b14249"
      },
      "execution_count": null,
      "outputs": [
        {
          "output_type": "stream",
          "name": "stdout",
          "text": [
            "Precision of the model 0.012241019422082635\n",
            "Recall of the model 0.01548988625437875\n",
            "F1-score of the model 0.010952427445211512\n"
          ]
        }
      ]
    },
    {
      "cell_type": "code",
      "source": [
        "report = classification_report(artist_names_true, artist_names_pred, zero_division=0)\n",
        "\n",
        "f1_scores = {}\n",
        "for line in report.split('\\n')[2:-5]:\n",
        "    line = line.split()\n",
        "    if len(line) == 0:\n",
        "        continue\n",
        "    class_name = line[0]\n",
        "    f1_score = float(line[-1])\n",
        "    f1_scores[class_name] = f1_score\n",
        "\n",
        "top_classes = sorted(f1_scores.items(), key=lambda x: x[1], reverse=True)[:5]\n",
        "print(\"Top 5 classes by f1-score:\")\n",
        "for class_name, f1_score in top_classes:\n",
        "    print(class_name)"
      ],
      "metadata": {
        "colab": {
          "base_uri": "https://localhost:8080/"
        },
        "id": "aKFJGUXjNhoh",
        "outputId": "3313fcb8-dff7-4ee7-bfd7-0451039608f2"
      },
      "execution_count": null,
      "outputs": [
        {
          "output_type": "stream",
          "name": "stdout",
          "text": [
            "Top 5 classes by f1-score:\n",
            "Vincent_van_Gogh\n",
            "Edgar_Degas\n",
            "Pablo_Picasso\n",
            "Paul_Gauguin\n",
            "Albrecht_Dürer\n"
          ]
        }
      ]
    }
  ]
}