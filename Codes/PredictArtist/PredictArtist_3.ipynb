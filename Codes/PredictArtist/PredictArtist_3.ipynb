{
  "nbformat": 4,
  "nbformat_minor": 0,
  "metadata": {
    "colab": {
      "provenance": [],
      "machine_shape": "hm"
    },
    "kernelspec": {
      "name": "python3",
      "display_name": "Python 3"
    },
    "language_info": {
      "name": "python"
    },
    "accelerator": "GPU",
    "gpuClass": "premium"
  },
  "cells": [
    {
      "cell_type": "code",
      "execution_count": null,
      "metadata": {
        "id": "iko1dXX8qDtx"
      },
      "outputs": [],
      "source": [
        "import numpy as np \n",
        "import pandas as pd \n",
        "import seaborn as sns\n",
        "import matplotlib.pyplot as plt\n",
        "import os\n",
        "from scipy.stats import pearsonr\n",
        "import random\n",
        "import torch\n",
        "import torchvision.transforms.functional as TF\n",
        "import torchvision.transforms as transforms\n",
        "from PIL import Image\n",
        "import pathlib\n",
        "import tensorflow as tf\n",
        "import numpy as np\n",
        "import pandas as pd\n",
        "import os\n",
        "import PIL\n",
        "from tensorflow import keras\n",
        "from tensorflow.keras import layers\n",
        "from tensorflow.keras.models import Sequential\n",
        "from tensorflow.keras.layers import Dense, Dropout, Flatten, Conv2D, MaxPooling2D\n",
        "import glob\n",
        "import torchvision\n",
        "from torchvision import transforms\n",
        "from torch.utils.data import random_split, DataLoader\n",
        "import torch.nn as nn\n",
        "import torch.optim as optim\n",
        "import time\n",
        "from tensorflow.keras.callbacks import EarlyStopping\n",
        "from sklearn.metrics import classification_report\n",
        "from sklearn.metrics import precision_score\n",
        "from sklearn.metrics import f1_score\n",
        "from sklearn.metrics import recall_score"
      ]
    },
    {
      "cell_type": "code",
      "source": [
        "from google.colab import drive\n",
        "drive.mount('/content/drive')\n",
        "%cd /content/drive/MyDrive/"
      ],
      "metadata": {
        "colab": {
          "base_uri": "https://localhost:8080/"
        },
        "id": "XfkRZ3kDqHwX",
        "outputId": "f046789e-a742-4757-8f8e-9f77c58601ac"
      },
      "execution_count": null,
      "outputs": [
        {
          "output_type": "stream",
          "name": "stdout",
          "text": [
            "Mounted at /content/drive\n",
            "/content/drive/MyDrive\n"
          ]
        }
      ]
    },
    {
      "cell_type": "code",
      "source": [
        "artist_df = pd.read_csv('artists.csv')"
      ],
      "metadata": {
        "id": "jQL-Ko91qKgy"
      },
      "execution_count": null,
      "outputs": []
    },
    {
      "cell_type": "code",
      "source": [
        "data_dir = pathlib.Path('images/images')"
      ],
      "metadata": {
        "id": "nh75NZwnqMDr"
      },
      "execution_count": null,
      "outputs": []
    },
    {
      "cell_type": "code",
      "source": [
        "batch_size = 32\n",
        "img_height, img_width = 224, 224\n",
        "artists_names= sorted(artist_df['name'].str.replace(' ', '_').tolist())\n",
        "\n",
        "train_ds = tf.keras.preprocessing.image_dataset_from_directory(\n",
        "    data_dir, \n",
        "    validation_split=0.3, \n",
        "    seed=123,\n",
        "    subset='training',\n",
        "    image_size=(img_height, img_width), \n",
        "    batch_size=batch_size\n",
        ")\n",
        "\n",
        "val_ds = tf.keras.preprocessing.image_dataset_from_directory(\n",
        "    data_dir, \n",
        "    validation_split=0.3, \n",
        "    seed=123,\n",
        "    subset='validation', \n",
        "    image_size=(img_height, img_width), \n",
        "    batch_size=batch_size\n",
        ")"
      ],
      "metadata": {
        "colab": {
          "base_uri": "https://localhost:8080/"
        },
        "id": "k3H0wsGNqNvJ",
        "outputId": "b113a18f-7e28-4516-c3f1-cea35f842475"
      },
      "execution_count": null,
      "outputs": [
        {
          "output_type": "stream",
          "name": "stdout",
          "text": [
            "Found 8461 files belonging to 50 classes.\n",
            "Using 5923 files for training.\n",
            "Found 8461 files belonging to 50 classes.\n",
            "Using 2538 files for validation.\n"
          ]
        }
      ]
    },
    {
      "cell_type": "code",
      "source": [
        "num_classes = 50\n",
        "input_shape = (batch_size, img_height, img_width, 3)\n",
        "model = Sequential()\n",
        "model.add(tf.keras.layers.experimental.preprocessing.Rescaling(scale=1./255,input_shape=(img_height, img_width, 3)))\n",
        "model.add(Conv2D(32, kernel_size=(3, 3), activation='relu'))\n",
        "model.add(MaxPooling2D(pool_size=(2, 2)))\n",
        "model.add(Conv2D(64, kernel_size=(3, 3), activation='relu'))\n",
        "model.add(MaxPooling2D(pool_size=(2, 2)))\n",
        "model.add(Conv2D(128, kernel_size=(3, 3), activation='relu'))\n",
        "model.add(MaxPooling2D(pool_size=(2, 2)))\n",
        "model.add(Conv2D(256, kernel_size=(3, 3), activation='relu'))\n",
        "model.add(MaxPooling2D(pool_size=(2, 2)))\n",
        "model.add(Flatten())\n",
        "model.add(Dense(512, activation='relu')) \n",
        "model.add(Dropout(0.1))\n",
        "model.add(Dense(num_classes, activation='softmax'))\n",
        "model.build(input_shape)\n",
        "model.summary()"
      ],
      "metadata": {
        "colab": {
          "base_uri": "https://localhost:8080/"
        },
        "id": "j8ChpfvJqRsU",
        "outputId": "88354b34-7285-4e2b-968b-d99edad9c22a"
      },
      "execution_count": null,
      "outputs": [
        {
          "output_type": "stream",
          "name": "stdout",
          "text": [
            "Model: \"sequential\"\n",
            "_________________________________________________________________\n",
            " Layer (type)                Output Shape              Param #   \n",
            "=================================================================\n",
            " rescaling (Rescaling)       (None, 224, 224, 3)       0         \n",
            "                                                                 \n",
            " conv2d (Conv2D)             (None, 222, 222, 32)      896       \n",
            "                                                                 \n",
            " max_pooling2d (MaxPooling2D  (None, 111, 111, 32)     0         \n",
            " )                                                               \n",
            "                                                                 \n",
            " conv2d_1 (Conv2D)           (None, 109, 109, 64)      18496     \n",
            "                                                                 \n",
            " max_pooling2d_1 (MaxPooling  (None, 54, 54, 64)       0         \n",
            " 2D)                                                             \n",
            "                                                                 \n",
            " conv2d_2 (Conv2D)           (None, 52, 52, 128)       73856     \n",
            "                                                                 \n",
            " max_pooling2d_2 (MaxPooling  (None, 26, 26, 128)      0         \n",
            " 2D)                                                             \n",
            "                                                                 \n",
            " conv2d_3 (Conv2D)           (None, 24, 24, 256)       295168    \n",
            "                                                                 \n",
            " max_pooling2d_3 (MaxPooling  (None, 12, 12, 256)      0         \n",
            " 2D)                                                             \n",
            "                                                                 \n",
            " flatten (Flatten)           (None, 36864)             0         \n",
            "                                                                 \n",
            " dense (Dense)               (None, 512)               18874880  \n",
            "                                                                 \n",
            " dropout (Dropout)           (None, 512)               0         \n",
            "                                                                 \n",
            " dense_1 (Dense)             (None, 50)                25650     \n",
            "                                                                 \n",
            "=================================================================\n",
            "Total params: 19,288,946\n",
            "Trainable params: 19,288,946\n",
            "Non-trainable params: 0\n",
            "_________________________________________________________________\n"
          ]
        }
      ]
    },
    {
      "cell_type": "code",
      "source": [
        "model.compile(optimizer='adam', loss='sparse_categorical_crossentropy', metrics=['accuracy'])\n",
        "early_stop = EarlyStopping(monitor='val_loss', patience=10)\n",
        "num_epochs = 30\n",
        "start_time = time.time()\n",
        "model_history = model.fit(\n",
        "    train_ds,\n",
        "    validation_data=val_ds,\n",
        "    epochs=num_epochs,\n",
        "    callbacks=[early_stop]\n",
        ")\n",
        "end_time = time.time()\n",
        "training_time = end_time - start_time\n",
        "\n",
        "loss, accuracy = model.evaluate(val_ds)\n",
        "print(f'Validation accuracy: {accuracy}')\n",
        "print(f'Validation loss: {loss:.4f}')\n",
        "training_time_minutes = round(training_time / 60, 2)\n",
        "print(f\"Training time: {training_time_minutes} minutes\")"
      ],
      "metadata": {
        "colab": {
          "base_uri": "https://localhost:8080/"
        },
        "id": "nIrpnZsDqSj9",
        "outputId": "23a2f54f-00bb-4684-c53b-3c4caab1f2c9"
      },
      "execution_count": null,
      "outputs": [
        {
          "output_type": "stream",
          "name": "stdout",
          "text": [
            "Epoch 1/30\n",
            "186/186 [==============================] - 1025s 5s/step - loss: 3.4095 - accuracy: 0.1525 - val_loss: 3.2038 - val_accuracy: 0.1974\n",
            "Epoch 2/30\n",
            "186/186 [==============================] - 31s 164ms/step - loss: 2.9196 - accuracy: 0.2455 - val_loss: 2.9533 - val_accuracy: 0.2333\n",
            "Epoch 3/30\n",
            "186/186 [==============================] - 31s 164ms/step - loss: 2.6081 - accuracy: 0.3090 - val_loss: 2.7186 - val_accuracy: 0.2959\n",
            "Epoch 4/30\n",
            "186/186 [==============================] - 31s 164ms/step - loss: 2.1684 - accuracy: 0.4054 - val_loss: 3.0943 - val_accuracy: 0.2943\n",
            "Epoch 5/30\n",
            "186/186 [==============================] - 32s 164ms/step - loss: 1.6236 - accuracy: 0.5487 - val_loss: 3.4209 - val_accuracy: 0.3093\n",
            "Epoch 6/30\n",
            "186/186 [==============================] - 32s 167ms/step - loss: 1.0945 - accuracy: 0.6833 - val_loss: 3.9224 - val_accuracy: 0.3109\n",
            "Epoch 7/30\n",
            "186/186 [==============================] - 31s 163ms/step - loss: 0.7086 - accuracy: 0.7915 - val_loss: 4.3830 - val_accuracy: 0.2983\n",
            "Epoch 8/30\n",
            "186/186 [==============================] - 31s 160ms/step - loss: 0.4823 - accuracy: 0.8572 - val_loss: 4.8917 - val_accuracy: 0.3148\n",
            "Epoch 9/30\n",
            "186/186 [==============================] - 31s 163ms/step - loss: 0.3622 - accuracy: 0.8980 - val_loss: 6.0775 - val_accuracy: 0.3168\n",
            "Epoch 10/30\n",
            "186/186 [==============================] - 32s 167ms/step - loss: 0.2795 - accuracy: 0.9208 - val_loss: 5.5257 - val_accuracy: 0.3042\n",
            "Epoch 11/30\n",
            "186/186 [==============================] - 32s 164ms/step - loss: 0.2178 - accuracy: 0.9369 - val_loss: 5.8954 - val_accuracy: 0.3160\n",
            "Epoch 12/30\n",
            "186/186 [==============================] - 31s 162ms/step - loss: 0.1801 - accuracy: 0.9488 - val_loss: 6.2126 - val_accuracy: 0.3065\n",
            "Epoch 13/30\n",
            "186/186 [==============================] - 32s 165ms/step - loss: 0.1511 - accuracy: 0.9602 - val_loss: 6.2136 - val_accuracy: 0.3223\n",
            "80/80 [==============================] - 9s 102ms/step - loss: 6.2136 - accuracy: 0.3223\n",
            "Validation accuracy: 0.3223010301589966\n",
            "Validation loss: 6.2136\n",
            "Training time: 24.14 minutes\n"
          ]
        }
      ]
    },
    {
      "cell_type": "code",
      "source": [
        "fig, (ax1, ax2) = plt.subplots(1, 2, figsize=(10, 4))\n",
        "ax1.plot(model_history.history['accuracy'], linestyle='-', linewidth=2, label='Train Accuracy')\n",
        "ax1.plot(model_history.history['val_accuracy'], linestyle='--', linewidth=2, label='Validation Accuracy')\n",
        "ax1.set_title('Model Accuracy', fontweight='bold')\n",
        "ax1.set_ylabel('Accuracy', fontweight='bold')\n",
        "ax1.set_xlabel('Epoch', fontweight='bold')\n",
        "ax1.legend(loc='upper left')\n",
        "ax2.plot(model_history.history['loss'], linestyle='-', linewidth=2, label='Train Loss')\n",
        "ax2.plot(model_history.history['val_loss'], linestyle='--', linewidth=2, label='Validation Loss')\n",
        "ax2.set_title('Model Loss', fontweight='bold')\n",
        "ax2.set_ylabel('Loss', fontweight='bold')\n",
        "ax2.set_xlabel('Epoch', fontweight='bold')\n",
        "ax2.legend(loc='upper left')\n",
        "plt.show()"
      ],
      "metadata": {
        "colab": {
          "base_uri": "https://localhost:8080/",
          "height": 410
        },
        "id": "Uwl4Gj_eqZ-G",
        "outputId": "59a8404f-4614-4ba5-de3b-53e3cda822ca"
      },
      "execution_count": null,
      "outputs": [
        {
          "output_type": "display_data",
          "data": {
            "text/plain": [
              "<Figure size 1000x400 with 2 Axes>"
            ],
            "image/png": "[encoded data removed]"
          },
          "metadata": {}
        }
      ]
    },
    {
      "cell_type": "code",
      "source": [
        "val_labels = np.concatenate([y for x, y in val_ds], axis=0)\n",
        "val_class_labels = [val_ds.class_names[label] for label in val_labels]\n",
        "y_pred = model.predict(val_ds) \n",
        "y_pred_classes = np.argmax(y_pred, axis=1) \n",
        "y_pred_classes = y_pred_classes.tolist()\n",
        "\n",
        "artists_names = sorted(artist_df['name'].str.replace(' ', '_').tolist())\n",
        "n_artists = len(artists_names)\n",
        "artist_dict = {}\n",
        "for i in range(n_artists):\n",
        "    artist_dict[i] = artists_names[i]\n",
        "\n",
        "artist_names_pred = [artist_dict[label] for label in y_pred_classes]\n",
        "artist_names_true = val_class_labels\n",
        "\n",
        "print(classification_report(artist_names_true, artist_names_pred, zero_division=0))"
      ],
      "metadata": {
        "colab": {
          "base_uri": "https://localhost:8080/"
        },
        "id": "Bj7T-Zz_qcgv",
        "outputId": "09d5a323-58e5-46ed-d379-5f1f6a321405"
      },
      "execution_count": null,
      "outputs": [
        {
          "output_type": "stream",
          "name": "stdout",
          "text": [
            "80/80 [==============================] - 9s 104ms/step\n",
            "                           precision    recall  f1-score   support\n",
            "\n",
            "          Albrecht_Dürer       0.00      0.00      0.00        99\n",
            "           Albrecht_Dürer       0.00      0.00      0.00         0\n",
            "            Alfred_Sisley       0.05      0.07      0.05        73\n",
            "        Amedeo_Modigliani       0.00      0.00      0.00        58\n",
            "            Andrei_Rublev       0.00      0.00      0.00        26\n",
            "              Andy_Warhol       0.00      0.00      0.00        38\n",
            "         Camille_Pissarro       0.00      0.00      0.00        28\n",
            "               Caravaggio       0.00      0.00      0.00        20\n",
            "             Claude_Monet       0.00      0.00      0.00        24\n",
            "             Diego_Rivera       0.20      0.04      0.07        23\n",
            "          Diego_Velazquez       0.03      0.03      0.03        34\n",
            "              Edgar_Degas       0.08      0.09      0.09       226\n",
            "            Edouard_Manet       0.00      0.00      0.00        43\n",
            "             Edvard_Munch       0.00      0.00      0.00        18\n",
            "                 El_Greco       0.00      0.00      0.00        27\n",
            "         Eugene_Delacroix       0.00      0.00      0.00         9\n",
            "           Francisco_Goya       0.02      0.01      0.02        84\n",
            "              Frida_Kahlo       0.07      0.07      0.07        29\n",
            "           Georges_Seurat       0.00      0.00      0.00        14\n",
            "        Giotto_di_Bondone       0.00      0.00      0.00        36\n",
            "             Gustav_Klimt       0.06      0.06      0.06        35\n",
            "          Gustave_Courbet       0.00      0.00      0.00        18\n",
            "            Henri_Matisse       0.03      0.04      0.03        57\n",
            "           Henri_Rousseau       0.00      0.00      0.00        22\n",
            "Henri_de_Toulouse-Lautrec       0.00      0.00      0.00        25\n",
            "         Hieronymus_Bosch       0.00      0.00      0.00        44\n",
            "          Jackson_Pollock       0.00      0.00      0.00         9\n",
            "             Jan_van_Eyck       0.08      0.05      0.06        22\n",
            "                Joan_Miro       0.00      0.00      0.00        31\n",
            "         Kazimir_Malevich       0.00      0.00      0.00        37\n",
            "        Leonardo_da_Vinci       0.00      0.00      0.00        56\n",
            "             Marc_Chagall       0.01      0.01      0.01        67\n",
            "             Michelangelo       0.00      0.00      0.00        18\n",
            "           Mikhail_Vrubel       0.03      0.02      0.02        54\n",
            "            Pablo_Picasso       0.04      0.04      0.04       128\n",
            "             Paul_Cezanne       0.00      0.00      0.00        11\n",
            "             Paul_Gauguin       0.02      0.01      0.01        94\n",
            "                Paul_Klee       0.02      0.02      0.02        52\n",
            "        Peter_Paul_Rubens       0.00      0.00      0.00        40\n",
            "    Pierre-Auguste_Renoir       0.02      0.02      0.02        94\n",
            "            Piet_Mondrian       0.00      0.00      0.00        21\n",
            "           Pieter_Bruegel       0.03      0.03      0.03        35\n",
            "                  Raphael       0.00      0.00      0.00        28\n",
            "                Rembrandt       0.04      0.08      0.06        79\n",
            "            Rene_Magritte       0.02      0.01      0.02        68\n",
            "            Salvador_Dali       0.00      0.00      0.00        38\n",
            "        Sandro_Botticelli       0.02      0.02      0.02        41\n",
            "                   Titian       0.04      0.05      0.05        79\n",
            "       Vasiliy_Kandinskiy       0.00      0.00      0.00        24\n",
            "         Vincent_van_Gogh       0.13      0.22      0.17       285\n",
            "           William_Turner       0.00      0.00      0.00        17\n",
            "\n",
            "                 accuracy                           0.05      2538\n",
            "                macro avg       0.02      0.02      0.02      2538\n",
            "             weighted avg       0.04      0.05      0.04      2538\n",
            "\n"
          ]
        }
      ]
    },
    {
      "cell_type": "code",
      "source": [
        "precision = precision_score(artist_names_true, artist_names_pred, average='macro', zero_division=0)\n",
        "print(\"Precision of the model\", precision)\n",
        "recall = recall_score(artist_names_true, artist_names_pred, average='macro', zero_division=0)\n",
        "print(\"Recall of the model\", recall)\n",
        "f1 = f1_score(artist_names_true, artist_names_pred, average='macro', zero_division=0)\n",
        "print(\"F1-score of the model\", f1)"
      ],
      "metadata": {
        "colab": {
          "base_uri": "https://localhost:8080/"
        },
        "id": "4S6By04bqg4w",
        "outputId": "16f3bc9a-4eec-4731-d3bc-6ab6d2a985db"
      },
      "execution_count": null,
      "outputs": [
        {
          "output_type": "stream",
          "name": "stdout",
          "text": [
            "Precision of the model 0.020647603095022955\n",
            "Recall of the model 0.01944732256219364\n",
            "F1-score of the model 0.018461141240173333\n"
          ]
        }
      ]
    },
    {
      "cell_type": "code",
      "source": [
        "report = classification_report(artist_names_true, artist_names_pred, zero_division=0)\n",
        "\n",
        "f1_scores = {}\n",
        "for line in report.split('\\n')[2:-5]:\n",
        "    line = line.split()\n",
        "    if len(line) == 0:\n",
        "        continue\n",
        "    class_name = line[0]\n",
        "    f1_score = float(line[-1])\n",
        "    f1_scores[class_name] = f1_score\n",
        "\n",
        "top_classes = sorted(f1_scores.items(), key=lambda x: x[1], reverse=True)[:5]\n",
        "print(\"Top 5 classes by f1-score:\")\n",
        "for class_name, f1_score in top_classes:\n",
        "    print(class_name)\n"
      ],
      "metadata": {
        "colab": {
          "base_uri": "https://localhost:8080/"
        },
        "id": "3AOPWqmoqh1a",
        "outputId": "db09d64c-e75f-4616-8508-76cab8addbdc"
      },
      "execution_count": null,
      "outputs": [
        {
          "output_type": "stream",
          "name": "stdout",
          "text": [
            "Top 5 classes by f1-score:\n",
            "Vincent_van_Gogh\n",
            "Edgar_Degas\n",
            "Pablo_Picasso\n",
            "Albrecht_Dürer\n",
            "Paul_Gauguin\n"
          ]
        }
      ]
    }
  ]
}